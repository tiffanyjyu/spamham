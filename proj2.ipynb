{
 "cells": [
  {
   "cell_type": "code",
   "execution_count": 1,
   "metadata": {
    "deletable": false,
    "editable": false
   },
   "outputs": [],
   "source": [
    "# Initialize Otter\n",
    "import otter\n",
    "grader = otter.Notebook()"
   ]
  },
  {
   "cell_type": "markdown",
   "metadata": {},
   "source": [
    "# Spam/Ham Classification\n",
    "## Feature Engineering, Logistic Regression, Cross Validation\n",
    "\n"
   ]
  },
  {
   "cell_type": "markdown",
   "metadata": {},
   "source": [
    "**Collaborators**: *list collaborators here*"
   ]
  },
  {
   "cell_type": "markdown",
   "metadata": {
    "nbgrader": {
     "grade": false,
     "grade_id": "proj2",
     "locked": true,
     "schema_version": 2,
     "solution": false
    }
   },
   "source": [
    "## This Assignment\n",
    "In this project, you will use what you've learned in class to create a classifier that can distinguish spam (junk or commercial or bulk) emails from ham (non-spam) emails. In addition to providing some skeleton code to fill in, we will evaluate your work based on your model's accuracy and your written responses in this notebook.\n",
    "\n",
    "After this project, you should feel comfortable with the following:\n",
    "\n",
    "- Feature engineering with text data\n",
    "- Using `sklearn` libraries to process data and fit models\n",
    "- Validating the performance of your model and minimizing overfitting\n",
    "- Generating and analyzing precision-recall curves\n",
    "\n",
    "## Warning\n",
    "This is a **real world** dataset– the emails you are trying to classify are actual spam and legitimate emails. As a result, some of the spam emails may be in poor taste or be considered inappropriate. We think the benefit of working with realistic data outweighs these innapropriate emails, and wanted to give a warning at the beginning of the project so that you are made aware."
   ]
  },
  {
   "cell_type": "markdown",
   "metadata": {},
   "source": [
    "## Disclaimer about `sns.distplot()`\n",
    "\n",
    "This project was designed for a slightly older version of seaborn, which does not support the new `displot` method taught in Lecture 9. Instead, in this project will occasionally call `distplot` (with a `t`). As you may have noticed in several of the previous assignments, use of the `distplot` function triggers a deprecation warning to notify the user that they should replace all deprecated functions with the updated version. Generally, warnings should not be suppressed but we will do so in this assignment to avoid cluttering.\n",
    "\n",
    "See the seaborn documentation on [distributions](https://seaborn.pydata.org/tutorial/distributions.html) and [functions](https://seaborn.pydata.org/tutorial/function_overview.html) for more details."
   ]
  },
  {
   "cell_type": "code",
   "execution_count": 2,
   "metadata": {},
   "outputs": [],
   "source": [
    "# Run this cell to suppress all FutureWarnings\n",
    "import warnings\n",
    "warnings.filterwarnings(\"ignore\", category=FutureWarning)"
   ]
  },
  {
   "cell_type": "markdown",
   "metadata": {},
   "source": [
    "## Score Breakdown\n",
    "Question | Points\n",
    "--- | ---\n",
    "1a | 1\n",
    "1b | 1\n",
    "1c | 2\n",
    "2 | 3\n",
    "3a | 2\n",
    "3b | 2\n",
    "4 | 2\n",
    "5 | 2\n",
    "6a | 1\n",
    "6b | 1\n",
    "6c | 2\n",
    "6d | 2\n",
    "6e | 1\n",
    "6f | 3\n",
    "7 | 6\n",
    "8 | 6\n",
    "9 | 3\n",
    "10 | 15\n",
    "Total | 55"
   ]
  },
  {
   "cell_type": "markdown",
   "metadata": {
    "nbgrader": {
     "grade": false,
     "grade_id": "p1",
     "locked": true,
     "schema_version": 2,
     "solution": false
    }
   },
   "source": [
    "# Part I - Initial Analysis"
   ]
  },
  {
   "cell_type": "code",
   "execution_count": 3,
   "metadata": {
    "ExecuteTime": {
     "end_time": "2019-04-03T20:17:41.341673Z",
     "start_time": "2019-04-03T20:17:41.330307Z"
    },
    "nbgrader": {
     "grade": false,
     "grade_id": "imports",
     "locked": true,
     "schema_version": 2,
     "solution": false
    }
   },
   "outputs": [],
   "source": [
    "import numpy as np\n",
    "import pandas as pd\n",
    "\n",
    "import matplotlib.pyplot as plt\n",
    "%matplotlib inline\n",
    "\n",
    "import seaborn as sns\n",
    "sns.set(style = \"whitegrid\", \n",
    "        color_codes = True,\n",
    "        font_scale = 1.5)"
   ]
  },
  {
   "cell_type": "markdown",
   "metadata": {
    "nbgrader": {
     "grade": false,
     "grade_id": "loading",
     "locked": true,
     "schema_version": 2,
     "solution": false
    }
   },
   "source": [
    "### Loading in the Data\n",
    "\n",
    "In email classification, our goal is to classify emails as spam or not spam (referred to as \"ham\") using features generated from the text in the email. \n",
    "\n",
    "The dataset consists of email messages and their labels (0 for ham, 1 for spam). Your labeled training dataset contains 8348 labeled examples, and the unlabeled test set contains 1000 unlabeled examples.\n",
    "\n",
    "Run the following cells to load in the data into DataFrames.\n",
    "\n",
    "The `train` DataFrame contains labeled data that you will use to train your model. It contains four columns:\n",
    "\n",
    "1. `id`: An identifier for the training example\n",
    "1. `subject`: The subject of the email\n",
    "1. `email`: The text of the email\n",
    "1. `spam`: 1 if the email is spam, 0 if the email is ham (not spam)\n",
    "\n",
    "The `test` DataFrame contains 1000 unlabeled emails. You will predict labels for these emails and submit your predictions to the autograder for evaluation."
   ]
  },
  {
   "cell_type": "code",
   "execution_count": 4,
   "metadata": {
    "ExecuteTime": {
     "end_time": "2019-04-03T20:17:42.181245Z",
     "start_time": "2019-04-03T20:17:41.343927Z"
    },
    "nbgrader": {
     "grade": false,
     "grade_id": "fetch-data",
     "locked": true,
     "schema_version": 2,
     "solution": false
    }
   },
   "outputs": [
    {
     "name": "stdout",
     "output_type": "stream",
     "text": [
      "Using version already downloaded: Mon Nov 16 00:00:09 2020\n",
      "MD5 hash of file: 0380c4cf72746622947b9ca5db9b8be8\n",
      "Using version already downloaded: Mon Nov 16 00:00:11 2020\n",
      "MD5 hash of file: a2e7abd8c7d9abf6e6fafc1d1f9ee6bf\n"
     ]
    },
    {
     "data": {
      "text/html": [
       "<div>\n",
       "<style scoped>\n",
       "    .dataframe tbody tr th:only-of-type {\n",
       "        vertical-align: middle;\n",
       "    }\n",
       "\n",
       "    .dataframe tbody tr th {\n",
       "        vertical-align: top;\n",
       "    }\n",
       "\n",
       "    .dataframe thead th {\n",
       "        text-align: right;\n",
       "    }\n",
       "</style>\n",
       "<table border=\"1\" class=\"dataframe\">\n",
       "  <thead>\n",
       "    <tr style=\"text-align: right;\">\n",
       "      <th></th>\n",
       "      <th>id</th>\n",
       "      <th>subject</th>\n",
       "      <th>email</th>\n",
       "      <th>spam</th>\n",
       "    </tr>\n",
       "  </thead>\n",
       "  <tbody>\n",
       "    <tr>\n",
       "      <th>0</th>\n",
       "      <td>0</td>\n",
       "      <td>Subject: A&amp;L Daily to be auctioned in bankrupt...</td>\n",
       "      <td>url: http://boingboing.net/#85534171\\n date: n...</td>\n",
       "      <td>0</td>\n",
       "    </tr>\n",
       "    <tr>\n",
       "      <th>1</th>\n",
       "      <td>1</td>\n",
       "      <td>Subject: Wired: \"Stronger ties between ISPs an...</td>\n",
       "      <td>url: http://scriptingnews.userland.com/backiss...</td>\n",
       "      <td>0</td>\n",
       "    </tr>\n",
       "    <tr>\n",
       "      <th>2</th>\n",
       "      <td>2</td>\n",
       "      <td>Subject: It's just too small                  ...</td>\n",
       "      <td>&lt;html&gt;\\n &lt;head&gt;\\n &lt;/head&gt;\\n &lt;body&gt;\\n &lt;font siz...</td>\n",
       "      <td>1</td>\n",
       "    </tr>\n",
       "    <tr>\n",
       "      <th>3</th>\n",
       "      <td>3</td>\n",
       "      <td>Subject: liberal defnitions\\n</td>\n",
       "      <td>depends on how much over spending vs. how much...</td>\n",
       "      <td>0</td>\n",
       "    </tr>\n",
       "    <tr>\n",
       "      <th>4</th>\n",
       "      <td>4</td>\n",
       "      <td>Subject: RE: [ILUG] Newbie seeks advice - Suse...</td>\n",
       "      <td>hehe sorry but if you hit caps lock twice the ...</td>\n",
       "      <td>0</td>\n",
       "    </tr>\n",
       "  </tbody>\n",
       "</table>\n",
       "</div>"
      ],
      "text/plain": [
       "   id                                            subject  \\\n",
       "0   0  Subject: A&L Daily to be auctioned in bankrupt...   \n",
       "1   1  Subject: Wired: \"Stronger ties between ISPs an...   \n",
       "2   2  Subject: It's just too small                  ...   \n",
       "3   3                      Subject: liberal defnitions\\n   \n",
       "4   4  Subject: RE: [ILUG] Newbie seeks advice - Suse...   \n",
       "\n",
       "                                               email  spam  \n",
       "0  url: http://boingboing.net/#85534171\\n date: n...     0  \n",
       "1  url: http://scriptingnews.userland.com/backiss...     0  \n",
       "2  <html>\\n <head>\\n </head>\\n <body>\\n <font siz...     1  \n",
       "3  depends on how much over spending vs. how much...     0  \n",
       "4  hehe sorry but if you hit caps lock twice the ...     0  "
      ]
     },
     "execution_count": 4,
     "metadata": {},
     "output_type": "execute_result"
    }
   ],
   "source": [
    "from utils import fetch_and_cache_gdrive\n",
    "fetch_and_cache_gdrive('1SCASpLZFKCp2zek-toR3xeKX3DZnBSyp', 'train.csv')\n",
    "fetch_and_cache_gdrive('1ZDFo9OTF96B5GP2Nzn8P8-AL7CTQXmC0', 'test.csv')\n",
    "\n",
    "original_training_data = pd.read_csv('data/train.csv')\n",
    "test = pd.read_csv('data/test.csv')\n",
    "\n",
    "# Convert the emails to lower case as a first step to processing the text\n",
    "original_training_data['email'] = original_training_data['email'].str.lower()\n",
    "test['email'] = test['email'].str.lower()\n",
    "\n",
    "original_training_data.head()"
   ]
  },
  {
   "cell_type": "markdown",
   "metadata": {
    "deletable": false,
    "editable": false,
    "nbgrader": {
     "grade": false,
     "grade_id": "cell-34476156ed73b800",
     "locked": true,
     "schema_version": 2,
     "solution": false
    }
   },
   "source": [
    "### Question 1a\n",
    "First, let's check if our data contains any missing values. Fill in the cell below to print the number of NaN values in each column. If there are NaN values, replace them with appropriate filler values (i.e., NaN values in the `subject` or `email` columns should be replaced with empty strings). Print the number of NaN values in each column after this modification to verify that there are no NaN values left.\n",
    "\n",
    "Note that while there are no NaN values in the `spam` column, we should be careful when replacing NaN labels. Doing so without consideration may introduce significant bias into our model when fitting.\n",
    "\n",
    "*The provided test checks that there are no missing values in your dataset.*\n",
    "\n",
    "<!--\n",
    "BEGIN QUESTION\n",
    "name: q1a\n",
    "points: 1\n",
    "-->"
   ]
  },
  {
   "cell_type": "code",
   "execution_count": 5,
   "metadata": {
    "ExecuteTime": {
     "end_time": "2019-04-03T20:17:42.203231Z",
     "start_time": "2019-04-03T20:17:42.185104Z"
    },
    "nbgrader": {
     "grade": false,
     "grade_id": "cell-b1fb39d9b651ca1b",
     "locked": false,
     "schema_version": 2,
     "solution": true
    }
   },
   "outputs": [
    {
     "name": "stdout",
     "output_type": "stream",
     "text": [
      "6\n",
      "0\n",
      "0\n",
      "0\n"
     ]
    }
   ],
   "source": [
    "print(len(original_training_data[original_training_data['subject'].isnull()]))\n",
    "print(len(original_training_data[original_training_data['email'].isnull()]))\n",
    "print(len(original_training_data[original_training_data['id'].isnull()]))\n",
    "print(len(original_training_data[original_training_data['spam'].isnull()]))\n",
    "\n",
    "original_training_data['subject'].replace(np.nan, '', regex=True,inplace=True)"
   ]
  },
  {
   "cell_type": "code",
   "execution_count": 6,
   "metadata": {
    "deletable": false,
    "editable": false
   },
   "outputs": [
    {
     "data": {
      "text/html": [
       "\n",
       "    \n",
       "    \n",
       "        <p>All tests passed!</p>\n",
       "    \n",
       "    "
      ],
      "text/plain": [
       "\n",
       "    All tests passed!\n",
       "    "
      ]
     },
     "execution_count": 6,
     "metadata": {},
     "output_type": "execute_result"
    }
   ],
   "source": [
    "grader.check(\"q1a\")"
   ]
  },
  {
   "cell_type": "markdown",
   "metadata": {
    "deletable": false,
    "editable": false,
    "nbgrader": {
     "grade": false,
     "grade_id": "q1",
     "locked": true,
     "schema_version": 2,
     "solution": false
    }
   },
   "source": [
    "### Question 1b\n",
    "\n",
    "In the cell below, print the text of the `email` field for the first ham and the first spam email in the original training set.\n",
    "\n",
    "*The provided tests just ensure that you have assigned `first_ham` and `first_spam` to rows in the data, but only the hidden tests check that you selected the correct observations.*\n",
    "\n",
    "<!--\n",
    "BEGIN QUESTION\n",
    "name: q1b\n",
    "points: 1\n",
    "-->"
   ]
  },
  {
   "cell_type": "code",
   "execution_count": 7,
   "metadata": {
    "ExecuteTime": {
     "end_time": "2019-04-03T20:17:42.247245Z",
     "start_time": "2019-04-03T20:17:42.228451Z"
    },
    "nbgrader": {
     "grade": false,
     "grade_id": "q1-answer",
     "locked": false,
     "schema_version": 2,
     "solution": true
    }
   },
   "outputs": [
    {
     "name": "stdout",
     "output_type": "stream",
     "text": [
      "url: http://boingboing.net/#85534171\n",
      " date: not supplied\n",
      " \n",
      " arts and letters daily, a wonderful and dense blog, has folded up its tent due \n",
      " to the bankruptcy of its parent company. a&l daily will be auctioned off by the \n",
      " receivers. link[1] discuss[2] (_thanks, misha!_)\n",
      " \n",
      " [1] http://www.aldaily.com/\n",
      " [2] http://www.quicktopic.com/boing/h/zlfterjnd6jf\n",
      " \n",
      " \n",
      "\n",
      "<html>\n",
      " <head>\n",
      " </head>\n",
      " <body>\n",
      " <font size=3d\"4\"><b> a man endowed with a 7-8\" hammer is simply<br>\n",
      "  better equipped than a man with a 5-6\"hammer. <br>\n",
      " <br>would you rather have<br>more than enough to get the job done or fall =\n",
      " short. it's totally up<br>to you. our methods are guaranteed to increase y=\n",
      " our size by 1-3\"<br> <a href=3d\"http://209.163.187.47/cgi-bin/index.php?10=\n",
      " 004\">come in here and see how</a>\n",
      " </body>\n",
      " </html>\n",
      " \n",
      " \n",
      " \n",
      "\n"
     ]
    }
   ],
   "source": [
    "first_ham = original_training_data.groupby(['spam']).first().iloc[0]['email']\n",
    "first_spam = original_training_data.groupby(['spam']).first().iloc[1]['email']\n",
    "print(first_ham)\n",
    "print(first_spam)"
   ]
  },
  {
   "cell_type": "code",
   "execution_count": 8,
   "metadata": {
    "deletable": false,
    "editable": false
   },
   "outputs": [
    {
     "data": {
      "text/html": [
       "\n",
       "    \n",
       "    \n",
       "        <p>All tests passed!</p>\n",
       "    \n",
       "    "
      ],
      "text/plain": [
       "\n",
       "    All tests passed!\n",
       "    "
      ]
     },
     "execution_count": 8,
     "metadata": {},
     "output_type": "execute_result"
    }
   ],
   "source": [
    "grader.check(\"q1b\")"
   ]
  },
  {
   "cell_type": "markdown",
   "metadata": {
    "deletable": false,
    "editable": false
   },
   "source": [
    "<!-- BEGIN QUESTION -->\n",
    "\n",
    "### Question 1c\n",
    "\n",
    "Discuss one thing you notice that is different between the two emails that might relate to the identification of spam.\n",
    "\n",
    "<!--\n",
    "BEGIN QUESTION\n",
    "name: q1c\n",
    "manual: True\n",
    "points: 2\n",
    "-->"
   ]
  },
  {
   "cell_type": "markdown",
   "metadata": {},
   "source": [
    "A ham email uses plain texts, while spam email uses HTML."
   ]
  },
  {
   "cell_type": "markdown",
   "metadata": {
    "nbgrader": {
     "grade": false,
     "grade_id": "cell-78513403ef52a957",
     "locked": true,
     "schema_version": 2,
     "solution": false
    }
   },
   "source": [
    "<!-- END QUESTION -->\n",
    "\n",
    "\n",
    "\n",
    "## Training Validation Split\n",
    "The training data we downloaded is all the data we have available for both training models and **validating** the models that we train.  We therefore need to split the training data into separate training and validation datsets.  You will need this **validation data** to assess the performance of your classifier once you are finished training. Note that we set the seed (random_state) to 42. This will produce a pseudo-random sequence of random numbers that is the same for every student. **Do not modify this in the following questions, as our tests depend on this random seed.**"
   ]
  },
  {
   "cell_type": "code",
   "execution_count": 9,
   "metadata": {
    "ExecuteTime": {
     "end_time": "2019-04-03T20:17:42.317970Z",
     "start_time": "2019-04-03T20:17:42.294532Z"
    },
    "nbgrader": {
     "grade": false,
     "grade_id": "cell-873194ed3e686dfb",
     "locked": true,
     "schema_version": 2,
     "solution": false
    }
   },
   "outputs": [],
   "source": [
    "# This creates a 90/10 train-validation split on our labeled data\n",
    "\n",
    "from sklearn.model_selection import train_test_split\n",
    "\n",
    "train, val = train_test_split(original_training_data, test_size=0.1, random_state=42)"
   ]
  },
  {
   "cell_type": "markdown",
   "metadata": {
    "nbgrader": {
     "grade": false,
     "grade_id": "feat-eng",
     "locked": true,
     "schema_version": 2,
     "solution": false
    }
   },
   "source": [
    "# Basic Feature Engineering\n",
    "\n",
    "We would like to take the text of an email and predict whether the email is ham or spam. This is a *classification* problem, so we can use logistic regression to train a classifier. Recall that to train an logistic regression model we need a numeric feature matrix $X$ and a vector of corresponding binary labels $y$.  Unfortunately, our data are text, not numbers. To address this, we can create numeric features derived from the email text and use those features for logistic regression.\n",
    "\n",
    "Each row of $X$ is an email. Each column of $X$ contains one feature for all the emails. We'll guide you through creating a simple feature, and you'll create more interesting ones as you try to increase the accuracy of your model."
   ]
  },
  {
   "cell_type": "markdown",
   "metadata": {
    "deletable": false,
    "editable": false,
    "nbgrader": {
     "grade": false,
     "grade_id": "q2",
     "locked": true,
     "schema_version": 2,
     "solution": false
    }
   },
   "source": [
    "### Question 2\n",
    "\n",
    "Create a function called `words_in_texts` that takes in a list of `words` and a pandas Series of email `texts`. It should output a 2-dimensional NumPy array containing one row for each email text. The row should contain either a 0 or a 1 for each word in the list: 0 if the word doesn't appear in the text and 1 if the word does. For example:\n",
    "\n",
    "```\n",
    ">>> words_in_texts(['hello', 'bye', 'world'], \n",
    "                   pd.Series(['hello', 'hello worldhello']))\n",
    "\n",
    "array([[1, 0, 0],\n",
    "       [1, 0, 1]])\n",
    "```\n",
    "\n",
    "*The provided tests make sure that your function works correctly, so that you can use it for future questions.*\n",
    "\n",
    "<!--\n",
    "BEGIN QUESTION\n",
    "name: q2\n",
    "points: 3\n",
    "-->"
   ]
  },
  {
   "cell_type": "code",
   "execution_count": 10,
   "metadata": {
    "ExecuteTime": {
     "end_time": "2019-04-03T20:17:42.337281Z",
     "start_time": "2019-04-03T20:17:42.320567Z"
    },
    "nbgrader": {
     "grade": false,
     "grade_id": "q2-answer",
     "locked": false,
     "schema_version": 2,
     "solution": true
    },
    "tags": [
     "student"
    ]
   },
   "outputs": [],
   "source": [
    "def words_in_texts(words, texts):\n",
    "    '''\n",
    "    Args:\n",
    "        words (list): words to find\n",
    "        texts (Series): strings to search in\n",
    "    \n",
    "    Returns:\n",
    "        NumPy array of 0s and 1s with shape (n, p) where n is the\n",
    "        number of texts and p is the number of words.\n",
    "    '''\n",
    "    indicator_array = np.array([texts.str.contains(i) for i in words]).T*1\n",
    "    return indicator_array"
   ]
  },
  {
   "cell_type": "code",
   "execution_count": 11,
   "metadata": {
    "deletable": false,
    "editable": false
   },
   "outputs": [
    {
     "data": {
      "text/html": [
       "\n",
       "    \n",
       "    \n",
       "        <p>All tests passed!</p>\n",
       "    \n",
       "    "
      ],
      "text/plain": [
       "\n",
       "    All tests passed!\n",
       "    "
      ]
     },
     "execution_count": 11,
     "metadata": {},
     "output_type": "execute_result"
    }
   ],
   "source": [
    "grader.check(\"q2\")"
   ]
  },
  {
   "cell_type": "markdown",
   "metadata": {
    "nbgrader": {
     "grade": false,
     "grade_id": "eda",
     "locked": true,
     "schema_version": 2,
     "solution": false
    }
   },
   "source": [
    "# Basic EDA\n",
    "\n",
    "We need to identify some features that allow us to distinguish spam emails from ham emails. One idea is to compare the distribution of a single feature in spam emails to the distribution of the same feature in ham emails. If the feature is itself a binary indicator, such as whether a certain word occurs in the text, this amounts to comparing the proportion of spam emails with the word to the proportion of ham emails with the word.\n"
   ]
  },
  {
   "cell_type": "markdown",
   "metadata": {
    "nbgrader": {
     "grade": false,
     "grade_id": "q3a",
     "locked": true,
     "schema_version": 2,
     "solution": false
    }
   },
   "source": [
    "The following plot (which was created using `sns.barplot`) compares the proportion of emails in each class containing a particular set of words. \n",
    "\n",
    "![training conditional proportions](images/training_conditional_proportions.png)\n",
    "\n",
    "You can use DataFrame's `.melt` method to \"unpivot\" a DataFrame. See the following code cell for an example."
   ]
  },
  {
   "cell_type": "code",
   "execution_count": 12,
   "metadata": {
    "ExecuteTime": {
     "end_time": "2019-04-03T20:17:42.428419Z",
     "start_time": "2019-04-03T20:17:42.386697Z"
    }
   },
   "outputs": [
    {
     "data": {
      "text/markdown": [
       "> Our Original DataFrame has a `type` column and some columns corresponding to words. You can think of each row as a sentence, and the value of 1 or 0 indicates the number of occurences of the word in this sentence."
      ],
      "text/plain": [
       "<IPython.core.display.Markdown object>"
      ]
     },
     "metadata": {},
     "output_type": "display_data"
    },
    {
     "data": {
      "text/html": [
       "<div>\n",
       "<style scoped>\n",
       "    .dataframe tbody tr th:only-of-type {\n",
       "        vertical-align: middle;\n",
       "    }\n",
       "\n",
       "    .dataframe tbody tr th {\n",
       "        vertical-align: top;\n",
       "    }\n",
       "\n",
       "    .dataframe thead th {\n",
       "        text-align: right;\n",
       "    }\n",
       "</style>\n",
       "<table border=\"1\" class=\"dataframe\">\n",
       "  <thead>\n",
       "    <tr style=\"text-align: right;\">\n",
       "      <th></th>\n",
       "      <th>word_1</th>\n",
       "      <th>word_2</th>\n",
       "      <th>type</th>\n",
       "    </tr>\n",
       "  </thead>\n",
       "  <tbody>\n",
       "    <tr>\n",
       "      <th>0</th>\n",
       "      <td>1</td>\n",
       "      <td>0</td>\n",
       "      <td>spam</td>\n",
       "    </tr>\n",
       "    <tr>\n",
       "      <th>1</th>\n",
       "      <td>0</td>\n",
       "      <td>1</td>\n",
       "      <td>ham</td>\n",
       "    </tr>\n",
       "    <tr>\n",
       "      <th>2</th>\n",
       "      <td>1</td>\n",
       "      <td>0</td>\n",
       "      <td>ham</td>\n",
       "    </tr>\n",
       "    <tr>\n",
       "      <th>3</th>\n",
       "      <td>0</td>\n",
       "      <td>1</td>\n",
       "      <td>ham</td>\n",
       "    </tr>\n",
       "  </tbody>\n",
       "</table>\n",
       "</div>"
      ],
      "text/plain": [
       "   word_1  word_2  type\n",
       "0       1       0  spam\n",
       "1       0       1   ham\n",
       "2       1       0   ham\n",
       "3       0       1   ham"
      ]
     },
     "metadata": {},
     "output_type": "display_data"
    },
    {
     "data": {
      "text/markdown": [
       "> `melt` will turn columns into entries in a variable column. Notice how `word_1` and `word_2` become entries in `variable`; their values are stored in the value column."
      ],
      "text/plain": [
       "<IPython.core.display.Markdown object>"
      ]
     },
     "metadata": {},
     "output_type": "display_data"
    },
    {
     "data": {
      "text/html": [
       "<div>\n",
       "<style scoped>\n",
       "    .dataframe tbody tr th:only-of-type {\n",
       "        vertical-align: middle;\n",
       "    }\n",
       "\n",
       "    .dataframe tbody tr th {\n",
       "        vertical-align: top;\n",
       "    }\n",
       "\n",
       "    .dataframe thead th {\n",
       "        text-align: right;\n",
       "    }\n",
       "</style>\n",
       "<table border=\"1\" class=\"dataframe\">\n",
       "  <thead>\n",
       "    <tr style=\"text-align: right;\">\n",
       "      <th></th>\n",
       "      <th>type</th>\n",
       "      <th>variable</th>\n",
       "      <th>value</th>\n",
       "    </tr>\n",
       "  </thead>\n",
       "  <tbody>\n",
       "    <tr>\n",
       "      <th>0</th>\n",
       "      <td>spam</td>\n",
       "      <td>word_1</td>\n",
       "      <td>1</td>\n",
       "    </tr>\n",
       "    <tr>\n",
       "      <th>1</th>\n",
       "      <td>ham</td>\n",
       "      <td>word_1</td>\n",
       "      <td>0</td>\n",
       "    </tr>\n",
       "    <tr>\n",
       "      <th>2</th>\n",
       "      <td>ham</td>\n",
       "      <td>word_1</td>\n",
       "      <td>1</td>\n",
       "    </tr>\n",
       "    <tr>\n",
       "      <th>3</th>\n",
       "      <td>ham</td>\n",
       "      <td>word_1</td>\n",
       "      <td>0</td>\n",
       "    </tr>\n",
       "    <tr>\n",
       "      <th>4</th>\n",
       "      <td>spam</td>\n",
       "      <td>word_2</td>\n",
       "      <td>0</td>\n",
       "    </tr>\n",
       "    <tr>\n",
       "      <th>5</th>\n",
       "      <td>ham</td>\n",
       "      <td>word_2</td>\n",
       "      <td>1</td>\n",
       "    </tr>\n",
       "    <tr>\n",
       "      <th>6</th>\n",
       "      <td>ham</td>\n",
       "      <td>word_2</td>\n",
       "      <td>0</td>\n",
       "    </tr>\n",
       "    <tr>\n",
       "      <th>7</th>\n",
       "      <td>ham</td>\n",
       "      <td>word_2</td>\n",
       "      <td>1</td>\n",
       "    </tr>\n",
       "  </tbody>\n",
       "</table>\n",
       "</div>"
      ],
      "text/plain": [
       "   type variable  value\n",
       "0  spam   word_1      1\n",
       "1   ham   word_1      0\n",
       "2   ham   word_1      1\n",
       "3   ham   word_1      0\n",
       "4  spam   word_2      0\n",
       "5   ham   word_2      1\n",
       "6   ham   word_2      0\n",
       "7   ham   word_2      1"
      ]
     },
     "metadata": {},
     "output_type": "display_data"
    }
   ],
   "source": [
    "from IPython.display import display, Markdown\n",
    "df = pd.DataFrame({\n",
    "    'word_1': [1, 0, 1, 0],\n",
    "    'word_2': [0, 1, 0, 1],\n",
    "    'type': ['spam', 'ham', 'ham', 'ham']\n",
    "})\n",
    "display(Markdown(\"> Our Original DataFrame has a `type` column and some columns corresponding to words. You can think of each row as a sentence, and the value of 1 or 0 indicates the number of occurences of the word in this sentence.\"))\n",
    "display(df);\n",
    "display(Markdown(\"> `melt` will turn columns into entries in a variable column. Notice how `word_1` and `word_2` become entries in `variable`; their values are stored in the value column.\"))\n",
    "display(df.melt(\"type\"))"
   ]
  },
  {
   "cell_type": "markdown",
   "metadata": {
    "deletable": false,
    "editable": false
   },
   "source": [
    "<!-- BEGIN QUESTION -->\n",
    "\n",
    "### Question 3a\n",
    "\n",
    "Create a bar chart like the one above comparing the proportion of spam and ham emails containing certain words. Choose a set of words that are different from the ones above, but also have different proportions for the two classes. Make sure to only consider emails from `train`.\n",
    "\n",
    "<!--\n",
    "BEGIN QUESTION\n",
    "name: q3a\n",
    "manual: True\n",
    "format: image\n",
    "points: 2\n",
    "-->"
   ]
  },
  {
   "cell_type": "code",
   "execution_count": 13,
   "metadata": {
    "ExecuteTime": {
     "end_time": "2019-04-03T20:17:43.145246Z",
     "start_time": "2019-04-03T20:17:42.430406Z"
    },
    "nbgrader": {
     "grade": true,
     "grade_id": "q3a-answer",
     "locked": false,
     "points": 2,
     "schema_version": 2,
     "solution": true
    }
   },
   "outputs": [
    {
     "data": {
      "text/plain": [
       "[Text(0.5, 1.0, 'Proportion of ham and spam in words')]"
      ]
     },
     "execution_count": 13,
     "metadata": {},
     "output_type": "execute_result"
    },
    {
     "data": {
      "image/png": "[encoded data removed]",
      "text/plain": [
       "<Figure size 432x288 with 1 Axes>"
      ]
     },
     "metadata": {},
     "output_type": "display_data"
    }
   ],
   "source": [
    "train=train.reset_index(drop=True) # We must do this in order to preserve the ordering of emails to labels for words_in_texts\n",
    "\n",
    "words = ['improve', 'content', 'dear', 'mime']\n",
    "words_table = pd.DataFrame(words_in_texts(words, train['email']), columns = words)\n",
    "words_table['type'] = train['spam']\n",
    "\n",
    "pro_ham = []\n",
    "pro_spam = []\n",
    "\n",
    "for i in words: \n",
    "    x = len(words_table.loc[(words_table['type'] == 0) & (words_table[i]==1)])/len(words_table.loc[words_table['type']==0])\n",
    "    pro_ham.append(x)\n",
    "    y = len(words_table.loc[(words_table['type']==1) & (words_table[i]==1)])/len(words_table.loc[words_table['type']==1])\n",
    "    pro_spam.append(y)\n",
    "\n",
    "t = {'proportion_ham': pro_ham, 'proportion_spam':pro_spam}\n",
    "df = pd.DataFrame(data = t)\n",
    "df['words'] = words\n",
    "df = df.set_index('words')\n",
    "final_df = df.plot.bar(rot = 0)\n",
    "final_df.set(ylabel = 'proportion', xlabel = 'words')\n",
    "final_df.set(title = 'Proportion of ham and spam in words')"
   ]
  },
  {
   "cell_type": "markdown",
   "metadata": {
    "nbgrader": {
     "grade": false,
     "grade_id": "q3b",
     "locked": true,
     "schema_version": 2,
     "solution": false
    }
   },
   "source": [
    "<!-- END QUESTION -->\n",
    "\n",
    "\n",
    "\n",
    "When the feature is binary, it makes sense to compare its proportions across classes (as in the previous question). Otherwise, if the feature can take on numeric values, we can compare the distributions of these values for different classes. "
   ]
  },
  {
   "cell_type": "markdown",
   "metadata": {
    "deletable": false,
    "editable": false
   },
   "source": [
    "<!-- BEGIN QUESTION -->\n",
    "\n",
    "### Question 3b\n",
    "\n",
    "![training conditional densities](images/training_conditional_densities.png)\n",
    "\n",
    "Create a *class conditional density plot* like the one above (using `sns.distplot`), comparing the distribution of the length of spam emails to the distribution of the length of ham emails in the training set. Set the x-axis limit from 0 to 50000.\n",
    "\n",
    "<!--\n",
    "BEGIN QUESTION\n",
    "name: q3b\n",
    "manual: True\n",
    "format: image\n",
    "points: 2\n",
    "-->"
   ]
  },
  {
   "cell_type": "code",
   "execution_count": 14,
   "metadata": {
    "ExecuteTime": {
     "end_time": "2019-04-03T20:17:43.492661Z",
     "start_time": "2019-04-03T20:17:43.149431Z"
    },
    "nbgrader": {
     "grade": true,
     "grade_id": "q3b-answer",
     "locked": false,
     "points": 2,
     "schema_version": 2,
     "solution": true
    }
   },
   "outputs": [
    {
     "data": {
      "text/plain": [
       "Text(0.5, 1, 'Distribution of the length of spam emails to ham emails')"
      ]
     },
     "execution_count": 14,
     "metadata": {},
     "output_type": "execute_result"
    },
    {
     "data": {
      "image/png": "[encoded data removed]",
      "text/plain": [
       "<Figure size 432x288 with 1 Axes>"
      ]
     },
     "metadata": {},
     "output_type": "display_data"
    }
   ],
   "source": [
    "sns.distplot(train[train['spam']==0]['email'].str.len(),hist=False,label='ham')\n",
    "sns.distplot(train[train['spam']==1]['email'].str.len(),hist=False,label='Spam')\n",
    "\n",
    "plt.ylabel('Distribution')\n",
    "plt.xlabel('Length of email body')\n",
    "plt.xlim(0,50000)\n",
    "plt.savefig('training_conditional_densities.png')\n",
    "plt.title('Distribution of the length of spam emails to ham emails')"
   ]
  },
  {
   "cell_type": "markdown",
   "metadata": {
    "nbgrader": {
     "grade": false,
     "grade_id": "classification",
     "locked": true,
     "schema_version": 2,
     "solution": false
    }
   },
   "source": [
    "<!-- END QUESTION -->\n",
    "\n",
    "\n",
    "\n",
    "# Basic Classification\n",
    "\n",
    "Notice that the output of `words_in_texts(words, train['email'])` is a numeric matrix containing features for each email. This means we can use it directly to train a classifier!"
   ]
  },
  {
   "cell_type": "markdown",
   "metadata": {
    "deletable": false,
    "editable": false,
    "nbgrader": {
     "grade": false,
     "grade_id": "q4",
     "locked": true,
     "schema_version": 2,
     "solution": false
    }
   },
   "source": [
    "### Question 4\n",
    "\n",
    "We've given you 5 words that might be useful as features to distinguish spam/ham emails. Use these words as well as the `train` DataFrame to create two NumPy arrays: `X_train` and `Y_train`.\n",
    "\n",
    "`X_train` should be a matrix of 0s and 1s created by using your `words_in_texts` function on all the emails in the training set.\n",
    "\n",
    "`Y_train` should be a vector of the correct labels for each email in the training set.\n",
    "\n",
    "*The provided tests check that the dimensions of your feature matrix (X) are correct, and that your features and labels are binary (i.e. consists of only 0's and 1's). It does not check that your function is correct; that was verified in a previous question.*\n",
    "<!--\n",
    "BEGIN QUESTION\n",
    "name: q4\n",
    "points: 2\n",
    "-->"
   ]
  },
  {
   "cell_type": "code",
   "execution_count": 15,
   "metadata": {
    "ExecuteTime": {
     "end_time": "2019-04-03T20:17:43.726012Z",
     "start_time": "2019-04-03T20:17:43.498088Z"
    },
    "nbgrader": {
     "grade": false,
     "grade_id": "q4-answer",
     "locked": false,
     "schema_version": 2,
     "solution": true
    },
    "tags": [
     "student"
    ]
   },
   "outputs": [
    {
     "data": {
      "text/plain": [
       "(array([[0, 0, 0, 0, 0],\n",
       "        [0, 0, 0, 0, 0],\n",
       "        [0, 0, 0, 0, 0],\n",
       "        [0, 0, 0, 0, 0],\n",
       "        [0, 0, 0, 1, 0]]),\n",
       " array([0, 0, 0, 0, 0]))"
      ]
     },
     "execution_count": 15,
     "metadata": {},
     "output_type": "execute_result"
    }
   ],
   "source": [
    "some_words = ['drug', 'bank', 'prescription', 'memo', 'private']\n",
    "\n",
    "X_train = words_in_texts(some_words, train['email'])\n",
    "Y_train = np.array(train['spam'])\n",
    "\n",
    "X_train[:5], Y_train[:5]"
   ]
  },
  {
   "cell_type": "code",
   "execution_count": 16,
   "metadata": {
    "deletable": false,
    "editable": false
   },
   "outputs": [
    {
     "data": {
      "text/html": [
       "\n",
       "    \n",
       "    \n",
       "        <p>All tests passed!</p>\n",
       "    \n",
       "    "
      ],
      "text/plain": [
       "\n",
       "    All tests passed!\n",
       "    "
      ]
     },
     "execution_count": 16,
     "metadata": {},
     "output_type": "execute_result"
    }
   ],
   "source": [
    "grader.check(\"q4\")"
   ]
  },
  {
   "cell_type": "markdown",
   "metadata": {
    "deletable": false,
    "editable": false,
    "nbgrader": {
     "grade": false,
     "grade_id": "q5",
     "locked": true,
     "schema_version": 2,
     "solution": false
    }
   },
   "source": [
    "### Question 5\n",
    "\n",
    "Now that we have matrices, we can build a model with `scikit-learn`! Using the [`LogisticRegression`](http://scikit-learn.org/stable/modules/generated/sklearn.linear_model.LogisticRegression.html) classifier, train a logistic regression model using `X_train` and `Y_train`. Then, output the model's training accuracy below. You should get an accuracy of around $0.75$\n",
    "\n",
    "*The provided test checks that you initialized your logistic regression model correctly.*\n",
    "\n",
    "<!--\n",
    "BEGIN QUESTION\n",
    "name: q5\n",
    "points: 2\n",
    "-->"
   ]
  },
  {
   "cell_type": "code",
   "execution_count": 17,
   "metadata": {
    "ExecuteTime": {
     "end_time": "2019-04-03T20:17:44.593918Z",
     "start_time": "2019-04-03T20:17:43.783872Z"
    },
    "nbgrader": {
     "grade": false,
     "grade_id": "q5-answer",
     "locked": false,
     "schema_version": 2,
     "solution": true
    },
    "tags": [
     "student"
    ]
   },
   "outputs": [
    {
     "name": "stdout",
     "output_type": "stream",
     "text": [
      "Training Accuracy:  0.7576201251164648\n"
     ]
    }
   ],
   "source": [
    "from sklearn.linear_model import LogisticRegression\n",
    "\n",
    "model = LogisticRegression()\n",
    "model.fit(X_train, Y_train)\n",
    "Y_pred = model.predict(X_train)\n",
    "\n",
    "training_accuracy = sum(Y_pred == Y_train)/len(Y_train)\n",
    "print(\"Training Accuracy: \", training_accuracy)"
   ]
  },
  {
   "cell_type": "code",
   "execution_count": 18,
   "metadata": {
    "deletable": false,
    "editable": false
   },
   "outputs": [
    {
     "data": {
      "text/html": [
       "\n",
       "    \n",
       "    \n",
       "        <p>All tests passed!</p>\n",
       "    \n",
       "    "
      ],
      "text/plain": [
       "\n",
       "    All tests passed!\n",
       "    "
      ]
     },
     "execution_count": 18,
     "metadata": {},
     "output_type": "execute_result"
    }
   ],
   "source": [
    "grader.check(\"q5\")"
   ]
  },
  {
   "cell_type": "markdown",
   "metadata": {},
   "source": [
    "## Evaluating Classifiers"
   ]
  },
  {
   "cell_type": "markdown",
   "metadata": {},
   "source": [
    "That doesn't seem too shabby! But the classifier you made above isn't as good as the accuracy would make you believe. First, we are evaluating accuracy on the training set, which may provide a misleading accuracy measure. Accuracy on the training set doesn't always translate to accuracy in the real world (on the test set). In future parts of this analysis, we will hold out some of our data for model validation and comparison.\n",
    "\n",
    "Presumably, our classifier will be used for **filtering**, i.e. preventing messages labeled `spam` from reaching someone's inbox. There are two kinds of errors we can make:\n",
    "- False positive (FP): a ham email gets flagged as spam and filtered out of the inbox.\n",
    "- False negative (FN): a spam email gets mislabeled as ham and ends up in the inbox.\n",
    "\n",
    "To be clear, we label spam emails as 1 and ham emails as 0. These definitions depend both on the true labels and the predicted labels. False positives and false negatives may be of differing importance, leading us to consider more ways of evaluating a classifier, in addition to overall accuracy:\n",
    "\n",
    "**Precision** measures the proportion $\\frac{\\text{TP}}{\\text{TP} + \\text{FP}}$ of emails flagged as spam that are actually spam.\n",
    "\n",
    "**Recall** measures the proportion $\\frac{\\text{TP}}{\\text{TP} + \\text{FN}}$ of spam emails that were correctly flagged as spam. \n",
    "\n",
    "**False-alarm rate** measures the proportion $\\frac{\\text{FP}}{\\text{FP} + \\text{TN}}$ of ham emails that were incorrectly flagged as spam. \n",
    "\n",
    "The two graphics below may help you understand precision and recall visually:\n",
    "\n",
    "<img src=\"https://upload.wikimedia.org/wikipedia/commons/thumb/2/26/Precisionrecall.svg/700px-Precisionrecall.svg.png\" width=\"500px\">\n",
    "\n",
    "Note that a true positive (TP) is a spam email that is classified as spam, and a true negative (TN) is a ham email that is classified as ham."
   ]
  },
  {
   "cell_type": "markdown",
   "metadata": {
    "deletable": false,
    "editable": false,
    "nbgrader": {
     "grade": false,
     "grade_id": "q6",
     "locked": true,
     "schema_version": 2,
     "solution": false
    }
   },
   "source": [
    "### Question 6a\n",
    "\n",
    "Suppose we have a classifier `zero_predictor` that always predicts 0 (never predicts positive). How many false positives and false negatives would this classifier have if it were evaluated on the training set and its results were compared to `Y_train`? Fill in the variables below (feel free to hard code your answers for this part):\n",
    "\n",
    "*Tests in Question 6 only check that you have assigned appropriate types of values to each response variable, but do not check that your answers are correct.*\n",
    "\n",
    "<!--\n",
    "BEGIN QUESTION\n",
    "name: q6a\n",
    "points: 1\n",
    "-->"
   ]
  },
  {
   "cell_type": "code",
   "execution_count": 19,
   "metadata": {
    "ExecuteTime": {
     "end_time": "2019-04-03T20:20:13.853633Z",
     "start_time": "2019-04-03T20:20:13.825724Z"
    },
    "nbgrader": {
     "grade": false,
     "grade_id": "q6a-answer",
     "locked": false,
     "schema_version": 2,
     "solution": true
    }
   },
   "outputs": [
    {
     "data": {
      "text/plain": [
       "(0, 1918)"
      ]
     },
     "execution_count": 19,
     "metadata": {},
     "output_type": "execute_result"
    }
   ],
   "source": [
    "zero_predictor_fp = 0\n",
    "zero_predictor_fn = sum(Y_train == 1)\n",
    "zero_predictor_fp, zero_predictor_fn"
   ]
  },
  {
   "cell_type": "code",
   "execution_count": 20,
   "metadata": {
    "deletable": false,
    "editable": false
   },
   "outputs": [
    {
     "data": {
      "text/html": [
       "\n",
       "    \n",
       "    \n",
       "        <p>All tests passed!</p>\n",
       "    \n",
       "    "
      ],
      "text/plain": [
       "\n",
       "    All tests passed!\n",
       "    "
      ]
     },
     "execution_count": 20,
     "metadata": {},
     "output_type": "execute_result"
    }
   ],
   "source": [
    "grader.check(\"q6a\")"
   ]
  },
  {
   "cell_type": "markdown",
   "metadata": {
    "deletable": false,
    "editable": false
   },
   "source": [
    "### Question 6b\n",
    "\n",
    "What is the accuracy and recall of `zero_predictor` (classifies every email as ham) on the training set? Do **NOT** use any `sklearn` functions.\n",
    "\n",
    "<!--\n",
    "BEGIN QUESTION\n",
    "name: q6b\n",
    "points: 1\n",
    "-->"
   ]
  },
  {
   "cell_type": "code",
   "execution_count": 21,
   "metadata": {
    "ExecuteTime": {
     "end_time": "2019-04-03T20:23:21.553134Z",
     "start_time": "2019-04-03T20:23:21.548219Z"
    }
   },
   "outputs": [
    {
     "data": {
      "text/plain": [
       "(0.7447091707706642, 0)"
      ]
     },
     "execution_count": 21,
     "metadata": {},
     "output_type": "execute_result"
    }
   ],
   "source": [
    "zero_predictor_acc = (len(Y_train)-Y_train.sum())/len(Y_train)\n",
    "zero_predictor_recall = 0\n",
    "zero_predictor_acc, zero_predictor_recall"
   ]
  },
  {
   "cell_type": "code",
   "execution_count": 22,
   "metadata": {
    "deletable": false,
    "editable": false
   },
   "outputs": [
    {
     "data": {
      "text/html": [
       "\n",
       "    \n",
       "    \n",
       "        <p>All tests passed!</p>\n",
       "    \n",
       "    "
      ],
      "text/plain": [
       "\n",
       "    All tests passed!\n",
       "    "
      ]
     },
     "execution_count": 22,
     "metadata": {},
     "output_type": "execute_result"
    }
   ],
   "source": [
    "grader.check(\"q6b\")"
   ]
  },
  {
   "cell_type": "markdown",
   "metadata": {
    "deletable": false,
    "editable": false
   },
   "source": [
    "<!-- BEGIN QUESTION -->\n",
    "\n",
    "### Question 6c\n",
    "\n",
    "Provide brief explanations of the results from 6a and 6b. Why do we observe each of these values (FP, FN, accuracy, recall)?\n",
    "\n",
    "<!--\n",
    "BEGIN QUESTION\n",
    "name: q6c\n",
    "manual: True\n",
    "points: 2\n",
    "-->"
   ]
  },
  {
   "cell_type": "markdown",
   "metadata": {},
   "source": [
    "The FP and recall are both 0. The FN is 1918. The accuracy is 0.745. Since zero_predictor classifies every email as ham, it always predicts 0, and thus the FP will always be 0. Additionally, the zero_predictor classifying every email as ham makes the true positive always 0 and the recall 0. Finally, the FN is 1918, which means that there are 1918 spam emails that are being mislabeled as ham emails. "
   ]
  },
  {
   "cell_type": "markdown",
   "metadata": {
    "deletable": false,
    "editable": false
   },
   "source": [
    "<!-- END QUESTION -->\n",
    "\n",
    "### Question 6d\n",
    "\n",
    "Compute the precision, recall, and false-alarm rate of the `LogisticRegression` classifier created and trained in Question 5. Do **NOT** use any `sklearn` functions.\n",
    "\n",
    "<!--\n",
    "BEGIN QUESTION\n",
    "name: q6d\n",
    "points: 2\n",
    "-->"
   ]
  },
  {
   "cell_type": "code",
   "execution_count": 23,
   "metadata": {
    "ExecuteTime": {
     "end_time": "2019-04-03T20:37:54.875265Z",
     "start_time": "2019-04-03T20:37:54.720667Z"
    }
   },
   "outputs": [],
   "source": [
    "logistic_predictor_precision = sum((Y_train==1) & (Y_pred==1))/sum((Y_pred==1))\n",
    "logistic_predictor_recall = sum((Y_train==1) & (Y_pred==1))/sum((Y_train==1))\n",
    "logistic_predictor_far = sum((Y_train==0) & (Y_pred==1))/sum((Y_train==0))"
   ]
  },
  {
   "cell_type": "code",
   "execution_count": 24,
   "metadata": {
    "deletable": false,
    "editable": false
   },
   "outputs": [
    {
     "data": {
      "text/html": [
       "\n",
       "    \n",
       "    \n",
       "        <p>All tests passed!</p>\n",
       "    \n",
       "    "
      ],
      "text/plain": [
       "\n",
       "    All tests passed!\n",
       "    "
      ]
     },
     "execution_count": 24,
     "metadata": {},
     "output_type": "execute_result"
    }
   ],
   "source": [
    "grader.check(\"q6d\")"
   ]
  },
  {
   "cell_type": "markdown",
   "metadata": {
    "deletable": false,
    "editable": false
   },
   "source": [
    "<!-- BEGIN QUESTION -->\n",
    "\n",
    "### Question 6e\n",
    "\n",
    "Are there more false positives or false negatives when using the logistic regression classifier from Question 5?\n",
    "\n",
    "<!--\n",
    "BEGIN QUESTION\n",
    "name: q6e\n",
    "manual: True\n",
    "points: 1\n",
    "-->"
   ]
  },
  {
   "cell_type": "markdown",
   "metadata": {},
   "source": [
    "The false positive of the logistic regression classifier from Question 5 is 122, which is more than 9, the false positive from the zero predictor. The false negatives of the logistic regression classifier from Question 5 is 1699, which is less than 1918, the false negative from the zero predictor."
   ]
  },
  {
   "cell_type": "markdown",
   "metadata": {
    "deletable": false,
    "editable": false
   },
   "source": [
    "<!-- END QUESTION -->\n",
    "\n",
    "<!-- BEGIN QUESTION -->\n",
    "\n",
    "### Question 6f\n",
    "\n",
    "1. Our logistic regression classifier got 75.76% prediction accuracy (number of correct predictions / total). How does this compare with predicting 0 for every email?\n",
    "1. Given the word features we gave you above, name one reason this classifier is performing poorly. Hint: Think about how prevalent these words are in the email set.\n",
    "1. Which of these two classifiers would you prefer for a spam filter and why? Describe your reasoning and relate it to at least one of the evaluation metrics you have computed so far.\n",
    "\n",
    "<!--\n",
    "BEGIN QUESTION\n",
    "name: q6f\n",
    "manual: True\n",
    "points: 3\n",
    "-->"
   ]
  },
  {
   "cell_type": "markdown",
   "metadata": {},
   "source": [
    "The performance of this logistic classifier is weak because its accuracy is close to the zero_predictor's (74%) which predicts 0 for every email. One reason the classifier is performing poorly is because certain key words won't appear frequently in emails, which make this classifier perform poorly (like 'drug' and 'prescription'). I would prefer the logistic regresion classifer because the training accuracy is slightly higher than the zero_predictor and the recall of the logistic regression classifier is higher. The proportion of spam emails were correctly flagged because spam is higher."
   ]
  },
  {
   "cell_type": "markdown",
   "metadata": {
    "nbgrader": {
     "grade": false,
     "grade_id": "p2",
     "locked": true,
     "schema_version": 2,
     "solution": false
    }
   },
   "source": [
    "<!-- END QUESTION -->\n",
    "\n",
    "\n",
    "\n",
    "# Part II - Moving Forward\n",
    "\n",
    "With this in mind, it is now your task to make the spam filter more accurate. In order to get full credit on the accuracy part of this assignment, you must get at least **88%** accuracy on the test set. To see your accuracy on the test set, you will use your classifier to predict every email in the `test` DataFrame and upload your predictions to Gradescope.\n",
    "\n",
    "**Gradescope limits you to four submissions per day**. This means you should start early so you have time if needed to refine your model. You will be able to see your accuracy on 70% of the test set when submitting to Gradescope, but we will be evaluating your model on the entire test set so try to score slightly above 88% on gradescope if you can.\n",
    "\n",
    "Here are some ideas for improving your model:\n",
    "\n",
    "1. Finding better features based on the email text. Some example features are:\n",
    "    1. Number of characters in the subject / body\n",
    "    1. Number of words in the subject / body\n",
    "    1. Use of punctuation (e.g., how many '!'s were there?)\n",
    "    1. Number / percentage of capital letters \n",
    "    1. Whether the email is a reply to an earlier email or a forwarded email\n",
    "1. Finding better (and/or more) words to use as features. Which words are the best at distinguishing emails? This requires digging into the email text itself. \n",
    "1. Better data processing. For example, many emails contain HTML as well as text. You can consider extracting out the text from the HTML to help you find better words. Or, you can match HTML tags themselves, or even some combination of the two.\n",
    "1. Model selection. You can adjust parameters of your model (e.g. the regularization parameter) to achieve higher accuracy. Recall that you should use cross-validation to do feature and model selection properly! Otherwise, you will likely overfit to your training data.\n",
    "\n",
    "You may use whatever method you prefer in order to create features, but **you are not allowed to import any external feature extraction libraries**. In addition, **you are only allowed to train logistic regression models**. No random forests, k-nearest-neighbors, neural nets, etc.\n",
    "\n",
    "We have not provided any code to do this, so feel free to create as many cells as you need in order to tackle this task. However, answering questions 7, 8, and 9 should help guide you.\n",
    "\n",
    "---\n",
    "\n",
    "**Note:** *You may want to use your **validation data** to evaluate your model and get a better sense of how it will perform on the test set.* Note, however, that you may overfit to your validation set if you try to optimize your validation accuracy too much.\n",
    "\n",
    "---"
   ]
  },
  {
   "cell_type": "code",
   "execution_count": 25,
   "metadata": {},
   "outputs": [
    {
     "data": {
      "text/plain": [
       "0       None\n",
       "1       None\n",
       "2       None\n",
       "3       None\n",
       "4       None\n",
       "        ... \n",
       "7506    None\n",
       "7508    None\n",
       "7510    None\n",
       "7511    None\n",
       "7512    None\n",
       "Name: email, Length: 5595, dtype: object"
      ]
     },
     "execution_count": 25,
     "metadata": {},
     "output_type": "execute_result"
    }
   ],
   "source": [
    "#split training data\n",
    "spam=train[train['spam']==1]\n",
    "ham=train[train['spam']==0]\n",
    "\n",
    "spam_split=spam['email'].str.replace(r'[^0-9a-zA-Z]',' ').str.split()\n",
    "ham_split = ham['email'].str.replace(r'[^0-9a-zA-Z]',' ').str.split()\n",
    "\n",
    "spam_dict={}\n",
    "ham_dict={}\n",
    "def count_word_spam(lst):    \n",
    "    for x in lst:\n",
    "        if x not in spam_dict:\n",
    "            spam_dict[x] = 1\n",
    "        else:\n",
    "            spam_dict[x] = spam_dict[x]+1\n",
    "\n",
    "def count_word_ham(lst):    \n",
    "    for x in lst:\n",
    "        if x not in ham_dict:\n",
    "            ham_dict[x] = 1\n",
    "        else:\n",
    "            ham_dict[x] = ham_dict[x]+1\n",
    "            \n",
    "spam_split.apply(count_word_spam) \n",
    "ham_split.apply(count_word_ham)"
   ]
  },
  {
   "cell_type": "code",
   "execution_count": 26,
   "metadata": {},
   "outputs": [
    {
     "data": {
      "text/plain": [
       "(['3d',\n",
       "  'font',\n",
       "  'td',\n",
       "  'the',\n",
       "  'a',\n",
       "  'to',\n",
       "  'br',\n",
       "  'size',\n",
       "  'b',\n",
       "  'and',\n",
       "  'you',\n",
       "  'tr',\n",
       "  'of',\n",
       "  'width',\n",
       "  'face',\n",
       "  'p',\n",
       "  'color',\n",
       "  'http',\n",
       "  'nbsp',\n",
       "  'com',\n",
       "  'for',\n",
       "  'your',\n",
       "  'align',\n",
       "  'in',\n",
       "  '0',\n",
       "  '1',\n",
       "  '2',\n",
       "  '20',\n",
       "  'i',\n",
       "  'this',\n",
       "  'arial',\n",
       "  'is',\n",
       "  'center',\n",
       "  'height',\n",
       "  'www',\n",
       "  'table',\n",
       "  'border',\n",
       "  'href',\n",
       "  'that',\n",
       "  'it',\n",
       "  'or',\n",
       "  'with',\n",
       "  'be',\n",
       "  'on',\n",
       "  'verdana',\n",
       "  'html',\n",
       "  'helvetica',\n",
       "  'name',\n",
       "  'are',\n",
       "  'style',\n",
       "  '22',\n",
       "  'we',\n",
       "  'serif',\n",
       "  'sans',\n",
       "  'img',\n",
       "  'div',\n",
       "  's',\n",
       "  'src',\n",
       "  'from',\n",
       "  'will',\n",
       "  'bgcolor',\n",
       "  'our',\n",
       "  'email',\n",
       "  '3',\n",
       "  'have',\n",
       "  'not',\n",
       "  '3e',\n",
       "  '5',\n",
       "  'ffffff',\n",
       "  'type',\n",
       "  'text',\n",
       "  '4',\n",
       "  'free',\n",
       "  'as',\n",
       "  'if',\n",
       "  'e',\n",
       "  'content',\n",
       "  'span',\n",
       "  '000',\n",
       "  'by',\n",
       "  'us',\n",
       "  'value',\n",
       "  'all',\n",
       "  'gif',\n",
       "  '100',\n",
       "  'can',\n",
       "  'net',\n",
       "  '000000',\n",
       "  'option',\n",
       "  'no',\n",
       "  'body',\n",
       "  'images',\n",
       "  't',\n",
       "  'mail',\n",
       "  'here',\n",
       "  'at',\n",
       "  'click',\n",
       "  'cellspacing',\n",
       "  'more',\n",
       "  'cellpadding',\n",
       "  'li',\n",
       "  'blockquote',\n",
       "  'top',\n",
       "  'do',\n",
       "  'input',\n",
       "  'please',\n",
       "  'business',\n",
       "  'right',\n",
       "  'out',\n",
       "  'new',\n",
       "  'my',\n",
       "  'list',\n",
       "  'get',\n",
       "  'an',\n",
       "  'money',\n",
       "  'strong',\n",
       "  '50',\n",
       "  '10',\n",
       "  '3c',\n",
       "  'u',\n",
       "  'one',\n",
       "  'valign',\n",
       "  'family',\n",
       "  'left',\n",
       "  'only',\n",
       "  '00',\n",
       "  '30',\n",
       "  'information',\n",
       "  'colspan',\n",
       "  'head',\n",
       "  'now',\n",
       "  'time',\n",
       "  'margin',\n",
       "  '6',\n",
       "  'any',\n",
       "  'address',\n",
       "  'ff0000',\n",
       "  'people',\n",
       "  'receive',\n",
       "  'title',\n",
       "  'just',\n",
       "  'o',\n",
       "  'form',\n",
       "  'up',\n",
       "  'was',\n",
       "  'send',\n",
       "  'how',\n",
       "  'make',\n",
       "  'order',\n",
       "  'class',\n",
       "  'tbody',\n",
       "  'so',\n",
       "  'report',\n",
       "  'has',\n",
       "  'remove',\n",
       "  'alt',\n",
       "  '3d2',\n",
       "  'me',\n",
       "  'internet',\n",
       "  'home',\n",
       "  '2e',\n",
       "  'over',\n",
       "  'message',\n",
       "  'what',\n",
       "  'charset',\n",
       "  'about',\n",
       "  '3d0',\n",
       "  '15',\n",
       "  'who',\n",
       "  'de',\n",
       "  'want',\n",
       "  'meta',\n",
       "  '31',\n",
       "  'tahoma',\n",
       "  'jpg',\n",
       "  'they',\n",
       "  '7',\n",
       "  'mso',\n",
       "  'a3',\n",
       "  'ad',\n",
       "  'iiq',\n",
       "  'subject',\n",
       "  'but',\n",
       "  'phone',\n",
       "  'don',\n",
       "  'background',\n",
       "  'life',\n",
       "  'mailing',\n",
       "  'c',\n",
       "  'below',\n",
       "  'mailto',\n",
       "  'been',\n",
       "  'removed',\n",
       "  'like',\n",
       "  'there',\n",
       "  'htm',\n",
       "  'company',\n",
       "  'bottom',\n",
       "  'their',\n",
       "  'program',\n",
       "  'may',\n",
       "  'state',\n",
       "  'bordercolor',\n",
       "  'also',\n",
       "  'times',\n",
       "  'these',\n",
       "  'nextpart',\n",
       "  'marketing',\n",
       "  'r',\n",
       "  'b5',\n",
       "  'use',\n",
       "  '0pt',\n",
       "  'offer',\n",
       "  '3dcenter',\n",
       "  'web',\n",
       "  'site',\n",
       "  '8',\n",
       "  'government',\n",
       "  'credit',\n",
       "  'would',\n",
       "  'software',\n",
       "  'today',\n",
       "  '3cfont',\n",
       "  '2ffont',\n",
       "  'than',\n",
       "  'other',\n",
       "  'best',\n",
       "  'million',\n",
       "  'asp',\n",
       "  'transfer',\n",
       "  'them',\n",
       "  'work',\n",
       "  'link',\n",
       "  'cd',\n",
       "  'need',\n",
       "  'each',\n",
       "  'which',\n",
       "  'go',\n",
       "  'lists',\n",
       "  'bb',\n",
       "  '0000ff',\n",
       "  'black',\n",
       "  'back',\n",
       "  'help',\n",
       "  'n',\n",
       "  '3darial',\n",
       "  'call',\n",
       "  'first',\n",
       "  'day',\n",
       "  'insurance',\n",
       "  'm',\n",
       "  'legal',\n",
       "  'id',\n",
       "  'd',\n",
       "  'service',\n",
       "  '25',\n",
       "  'year',\n",
       "  'when',\n",
       "  '9',\n",
       "  'wish',\n",
       "  'am',\n",
       "  '3d4',\n",
       "  '000066',\n",
       "  '81',\n",
       "  'ca',\n",
       "  'en',\n",
       "  'online',\n",
       "  'index',\n",
       "  '3b',\n",
       "  'because',\n",
       "  'special',\n",
       "  'a1',\n",
       "  'hidden',\n",
       "  'grants',\n",
       "  'reply',\n",
       "  'most',\n",
       "  'within',\n",
       "  '12',\n",
       "  'then',\n",
       "  'equiv',\n",
       "  'does',\n",
       "  '0px',\n",
       "  'number',\n",
       "  'line',\n",
       "  'f',\n",
       "  'contact',\n",
       "  'every',\n",
       "  'ba',\n",
       "  '8859',\n",
       "  'encoding',\n",
       "  'find',\n",
       "  'per',\n",
       "  'see',\n",
       "  'sent',\n",
       "  '500',\n",
       "  '61',\n",
       "  'price',\n",
       "  'unsubscribe',\n",
       "  'addresses',\n",
       "  '550',\n",
       "  'take',\n",
       "  'into',\n",
       "  'many',\n",
       "  'own',\n",
       "  'spamassassin',\n",
       "  'em',\n",
       "  'much',\n",
       "  'available',\n",
       "  'save',\n",
       "  'received',\n",
       "  'cash',\n",
       "  '21',\n",
       "  '09',\n",
       "  'bc',\n",
       "  'know',\n",
       "  'made',\n",
       "  '95',\n",
       "  'co',\n",
       "  'product',\n",
       "  'quot',\n",
       "  'very',\n",
       "  'ul',\n",
       "  'month',\n",
       "  'response',\n",
       "  'easy',\n",
       "  '3d3',\n",
       "  'even',\n",
       "  '000080',\n",
       "  'through',\n",
       "  'after',\n",
       "  'way',\n",
       "  'years',\n",
       "  'orders',\n",
       "  '65',\n",
       "  '2002',\n",
       "  'cgi',\n",
       "  'fax',\n",
       "  'roman',\n",
       "  'his',\n",
       "  'days',\n",
       "  'sightings',\n",
       "  '99',\n",
       "  '149',\n",
       "  'start',\n",
       "  'services',\n",
       "  'financial',\n",
       "  'future',\n",
       "  'system',\n",
       "  '3d1',\n",
       "  'ptsize',\n",
       "  'those',\n",
       "  'y',\n",
       "  'd0',\n",
       "  'dollars',\n",
       "  'some',\n",
       "  'lang',\n",
       "  'll',\n",
       "  'c4',\n",
       "  're',\n",
       "  'weight',\n",
       "  'amp',\n",
       "  'middle',\n",
       "  'market',\n",
       "  'g',\n",
       "  'ce',\n",
       "  'b9',\n",
       "  'city',\n",
       "  'none',\n",
       "  'low',\n",
       "  'h',\n",
       "  'computer',\n",
       "  'info',\n",
       "  'x',\n",
       "  'l',\n",
       "  'offers',\n",
       "  'geneva',\n",
       "  'products',\n",
       "  '63',\n",
       "  'bd',\n",
       "  'ie',\n",
       "  'submit',\n",
       "  'had',\n",
       "  'card',\n",
       "  'v',\n",
       "  '24',\n",
       "  'big',\n",
       "  'sites',\n",
       "  'check',\n",
       "  'following',\n",
       "  've',\n",
       "  'programs',\n",
       "  'rates',\n",
       "  'iso',\n",
       "  'fill',\n",
       "  'its',\n",
       "  'decoration',\n",
       "  'world',\n",
       "  'mails',\n",
       "  'should',\n",
       "  'd2',\n",
       "  'visit',\n",
       "  'website',\n",
       "  'linux',\n",
       "  'without',\n",
       "  'cost',\n",
       "  '19',\n",
       "  'bf',\n",
       "  'target',\n",
       "  'before',\n",
       "  'w',\n",
       "  'part',\n",
       "  'complete',\n",
       "  'method',\n",
       "  'opportunity',\n",
       "  'income',\n",
       "  'php',\n",
       "  'access',\n",
       "  '11',\n",
       "  'search',\n",
       "  'simple',\n",
       "  'investment',\n",
       "  'companies',\n",
       "  'pay',\n",
       "  'copy',\n",
       "  'never',\n",
       "  'could',\n",
       "  'high',\n",
       "  'next',\n",
       "  'red',\n",
       "  'account',\n",
       "  'interest',\n",
       "  'small',\n",
       "  'mailings',\n",
       "  'real',\n",
       "  'padding',\n",
       "  'ac',\n",
       "  'guaranteed',\n",
       "  'simply',\n",
       "  'a2',\n",
       "  'buy',\n",
       "  'total',\n",
       "  'hours',\n",
       "  'guide',\n",
       "  'd1',\n",
       "  'd3',\n",
       "  'mortgage',\n",
       "  '77',\n",
       "  'd6',\n",
       "  'anyone',\n",
       "  'sourceforge',\n",
       "  'professional',\n",
       "  'he',\n",
       "  'where',\n",
       "  'personal',\n",
       "  'plus',\n",
       "  'well',\n",
       "  'again',\n",
       "  'a7',\n",
       "  'page',\n",
       "  'c3',\n",
       "  'dvd',\n",
       "  'good',\n",
       "  '29',\n",
       "  'give',\n",
       "  'collapse',\n",
       "  'b8',\n",
       "  'insuranceiq',\n",
       "  'being',\n",
       "  'listinfo',\n",
       "  'fa',\n",
       "  '18',\n",
       "  'plain',\n",
       "  'news',\n",
       "  'long',\n",
       "  '40',\n",
       "  '66',\n",
       "  'risk',\n",
       "  'states',\n",
       "  'ever',\n",
       "  'down',\n",
       "  'using',\n",
       "  'purchase',\n",
       "  'while',\n",
       "  'jm',\n",
       "  '0in',\n",
       "  'sales',\n",
       "  'step',\n",
       "  'few',\n",
       "  'emails',\n",
       "  'return',\n",
       "  'q',\n",
       "  '14',\n",
       "  'blank',\n",
       "  'must',\n",
       "  'c1',\n",
       "  'ffff00',\n",
       "  'let',\n",
       "  'hr',\n",
       "  'reports',\n",
       "  'looking',\n",
       "  'action',\n",
       "  'spacer',\n",
       "  '13',\n",
       "  'based',\n",
       "  'b7',\n",
       "  'keep',\n",
       "  'rate',\n",
       "  'ms',\n",
       "  'sansserif',\n",
       "  'opt',\n",
       "  'months',\n",
       "  'country',\n",
       "  '0cm',\n",
       "  'multi',\n",
       "  'white',\n",
       "  'sending',\n",
       "  'read',\n",
       "  '70',\n",
       "  'receiving',\n",
       "  'thank',\n",
       "  'transaction',\n",
       "  '72',\n",
       "  'further',\n",
       "  'great',\n",
       "  '64',\n",
       "  'letter',\n",
       "  'weeks',\n",
       "  'change',\n",
       "  'cc',\n",
       "  'full',\n",
       "  'tm',\n",
       "  'why',\n",
       "  '74',\n",
       "  'instructions',\n",
       "  'a9',\n",
       "  'z',\n",
       "  'united',\n",
       "  'yourself',\n",
       "  'c6',\n",
       "  '300',\n",
       "  'b4',\n",
       "  'yes',\n",
       "  '80',\n",
       "  'grant',\n",
       "  'd4',\n",
       "  'once',\n",
       "  'bidi',\n",
       "  'milf',\n",
       "  'format',\n",
       "  'provide',\n",
       "  'sure',\n",
       "  'sf',\n",
       "  'two',\n",
       "  'bin',\n",
       "  'come',\n",
       "  'windows',\n",
       "  '75',\n",
       "  'post',\n",
       "  'thousands',\n",
       "  'removal',\n",
       "  'c8',\n",
       "  'shipping',\n",
       "  'off',\n",
       "  'cf',\n",
       "  'policy',\n",
       "  '3dright',\n",
       "  'old',\n",
       "  'j',\n",
       "  'week',\n",
       "  'such',\n",
       "  'security',\n",
       "  'printable',\n",
       "  '60',\n",
       "  'select',\n",
       "  'quoted',\n",
       "  'a4',\n",
       "  '200',\n",
       "  'server',\n",
       "  'includes',\n",
       "  '800',\n",
       "  'e1',\n",
       "  'used',\n",
       "  'less',\n",
       "  'rowspan',\n",
       "  'lose',\n",
       "  'include',\n",
       "  'public',\n",
       "  'bonus',\n",
       "  'k',\n",
       "  'org',\n",
       "  'notice',\n",
       "  'b2',\n",
       "  'above',\n",
       "  '16',\n",
       "  'required',\n",
       "  'c9',\n",
       "  'communication',\n",
       "  'instead',\n",
       "  'heaven',\n",
       "  'age',\n",
       "  'learn',\n",
       "  'c7',\n",
       "  'china',\n",
       "  'b6',\n",
       "  'enenkio',\n",
       "  'h3',\n",
       "  'dear',\n",
       "  'end',\n",
       "  '211',\n",
       "  'absolutely',\n",
       "  'bank',\n",
       "  'guarantee',\n",
       "  'making',\n",
       "  'advertising',\n",
       "  'under',\n",
       "  'last',\n",
       "  'c5',\n",
       "  'code',\n",
       "  'same',\n",
       "  'better',\n",
       "  'non',\n",
       "  'little',\n",
       "  'sell',\n",
       "  'https',\n",
       "  'a0',\n",
       "  'a8',\n",
       "  'membership',\n",
       "  'justify',\n",
       "  'request',\n",
       "  'questions',\n",
       "  '3a',\n",
       "  'follow',\n",
       "  '1252',\n",
       "  'show',\n",
       "  'true',\n",
       "  'least',\n",
       "  'try',\n",
       "  'both',\n",
       "  'c0',\n",
       "  'aa',\n",
       "  'put',\n",
       "  'interested',\n",
       "  'la',\n",
       "  'results',\n",
       "  'note',\n",
       "  'remember',\n",
       "  'were',\n",
       "  'increase',\n",
       "  'names',\n",
       "  'professionals',\n",
       "  'ads',\n",
       "  'bulk',\n",
       "  'mime',\n",
       "  'ffff99',\n",
       "  'ab',\n",
       "  'person',\n",
       "  'look',\n",
       "  '250',\n",
       "  'package',\n",
       "  '90',\n",
       "  'domain',\n",
       "  'thinkgeek',\n",
       "  'b3',\n",
       "  'f3',\n",
       "  'success',\n",
       "  'optout',\n",
       "  'current',\n",
       "  'document',\n",
       "  '23',\n",
       "  'support',\n",
       "  'b1',\n",
       "  'cb',\n",
       "  'da',\n",
       "  'easily',\n",
       "  'works',\n",
       "  'travel',\n",
       "  'customer',\n",
       "  'temple',\n",
       "  'hundreds',\n",
       "  'jeweldive',\n",
       "  'live',\n",
       "  'image',\n",
       "  'quality',\n",
       "  'yahoo',\n",
       "  'et',\n",
       "  'key',\n",
       "  'working',\n",
       "  '220',\n",
       "  '3cp',\n",
       "  'plan',\n",
       "  'cc0000',\n",
       "  'say',\n",
       "  'since',\n",
       "  'apply',\n",
       "  'quote',\n",
       "  'act',\n",
       "  'application',\n",
       "  'did',\n",
       "  'deal',\n",
       "  'paid',\n",
       "  'federal',\n",
       "  'fast',\n",
       "  '600',\n",
       "  'download',\n",
       "  'natural',\n",
       "  'case',\n",
       "  '68',\n",
       "  'netnoteinc',\n",
       "  'prices',\n",
       "  'solid',\n",
       "  'f6',\n",
       "  'islands',\n",
       "  '2c',\n",
       "  'word',\n",
       "  'members',\n",
       "  'un',\n",
       "  '87',\n",
       "  '17',\n",
       "  'aaaaaaaaaaaaaaaaaaaaaaaaaaaaaaaaaaaaaaaaaaaaaaaaaaaaaaaaaaaaaaaaaaaaaaaaaaaa',\n",
       "  'private',\n",
       "  'loan',\n",
       "  'too',\n",
       "  'office',\n",
       "  'place',\n",
       "  '6e',\n",
       "  'think',\n",
       "  'cn',\n",
       "  'book',\n",
       "  'ext',\n",
       "  'kingdom',\n",
       "  'limited',\n",
       "  'contains',\n",
       "  '008000',\n",
       "  'trading',\n",
       "  'frontpage',\n",
       "  'oz',\n",
       "  'feel',\n",
       "  'able',\n",
       "  'users',\n",
       "  'debt',\n",
       "  'including',\n",
       "  'msonormal',\n",
       "  'another',\n",
       "  '73',\n",
       "  'client',\n",
       "  'allow',\n",
       "  'improvement',\n",
       "  'via',\n",
       "  'etc',\n",
       "  'term',\n",
       "  'uk',\n",
       "  'bold',\n",
       "  'nasty',\n",
       "  '02',\n",
       "  'become',\n",
       "  'still',\n",
       "  'international',\n",
       "  'ffffcc',\n",
       "  'important',\n",
       "  'earn',\n",
       "  'direct',\n",
       "  'data',\n",
       "  'b0',\n",
       "  '22arial',\n",
       "  'assistance',\n",
       "  'customers',\n",
       "  'started',\n",
       "  'yours',\n",
       "  '3d5',\n",
       "  'fromyou2',\n",
       "  'details',\n",
       "  'error',\n",
       "  'track',\n",
       "  '3cb',\n",
       "  '2fb',\n",
       "  'level',\n",
       "  '01',\n",
       "  'broadcast',\n",
       "  'foreign',\n",
       "  'everything',\n",
       "  'minutes',\n",
       "  'always',\n",
       "  'nothing',\n",
       "  'cccccc',\n",
       "  'cfm',\n",
       "  'member',\n",
       "  '3dhttp',\n",
       "  'box',\n",
       "  'spam',\n",
       "  'build',\n",
       "  'language',\n",
       "  'database',\n",
       "  'american',\n",
       "  '150',\n",
       "  'regular',\n",
       "  'botanical',\n",
       "  'matter',\n",
       "  'write',\n",
       "  'subscription',\n",
       "  '42',\n",
       "  '43',\n",
       "  'url',\n",
       "  'believe',\n",
       "  'different',\n",
       "  'successful',\n",
       "  'af',\n",
       "  'immediately',\n",
       "  'area',\n",
       "  '35',\n",
       "  'microsoft',\n",
       "  'sponsored',\n",
       "  '36',\n",
       "  'generator',\n",
       "  'c2',\n",
       "  'her',\n",
       "  'really',\n",
       "  'd7',\n",
       "  '400',\n",
       "  'health',\n",
       "  'valuable',\n",
       "  'five',\n",
       "  '88',\n",
       "  '62',\n",
       "  'stop',\n",
       "  'forward',\n",
       "  'set',\n",
       "  'commission',\n",
       "  'protect',\n",
       "  'ed',\n",
       "  'f7',\n",
       "  'amount',\n",
       "  '222',\n",
       "  'control',\n",
       "  'e9',\n",
       "  'd5',\n",
       "  'tell',\n",
       "  'going',\n",
       "  'fund',\n",
       "  '22verdana',\n",
       "  'currently',\n",
       "  'group',\n",
       "  'until',\n",
       "  'bindex',\n",
       "  'during',\n",
       "  'lowest',\n",
       "  'trade',\n",
       "  'mailman',\n",
       "  'rights',\n",
       "  'insurancemail',\n",
       "  'possible',\n",
       "  'move',\n",
       "  'three',\n",
       "  'usa',\n",
       "  'nsi',\n",
       "  'general',\n",
       "  'answer',\n",
       "  '49',\n",
       "  'away',\n",
       "  '3dtop',\n",
       "  '71',\n",
       "  '1000',\n",
       "  'experience',\n",
       "  'loss',\n",
       "  'later',\n",
       "  'agent',\n",
       "  '98',\n",
       "  'date',\n",
       "  'included',\n",
       "  'seen',\n",
       "  'already',\n",
       "  'needs',\n",
       "  'fact',\n",
       "  'however',\n",
       "  'payment',\n",
       "  'courier',\n",
       "  'industry',\n",
       "  'example',\n",
       "  'le',\n",
       "  'past',\n",
       "  '2ecom',\n",
       "  'add',\n",
       "  'share',\n",
       "  'dd',\n",
       "  'obligation',\n",
       "  'course',\n",
       "  '3d6',\n",
       "  'dagga',\n",
       "  'job',\n",
       "  'position',\n",
       "  'mr',\n",
       "  'blue',\n",
       "  'quick',\n",
       "  'millions',\n",
       "  'independent',\n",
       "  '006600',\n",
       "  'national',\n",
       "  'ordering',\n",
       "  '22center',\n",
       "  'technology',\n",
       "  '666666',\n",
       "  'secret',\n",
       "  'ea',\n",
       "  'numbers',\n",
       "  'engines',\n",
       "  'tablets',\n",
       "  'claim',\n",
       "  'welcome',\n",
       "  '27',\n",
       "  '2fp',\n",
       "  'des',\n",
       "  'zzzz',\n",
       "  'toner',\n",
       "  'links',\n",
       "  'btamail',\n",
       "  'pc',\n",
       "  '129',\n",
       "  'charge',\n",
       "  'usd',\n",
       "  'smoking',\n",
       "  'ragga',\n",
       "  'auto',\n",
       "  '48',\n",
       "  'dc',\n",
       "  'open',\n",
       "  'enter',\n",
       "  '159',\n",
       "  'underline',\n",
       "  '111111',\n",
       "  'lot',\n",
       "  'loans',\n",
       "  'retail',\n",
       "  'president',\n",
       "  'potential',\n",
       "  'register',\n",
       "  'ae',\n",
       "  'friends',\n",
       "  'drive',\n",
       "  'f2',\n",
       "  '39',\n",
       "  '3diso',\n",
       "  'a5',\n",
       "  'secure',\n",
       "  'several',\n",
       "  'found',\n",
       "  'f4',\n",
       "  'leads',\n",
       "  '151',\n",
       "  'cannot',\n",
       "  'e8',\n",
       "  'aeopublishing',\n",
       "  'getting',\n",
       "  'h2',\n",
       "  'huge',\n",
       "  'cards',\n",
       "  'problems',\n",
       "  'ready',\n",
       "  'network',\n",
       "  '45',\n",
       "  'es',\n",
       "  'anything',\n",
       "  'second',\n",
       "  '133',\n",
       "  '10pt',\n",
       "  'tax',\n",
       "  'reach',\n",
       "  'due',\n",
       "  '103',\n",
       "  'power',\n",
       "  'something',\n",
       "  'original',\n",
       "  'se',\n",
       "  '85',\n",
       "  '3cbr',\n",
       "  'estate',\n",
       "  'someone',\n",
       "  'sum',\n",
       "  'vlink',\n",
       "  'win',\n",
       "  'zip',\n",
       "  '3dmiddle',\n",
       "  'car',\n",
       "  'growing',\n",
       "  'others',\n",
       "  'deathtospamdeathtospamdeathtospam',\n",
       "  'seventh',\n",
       "  'process',\n",
       "  'fb',\n",
       "  'large',\n",
       "  '7bit',\n",
       "  'e4',\n",
       "  'base64',\n",
       "  'major',\n",
       "  'tools',\n",
       "  'longer',\n",
       "  'warranty',\n",
       "  'atoll',\n",
       "  'businesses',\n",
       "  'care',\n",
       "  'ilug',\n",
       "  '468'],\n",
       " ['the',\n",
       "  'a',\n",
       "  'http',\n",
       "  'com',\n",
       "  'to',\n",
       "  'td',\n",
       "  'and',\n",
       "  'of',\n",
       "  'width',\n",
       "  '1',\n",
       "  '0',\n",
       "  '3d',\n",
       "  'www',\n",
       "  'i',\n",
       "  'b',\n",
       "  'font',\n",
       "  'in',\n",
       "  'tr',\n",
       "  'is',\n",
       "  'br',\n",
       "  'that',\n",
       "  'it',\n",
       "  'height',\n",
       "  'for',\n",
       "  'src',\n",
       "  'img',\n",
       "  'gif',\n",
       "  's',\n",
       "  'href',\n",
       "  'you',\n",
       "  'on',\n",
       "  'border',\n",
       "  '09',\n",
       "  'this',\n",
       "  'p',\n",
       "  '2',\n",
       "  'table',\n",
       "  'size',\n",
       "  'cnet',\n",
       "  'with',\n",
       "  'bgcolor',\n",
       "  'click',\n",
       "  'be',\n",
       "  'nbsp',\n",
       "  't',\n",
       "  'from',\n",
       "  'as',\n",
       "  'are',\n",
       "  'face',\n",
       "  'have',\n",
       "  'not',\n",
       "  'q',\n",
       "  'online',\n",
       "  'or',\n",
       "  'at',\n",
       "  '10',\n",
       "  'net',\n",
       "  'by',\n",
       "  'but',\n",
       "  '2002',\n",
       "  'clickthru',\n",
       "  'your',\n",
       "  'html',\n",
       "  'list',\n",
       "  'if',\n",
       "  'arial',\n",
       "  'can',\n",
       "  'zdnet',\n",
       "  '3',\n",
       "  'all',\n",
       "  'an',\n",
       "  'cellspacing',\n",
       "  'cellpadding',\n",
       "  'color',\n",
       "  'was',\n",
       "  'alt',\n",
       "  'we',\n",
       "  'they',\n",
       "  '5',\n",
       "  'top',\n",
       "  'helvetica',\n",
       "  'linux',\n",
       "  'd',\n",
       "  'more',\n",
       "  'will',\n",
       "  'my',\n",
       "  'home',\n",
       "  'has',\n",
       "  'so',\n",
       "  '4',\n",
       "  'images',\n",
       "  'one',\n",
       "  'about',\n",
       "  '20',\n",
       "  'valign',\n",
       "  'get',\n",
       "  'there',\n",
       "  'lockergnome',\n",
       "  'new',\n",
       "  'just',\n",
       "  'up',\n",
       "  'what',\n",
       "  'lists',\n",
       "  'align',\n",
       "  'out',\n",
       "  'do',\n",
       "  '000000',\n",
       "  '8',\n",
       "  'no',\n",
       "  'use',\n",
       "  'm',\n",
       "  'text',\n",
       "  'which',\n",
       "  'users',\n",
       "  'when',\n",
       "  'like',\n",
       "  '100',\n",
       "  'type',\n",
       "  'time',\n",
       "  'now',\n",
       "  'some',\n",
       "  'listinfo',\n",
       "  'w',\n",
       "  'their',\n",
       "  'would',\n",
       "  'name',\n",
       "  'style',\n",
       "  '7',\n",
       "  'sans',\n",
       "  'email',\n",
       "  'rpm',\n",
       "  'our',\n",
       "  'ie',\n",
       "  'org',\n",
       "  '9',\n",
       "  'ffffff',\n",
       "  'serif',\n",
       "  'colspan',\n",
       "  'right',\n",
       "  'other',\n",
       "  'any',\n",
       "  'mail',\n",
       "  'class',\n",
       "  'url',\n",
       "  'he',\n",
       "  'only',\n",
       "  'content',\n",
       "  'spamassassin',\n",
       "  'been',\n",
       "  '0d',\n",
       "  'web',\n",
       "  'people',\n",
       "  'who',\n",
       "  'don',\n",
       "  'me',\n",
       "  'e',\n",
       "  'news',\n",
       "  '00',\n",
       "  'here',\n",
       "  'verdana',\n",
       "  'also',\n",
       "  'than',\n",
       "  'mailman',\n",
       "  'target',\n",
       "  'free',\n",
       "  'exmh',\n",
       "  'wrote',\n",
       "  'message',\n",
       "  'title',\n",
       "  'c',\n",
       "  'its',\n",
       "  'how',\n",
       "  'value',\n",
       "  'mailing',\n",
       "  'center',\n",
       "  'then',\n",
       "  'them',\n",
       "  're',\n",
       "  '6',\n",
       "  '12',\n",
       "  'comics',\n",
       "  'blank',\n",
       "  'r',\n",
       "  'date',\n",
       "  'said',\n",
       "  'us',\n",
       "  'razor',\n",
       "  've',\n",
       "  'software',\n",
       "  'search',\n",
       "  'information',\n",
       "  'could',\n",
       "  'file',\n",
       "  'way',\n",
       "  'into',\n",
       "  'see',\n",
       "  'sourceforge',\n",
       "  'spam',\n",
       "  'make',\n",
       "  'had',\n",
       "  'world',\n",
       "  'most',\n",
       "  'were',\n",
       "  'newsletter',\n",
       "  'dilbert',\n",
       "  'freshrpms',\n",
       "  'go',\n",
       "  'ms',\n",
       "  'should',\n",
       "  'these',\n",
       "  'input',\n",
       "  'because',\n",
       "  'first',\n",
       "  'group',\n",
       "  'work',\n",
       "  '8p',\n",
       "  'his',\n",
       "  'div',\n",
       "  'think',\n",
       "  'system',\n",
       "  '3d1',\n",
       "  'know',\n",
       "  'using',\n",
       "  'even',\n",
       "  'over',\n",
       "  'f',\n",
       "  'background',\n",
       "  'https',\n",
       "  'subscription',\n",
       "  'graphics',\n",
       "  'g',\n",
       "  'well',\n",
       "  'may',\n",
       "  'good',\n",
       "  'windows',\n",
       "  'end',\n",
       "  'll',\n",
       "  'left',\n",
       "  'geneva',\n",
       "  'want',\n",
       "  'x',\n",
       "  'where',\n",
       "  'line',\n",
       "  'much',\n",
       "  'rowspan',\n",
       "  'read',\n",
       "  'nl',\n",
       "  'same',\n",
       "  'version',\n",
       "  'ilug',\n",
       "  '01',\n",
       "  'need',\n",
       "  'id',\n",
       "  'find',\n",
       "  'those',\n",
       "  'redhat',\n",
       "  '11',\n",
       "  'li',\n",
       "  'code',\n",
       "  'server',\n",
       "  '3d0',\n",
       "  'does',\n",
       "  'yahoo',\n",
       "  'fork',\n",
       "  'many',\n",
       "  'asp',\n",
       "  'clear',\n",
       "  'still',\n",
       "  'set',\n",
       "  'decoration',\n",
       "  'after',\n",
       "  'family',\n",
       "  'internet',\n",
       "  'perl',\n",
       "  'very',\n",
       "  'php',\n",
       "  'subject',\n",
       "  'site',\n",
       "  'such',\n",
       "  '15',\n",
       "  'form',\n",
       "  'co',\n",
       "  'sf',\n",
       "  'two',\n",
       "  'change',\n",
       "  'data',\n",
       "  'really',\n",
       "  'files',\n",
       "  'business',\n",
       "  'check',\n",
       "  'being',\n",
       "  'link',\n",
       "  'anchordesk',\n",
       "  '50',\n",
       "  'n',\n",
       "  'talk',\n",
       "  'u',\n",
       "  'messages',\n",
       "  'ca',\n",
       "  'too',\n",
       "  'last',\n",
       "  'something',\n",
       "  'used',\n",
       "  'before',\n",
       "  'since',\n",
       "  'unsubscribe',\n",
       "  '18',\n",
       "  'security',\n",
       "  'none',\n",
       "  'article',\n",
       "  'years',\n",
       "  'while',\n",
       "  'say',\n",
       "  'run',\n",
       "  'am',\n",
       "  'back',\n",
       "  'take',\n",
       "  'please',\n",
       "  'daily',\n",
       "  'help',\n",
       "  'problem',\n",
       "  '99',\n",
       "  'off',\n",
       "  'company',\n",
       "  'through',\n",
       "  'tech',\n",
       "  'issue',\n",
       "  'microsoft',\n",
       "  'today',\n",
       "  'story',\n",
       "  'without',\n",
       "  'uk',\n",
       "  'user',\n",
       "  '08',\n",
       "  'address',\n",
       "  '13',\n",
       "  'h',\n",
       "  'iiiiiiiiiiiiiiiiiiiiiiiiiiiiiiiiiiiiiiiiiiiiiiiiiiiiiiiiiiiiiiiiiiiiiiiiiiii',\n",
       "  'technology',\n",
       "  'why',\n",
       "  'example',\n",
       "  'small',\n",
       "  'support',\n",
       "  'mailto',\n",
       "  '000',\n",
       "  'pj4',\n",
       "  'look',\n",
       "  'down',\n",
       "  '14',\n",
       "  '02',\n",
       "  'techupdate',\n",
       "  'include',\n",
       "  'better',\n",
       "  'frontpage',\n",
       "  'week',\n",
       "  'o',\n",
       "  'tribute',\n",
       "  'head',\n",
       "  'cccccc',\n",
       "  'own',\n",
       "  'hidden',\n",
       "  'body',\n",
       "  '23',\n",
       "  'doesn',\n",
       "  'found',\n",
       "  'few',\n",
       "  'sure',\n",
       "  'old',\n",
       "  'another',\n",
       "  'best',\n",
       "  'computer',\n",
       "  'might',\n",
       "  'media',\n",
       "  'network',\n",
       "  'normal',\n",
       "  'arrow',\n",
       "  'xent',\n",
       "  'got',\n",
       "  'send',\n",
       "  '19',\n",
       "  'did',\n",
       "  'long',\n",
       "  'going',\n",
       "  'things',\n",
       "  'full',\n",
       "  'day',\n",
       "  'every',\n",
       "  'open',\n",
       "  'tbody',\n",
       "  'try',\n",
       "  '25',\n",
       "  'latest',\n",
       "  'page',\n",
       "  'management',\n",
       "  'service',\n",
       "  '30',\n",
       "  'ad',\n",
       "  'next',\n",
       "  'source',\n",
       "  'apt',\n",
       "  'htm',\n",
       "  '48',\n",
       "  '612',\n",
       "  'services',\n",
       "  'weight',\n",
       "  'both',\n",
       "  'real',\n",
       "  'footer',\n",
       "  'l',\n",
       "  'based',\n",
       "  'year',\n",
       "  'signature',\n",
       "  'bottom',\n",
       "  'phone',\n",
       "  'case',\n",
       "  'sep',\n",
       "  'part',\n",
       "  'irish',\n",
       "  '07',\n",
       "  'between',\n",
       "  '60',\n",
       "  'thanks',\n",
       "  'dot',\n",
       "  'pgp',\n",
       "  'great',\n",
       "  'different',\n",
       "  'sponsored',\n",
       "  'states',\n",
       "  '16',\n",
       "  'must',\n",
       "  'k',\n",
       "  'etc',\n",
       "  'un',\n",
       "  'download',\n",
       "  'once',\n",
       "  'again',\n",
       "  'each',\n",
       "  'systems',\n",
       "  'xml',\n",
       "  'workers',\n",
       "  'original',\n",
       "  'span',\n",
       "  '17',\n",
       "  'times',\n",
       "  'high',\n",
       "  'actually',\n",
       "  'public',\n",
       "  'available',\n",
       "  'thing',\n",
       "  'never',\n",
       "  'kernel',\n",
       "  'sent',\n",
       "  'aug',\n",
       "  'says',\n",
       "  'made',\n",
       "  'running',\n",
       "  'start',\n",
       "  'around',\n",
       "  'though',\n",
       "  'someone',\n",
       "  'add',\n",
       "  'stuff',\n",
       "  'chris',\n",
       "  'thinkgeek',\n",
       "  'ffcc00',\n",
       "  'j',\n",
       "  'info',\n",
       "  'against',\n",
       "  'release',\n",
       "  'inc',\n",
       "  'groups',\n",
       "  'view',\n",
       "  'anyone',\n",
       "  'probably',\n",
       "  '31',\n",
       "  'point',\n",
       "  'september',\n",
       "  'give',\n",
       "  'companies',\n",
       "  'easy',\n",
       "  'united',\n",
       "  'else',\n",
       "  'issues',\n",
       "  'pm',\n",
       "  'folder',\n",
       "  'tv',\n",
       "  'maintainer',\n",
       "  'july',\n",
       "  'seems',\n",
       "  'number',\n",
       "  'application',\n",
       "  'script',\n",
       "  'under',\n",
       "  'global',\n",
       "  'listmaster',\n",
       "  'products',\n",
       "  'blue',\n",
       "  'however',\n",
       "  'action',\n",
       "  'build',\n",
       "  '22',\n",
       "  'she',\n",
       "  'apple',\n",
       "  'keep',\n",
       "  'copyright',\n",
       "  'java',\n",
       "  '80',\n",
       "  '24',\n",
       "  'access',\n",
       "  'money',\n",
       "  'pc',\n",
       "  '46',\n",
       "  'strong',\n",
       "  'log',\n",
       "  'ads',\n",
       "  'less',\n",
       "  'rights',\n",
       "  'key',\n",
       "  '120',\n",
       "  'government',\n",
       "  'problems',\n",
       "  'show',\n",
       "  'digital',\n",
       "  'price',\n",
       "  'newsisfree',\n",
       "  '149',\n",
       "  'looking',\n",
       "  'tag',\n",
       "  'yes',\n",
       "  'put',\n",
       "  'always',\n",
       "  'market',\n",
       "  '83a3cb',\n",
       "  'solid',\n",
       "  'image',\n",
       "  'root',\n",
       "  'anything',\n",
       "  'middle',\n",
       "  'yet',\n",
       "  'let',\n",
       "  'her',\n",
       "  'os',\n",
       "  'lot',\n",
       "  'error',\n",
       "  'sidebar',\n",
       "  'cd',\n",
       "  'product',\n",
       "  'mr',\n",
       "  'sun',\n",
       "  'already',\n",
       "  'works',\n",
       "  'red',\n",
       "  'create',\n",
       "  'install',\n",
       "  'development',\n",
       "  'didn',\n",
       "  'program',\n",
       "  'august',\n",
       "  'header',\n",
       "  '21',\n",
       "  'matthias',\n",
       "  'amp',\n",
       "  'come',\n",
       "  'enough',\n",
       "  '666666',\n",
       "  'hard',\n",
       "  'including',\n",
       "  'instead',\n",
       "  '1d',\n",
       "  'package',\n",
       "  'local',\n",
       "  'begin',\n",
       "  'submit',\n",
       "  'networks',\n",
       "  'doing',\n",
       "  '26',\n",
       "  'big',\n",
       "  'future',\n",
       "  'isn',\n",
       "  'done',\n",
       "  'hardware',\n",
       "  'little',\n",
       "  'ne',\n",
       "  'post',\n",
       "  'course',\n",
       "  'book',\n",
       "  'report',\n",
       "  'getting',\n",
       "  'bit',\n",
       "  'spacer',\n",
       "  'tell',\n",
       "  'write',\n",
       "  'jpg',\n",
       "  '111',\n",
       "  'maybe',\n",
       "  'ever',\n",
       "  '05',\n",
       "  'trying',\n",
       "  'sh',\n",
       "  'buy',\n",
       "  'changes',\n",
       "  'update',\n",
       "  'within',\n",
       "  'least',\n",
       "  'working',\n",
       "  'called',\n",
       "  'hover',\n",
       "  'able',\n",
       "  'place',\n",
       "  'taint',\n",
       "  '160',\n",
       "  'test',\n",
       "  'job',\n",
       "  'method',\n",
       "  'three',\n",
       "  'order',\n",
       "  'far',\n",
       "  'tahoma',\n",
       "  '1e5c99',\n",
       "  'following',\n",
       "  '101',\n",
       "  'having',\n",
       "  'format',\n",
       "  '32',\n",
       "  'state',\n",
       "  'million',\n",
       "  'press',\n",
       "  'cgi',\n",
       "  'z',\n",
       "  'admin',\n",
       "  'non',\n",
       "  'wireless',\n",
       "  'law',\n",
       "  'war',\n",
       "  '37',\n",
       "  'plain',\n",
       "  'charset',\n",
       "  'life',\n",
       "  'ul',\n",
       "  '06',\n",
       "  'pretty',\n",
       "  '28',\n",
       "  'until',\n",
       "  'terms',\n",
       "  'option',\n",
       "  'possible',\n",
       "  'received',\n",
       "  'communications',\n",
       "  'power',\n",
       "  'thought',\n",
       "  'current',\n",
       "  'days',\n",
       "  'box',\n",
       "  'others',\n",
       "  'general',\n",
       "  'copy',\n",
       "  'features',\n",
       "  'either',\n",
       "  'large',\n",
       "  'added',\n",
       "  'directory',\n",
       "  'bush',\n",
       "  'won',\n",
       "  'database',\n",
       "  'theregister',\n",
       "  '150',\n",
       "  'language',\n",
       "  'welcome',\n",
       "  'ok',\n",
       "  'second',\n",
       "  'tips',\n",
       "  'card',\n",
       "  'ac',\n",
       "  'select',\n",
       "  'recommend',\n",
       "  'america',\n",
       "  'question',\n",
       "  '400',\n",
       "  'ago',\n",
       "  'making',\n",
       "  'editor',\n",
       "  'wrong',\n",
       "  '04',\n",
       "  'idea',\n",
       "  'personal',\n",
       "  'hat',\n",
       "  'project',\n",
       "  'him',\n",
       "  'eeeeee',\n",
       "  'trade',\n",
       "  'transfer',\n",
       "  'american',\n",
       "  '27',\n",
       "  '3d2',\n",
       "  'quite',\n",
       "  'nothing',\n",
       "  'sub',\n",
       "  'seen',\n",
       "  'xp',\n",
       "  'rather',\n",
       "  'store',\n",
       "  'bad',\n",
       "  'nice',\n",
       "  'special',\n",
       "  'pricegrabber',\n",
       "  'stop',\n",
       "  'often',\n",
       "  'installed',\n",
       "  'popular',\n",
       "  'share',\n",
       "  'bug',\n",
       "  'live',\n",
       "  'fact',\n",
       "  'gnometomes',\n",
       "  'feature',\n",
       "  'choice',\n",
       "  'index',\n",
       "  'v',\n",
       "  'makes',\n",
       "  'word',\n",
       "  'hi',\n",
       "  'details',\n",
       "  'play',\n",
       "  'newsletters',\n",
       "  'man',\n",
       "  'office',\n",
       "  'alsa',\n",
       "  'archives',\n",
       "  'per',\n",
       "  'downloads',\n",
       "  'whether',\n",
       "  'results',\n",
       "  'main',\n",
       "  '03',\n",
       "  'writes',\n",
       "  'ftp',\n",
       "  'process',\n",
       "  'ummail4',\n",
       "  'visit',\n",
       "  'listman',\n",
       "  'music',\n",
       "  '51',\n",
       "  'applications',\n",
       "  'away',\n",
       "  'cfm',\n",
       "  'ds',\n",
       "  'control',\n",
       "  'mac',\n",
       "  'geek',\n",
       "  'president',\n",
       "  'bold',\n",
       "  '2000',\n",
       "  'means',\n",
       "  'industry',\n",
       "  'several',\n",
       "  'servers',\n",
       "  'bin',\n",
       "  'mediaunspun',\n",
       "  'eff',\n",
       "  'via',\n",
       "  'remove',\n",
       "  'experience',\n",
       "  'supplied',\n",
       "  'fff',\n",
       "  'packages',\n",
       "  'cell',\n",
       "  'call',\n",
       "  'nowrap',\n",
       "  '109',\n",
       "  'usr',\n",
       "  'single',\n",
       "  'client',\n",
       "  'unitedmedia',\n",
       "  'id4',\n",
       "  'area',\n",
       "  'options',\n",
       "  'wed',\n",
       "  '336699',\n",
       "  'reserved',\n",
       "  'john',\n",
       "  'tools',\n",
       "  'rule',\n",
       "  'links',\n",
       "  'drive',\n",
       "  'discuss',\n",
       "  'video',\n",
       "  'gray',\n",
       "  'true',\n",
       "  'review',\n",
       "  'seem',\n",
       "  'sort',\n",
       "  'past',\n",
       "  '75',\n",
       "  'encoding',\n",
       "  'memory',\n",
       "  'heaven',\n",
       "  'friends',\n",
       "  '2001',\n",
       "  'level',\n",
       "  'everything',\n",
       "  'de',\n",
       "  '40',\n",
       "  'words',\n",
       "  'hit',\n",
       "  'lines',\n",
       "  'underline',\n",
       "  'tuesday',\n",
       "  'license',\n",
       "  'qqqqqqqqqq',\n",
       "  'machine',\n",
       "  'devel',\n",
       "  'default',\n",
       "  'cc',\n",
       "  'reason',\n",
       "  'useful',\n",
       "  'unseen',\n",
       "  'gnu',\n",
       "  'david',\n",
       "  'preferences',\n",
       "  'jul',\n",
       "  'save',\n",
       "  'cost',\n",
       "  'important',\n",
       "  'thu',\n",
       "  'political',\n",
       "  'sites',\n",
       "  'games',\n",
       "  'whole',\n",
       "  'en',\n",
       "  'sign',\n",
       "  'changed',\n",
       "  'alb',\n",
       "  'tried',\n",
       "  'python',\n",
       "  'looks',\n",
       "  'archive',\n",
       "  'window',\n",
       "  '29',\n",
       "  'mp3',\n",
       "  'person',\n",
       "  'performance',\n",
       "  '97',\n",
       "  'i386',\n",
       "  'gets',\n",
       "  'letter',\n",
       "  'comments',\n",
       "  'during',\n",
       "  'secure',\n",
       "  'mime',\n",
       "  'mean',\n",
       "  'osdn',\n",
       "  'sid',\n",
       "  'anyway',\n",
       "  'known',\n",
       "  'reports',\n",
       "  '35',\n",
       "  'kind',\n",
       "  'side',\n",
       "  'fast',\n",
       "  'comment',\n",
       "  'national',\n",
       "  'common',\n",
       "  'above',\n",
       "  'return',\n",
       "  'similar',\n",
       "  'tome',\n",
       "  '410',\n",
       "  'pl',\n",
       "  'display',\n",
       "  'join',\n",
       "  'perhaps',\n",
       "  'transparent',\n",
       "  'currently',\n",
       "  'tm',\n",
       "  'mark',\n",
       "  'ap',\n",
       "  'gnome',\n",
       "  'provide',\n",
       "  'xx',\n",
       "  'community',\n",
       "  '110',\n",
       "  'freedom',\n",
       "  'given',\n",
       "  'half',\n",
       "  'msn',\n",
       "  'button',\n",
       "  'month',\n",
       "  'note',\n",
       "  '39',\n",
       "  '8pt',\n",
       "  'needs',\n",
       "  'rules',\n",
       "  'lib',\n",
       "  'configure',\n",
       "  'monday',\n",
       "  'ibm',\n",
       "  '85',\n",
       "  'street',\n",
       "  'simply',\n",
       "  '59',\n",
       "  'major',\n",
       "  '200',\n",
       "  'points',\n",
       "  'months',\n",
       "  'human',\n",
       "  'love',\n",
       "  'legal',\n",
       "  'pick',\n",
       "  'receive',\n",
       "  'believe',\n",
       "  'jobs',\n",
       "  'fr',\n",
       "  'mon',\n",
       "  'command',\n",
       "  'move',\n",
       "  'worth',\n",
       "  'fun',\n",
       "  'simple',\n",
       "  'manage',\n",
       "  'browser',\n",
       "  'upon',\n",
       "  'cache',\n",
       "  'built',\n",
       "  'section',\n",
       "  'beberg',\n",
       "  'google',\n",
       "  'understand',\n",
       "  'design',\n",
       "  'dvd',\n",
       "  'ftoc',\n",
       "  'everyone',\n",
       "  'international',\n",
       "  'women',\n",
       "  'almost',\n",
       "  'york',\n",
       "  'device',\n",
       "  '44',\n",
       "  'allow',\n",
       "  'dp',\n",
       "  'become',\n",
       "  'posted',\n",
       "  'tue',\n",
       "  'trial',\n",
       "  'unspun',\n",
       "  'standard',\n",
       "  'login',\n",
       "  'soon',\n",
       "  '10pt',\n",
       "  'fool',\n",
       "  'space',\n",
       "  'contents',\n",
       "  'teledyn',\n",
       "  'remember',\n",
       "  'country',\n",
       "  'team',\n",
       "  'policy',\n",
       "  'four',\n",
       "  'articles',\n",
       "  'computers',\n",
       "  'lost',\n",
       "  'd4',\n",
       "  'mind',\n",
       "  'comic',\n",
       "  'rss',\n",
       "  'although',\n",
       "  'hand',\n",
       "  'stock',\n",
       "  'went',\n",
       "  'later',\n",
       "  'interface',\n",
       "  'dave',\n",
       "  'meta',\n",
       "  'investor',\n",
       "  'recently',\n",
       "  'economic',\n",
       "  'load',\n",
       "  'designed',\n",
       "  'told',\n",
       "  'stories',\n",
       "  'projects',\n",
       "  'cvs',\n",
       "  'getprod',\n",
       "  'msg',\n",
       "  'came',\n",
       "  'account',\n",
       "  'interesting',\n",
       "  'ham',\n",
       "  'docs',\n",
       "  'act',\n",
       "  'recent',\n",
       "  'coming',\n",
       "  'tired',\n",
       "  'advertise',\n",
       "  'subscribe',\n",
       "  'various',\n",
       "  'ffcc99',\n",
       "  '55',\n",
       "  'imakenews',\n",
       "  'dr',\n",
       "  '600'])"
      ]
     },
     "execution_count": 26,
     "metadata": {},
     "output_type": "execute_result"
    }
   ],
   "source": [
    "sorted_spam_dict = sorted(spam_dict.items(), key=lambda x: x[1],reverse=True)\n",
    "sorted_ham_dict = sorted(ham_dict.items(), key=lambda x: x[1],reverse=True)\n",
    "\n",
    "sorted_spam_dict,sorted_ham_dict\n",
    "\n",
    "top_1000_spam = [x[0] for x in sorted_spam_dict[:1000]]\n",
    "top_1000_ham = [x[0] for x in sorted_ham_dict[:1000]]\n",
    "top_1000_spam,top_1000_ham"
   ]
  },
  {
   "cell_type": "code",
   "execution_count": 27,
   "metadata": {},
   "outputs": [],
   "source": [
    "lst=[]\n",
    "for x in top_1000_spam:\n",
    "    if x in top_1000_ham:\n",
    "        pass\n",
    "    else:\n",
    "        lst.append(x)"
   ]
  },
  {
   "cell_type": "code",
   "execution_count": null,
   "metadata": {},
   "outputs": [],
   "source": [
    "#computing the training error\n",
    "x_train=words_in_texts(lst, train['email'])\n",
    "y_train= train['spam']\n",
    "\n",
    "from sklearn.linear_model import LogisticRegression\n",
    "my_model=LogisticRegression().fit(x_train,y_train)\n",
    "y_pred = my_model.predict(x_train)"
   ]
  },
  {
   "cell_type": "code",
   "execution_count": null,
   "metadata": {},
   "outputs": [],
   "source": [
    "from sklearn.model_selection import cross_val_score\n",
    "\n",
    "training_accuracy = sum(y_pred==y_train)/len(y_train)\n",
    "\n",
    "validation_error=cross_val_score(my_model, words_in_texts(lst, val['email']), val['spam'], cv=5)"
   ]
  },
  {
   "cell_type": "markdown",
   "metadata": {
    "deletable": false,
    "editable": false,
    "nbgrader": {
     "grade": false,
     "grade_id": "q7",
     "locked": true,
     "schema_version": 2,
     "solution": false
    }
   },
   "source": [
    "<!-- BEGIN QUESTION -->\n",
    "\n",
    "### Question 7: Feature/Model Selection Process\n",
    "\n",
    "In this following cell, describe the process of improving your model. You should use at least 2-3 sentences each to address the follow questions:\n",
    "\n",
    "1. How did you find better features for your model?\n",
    "2. What did you try that worked or didn't work?\n",
    "3. What was surprising in your search for good features?\n",
    "\n",
    "<!--\n",
    "BEGIN QUESTION\n",
    "name: q7\n",
    "manual: True\n",
    "points: 6\n",
    "-->"
   ]
  },
  {
   "cell_type": "markdown",
   "metadata": {},
   "source": [
    "1. I first split the data into spam emails and ham emails. I then created and updated a dictionary that keeps track of how many times each word appears in spam emails and ham emails. I sorted out the top 1000 words from the two dictionaries and found the words that are in the top_spam but not in the top_ham. I then used visualizations to determine which features performed well. I used different kinds of plots to decide whether a feature is good enough to distinguish spam from ham email. Using the visualization data, I did a 5 fold-cross validation on X_train after splitting the training data into 80% as X_train and 20% as X_test. If the validation accuracy improved after adding a feature, then I considered it a good feature to use. \n",
    "\n",
    "2. At first I tried searching for words in the train.csv but I couldn't find a lot of words that could distinguish spam and ham emails. Also, I plotted a box plot to see whether the number of capital letters in the subject of spam and ham emails is a good feature. The spam emails have greater number of capital letters in their subjects.\n",
    "\n",
    "3. What I found surprising in my search for good features is that combinations of letter characters and numbers are common in spam emails, like '3e', '3dcenter', 'b5'. I was not expecting to this, as I thought that spam email would try to mimic regular emails, but I realize this makes sense since spam email is often mass produced and can be sloppy."
   ]
  },
  {
   "cell_type": "markdown",
   "metadata": {
    "nbgrader": {
     "grade": false,
     "grade_id": "q8",
     "locked": true,
     "schema_version": 2,
     "solution": false
    }
   },
   "source": [
    "<!-- END QUESTION -->\n",
    "\n",
    "\n",
    "\n",
    "### Question 8: EDA\n",
    "\n",
    "In the cell below, show a visualization that you used to select features for your model. \n",
    "\n",
    "Include:\n",
    "\n",
    "1. A plot showing something meaningful about the data that helped you during feature selection, model selection, or both.\n",
    "2. Two or three sentences describing what you plotted and its implications with respect to your features.\n",
    "\n",
    "Feel free to create as many plots as you want in your process of feature selection, but select only one for the response cell below.\n",
    "\n",
    "**You should not just produce an identical visualization to question 3.** Specifically, don't show us a bar chart of proportions, or a one-dimensional class-conditional density plot. Any other plot is acceptable, **as long as it comes with thoughtful commentary.** Here are some ideas:\n",
    "\n",
    "1. Consider the correlation between multiple features (look up correlation plots and `sns.heatmap`). \n",
    "1. Try to show redundancy in a group of features (e.g. `body` and `html` might co-occur relatively frequently, or you might be able to design a feature that captures all html tags and compare it to these). \n",
    "1. Visualize which words have high or low values for some useful statistic.\n",
    "1. Visually depict whether spam emails tend to be wordier (in some sense) than ham emails."
   ]
  },
  {
   "cell_type": "markdown",
   "metadata": {
    "deletable": false,
    "editable": false
   },
   "source": [
    "<!-- BEGIN QUESTION -->\n",
    "\n",
    "Generate your visualization in the cell below and provide your description in a comment.\n",
    "\n",
    "<!--\n",
    "BEGIN QUESTION\n",
    "name: q8\n",
    "manual: True\n",
    "format: image\n",
    "points: 6\n",
    "-->"
   ]
  },
  {
   "cell_type": "code",
   "execution_count": null,
   "metadata": {
    "ExecuteTime": {
     "end_time": "2019-04-02T00:27:36.170465Z",
     "start_time": "2019-04-02T00:27:36.167776Z"
    },
    "nbgrader": {
     "grade": true,
     "grade_id": "q8-eda",
     "locked": false,
     "points": 3,
     "schema_version": 2,
     "solution": true
    },
    "tags": [
     "student",
     "written",
     "q_eda1"
    ]
   },
   "outputs": [],
   "source": [
    "# Write your description (2-3 sentences) as a comment here:\n",
    "# This plot shows the number of capital letters in the subject of spam and ham emails.\n",
    "# From our visualization, it is clear that the spam emails have more capital letters in their subjects than \n",
    "# the ham email subjects.\n",
    "\n",
    "# Write the code to generate your visualization here:\n",
    "num_of_capital = train.subject.apply(lambda x: str(x)).str.findall(\"[A-Z]\").apply(lambda x: len(x))\n",
    "train[\"subject_capital\"] = num_of_capital\n",
    "sns.boxplot(x = \"spam\", y = \"subject_capital\", data = train)\n",
    "plt.figure(figsize = (7,5))"
   ]
  },
  {
   "cell_type": "markdown",
   "metadata": {
    "deletable": false,
    "editable": false,
    "nbgrader": {
     "grade": false,
     "grade_id": "q9",
     "locked": true,
     "schema_version": 2,
     "solution": false
    }
   },
   "source": [
    "<!-- END QUESTION -->\n",
    "\n",
    "<!-- BEGIN QUESTION -->\n",
    "\n",
    "### Question 9: ROC Curve\n",
    "\n",
    "In most cases we won't be able to get 0 false positives and 0 false negatives, so we have to compromise. For example, in the case of cancer screenings, false negatives are comparatively worse than false positives — a false negative means that a patient might not discover that they have cancer until it's too late, whereas a patient can just receive another screening for a false positive.\n",
    "\n",
    "Recall that logistic regression calculates the probability that an example belongs to a certain class. Then, to classify an example we say that an email is spam if our classifier gives it $\\ge 0.5$ probability of being spam. However, *we can adjust that cutoff*: we can say that an email is spam only if our classifier gives it $\\ge 0.7$ probability of being spam, for example. This is how we can trade off false positives and false negatives.\n",
    "\n",
    "The ROC curve shows this trade off for each possible cutoff probability. In the cell below, plot a ROC curve for your final classifier (the one you use to make predictions for Gradescope) on the training data. Refer to Lecture 19 or [Section 17.7](https://www.textbook.ds100.org/ch/17/classification_sensitivity_specificity.html) of the course text to see how to plot an ROC curve.\n",
    "\n",
    "<!--\n",
    "BEGIN QUESTION\n",
    "name: q9\n",
    "manual: True\n",
    "points: 3\n",
    "-->"
   ]
  },
  {
   "cell_type": "code",
   "execution_count": null,
   "metadata": {},
   "outputs": [],
   "source": [
    "from sklearn.metrics import roc_curve\n",
    "\n",
    "# Note that you'll want to use the .predict_proba(...) method for your classifier\n",
    "# instead of .predict(...) so you get probabilities, not classes\n",
    "\n",
    "y_hat = my_model.predict_proba(x_train)[:, 1]\n",
    "fpr, tpr, thresholds = roc_curve(y_train, y_hat)\n",
    "\n",
    "with sns.axes_style(\"white\"):\n",
    "    plt.plot(fpr, tpr)\n",
    "\n",
    "sns.despine()\n",
    "plt.xlabel('False Positive Rate')\n",
    "plt.ylabel('True Positive Rate');"
   ]
  },
  {
   "cell_type": "markdown",
   "metadata": {
    "deletable": false,
    "editable": false,
    "nbgrader": {
     "grade": false,
     "grade_id": "q10",
     "locked": true,
     "schema_version": 2,
     "solution": false
    }
   },
   "source": [
    "<!-- END QUESTION -->\n",
    "\n",
    "# Question 10: Test Predictions\n",
    "\n",
    "The following code will write your predictions on the test dataset to a CSV file. **You will need to submit this file to the \"Project 2 Test Predictions\" assignment on Gradescope to get credit for this question.**\n",
    "\n",
    "Save your predictions in a 1-dimensional array called `test_predictions`. **Please make sure you've saved your predictions to `test_predictions` as this is how part of your score for this question will be determined.**\n",
    "\n",
    "Remember that if you've performed transformations or featurization on the training data, you must also perform the same transformations on the test data in order to make predictions. For example, if you've created features for the words \"drug\" and \"money\" on the training data, you must also extract the same features in order to use scikit-learn's `.predict(...)` method.\n",
    "\n",
    "**Note: You may submit up to 4 times a day. If you have submitted 4 times on a day, you will need to wait until the next day for more submissions.**\n",
    "\n",
    "Note that this question is graded on an absolute scale based on the accuracy your model achieves on the overall test set, and as such, your score does not depend on your ranking on Gradescope. Your public Gradescope results are based off of your classifier's accuracy on 70% of the test dataset and your score for this question will be based off of your classifier's accuracy on 100% of the test set.\n",
    "\n",
    "*The provided tests check that your predictions are in the correct format, but you must additionally submit to Gradescope to evaluate your classifier accuracy.*\n",
    "\n",
    "<!--\n",
    "BEGIN QUESTION\n",
    "name: q10\n",
    "points: 3\n",
    "-->"
   ]
  },
  {
   "cell_type": "code",
   "execution_count": null,
   "metadata": {
    "ExecuteTime": {
     "end_time": "2019-04-02T00:27:38.650695Z",
     "start_time": "2019-04-02T00:27:38.469233Z"
    },
    "nbgrader": {
     "grade": false,
     "grade_id": "q10-answer",
     "locked": false,
     "schema_version": 2,
     "solution": true
    }
   },
   "outputs": [],
   "source": [
    "test_predictions = my_model.predict(words_in_texts(lst, test['email']))"
   ]
  },
  {
   "cell_type": "code",
   "execution_count": null,
   "metadata": {
    "deletable": false,
    "editable": false
   },
   "outputs": [],
   "source": [
    "grader.check(\"q10\")"
   ]
  },
  {
   "cell_type": "markdown",
   "metadata": {
    "nbgrader": {
     "grade": false,
     "grade_id": "cell-d15e30e2a961277d",
     "locked": true,
     "schema_version": 2,
     "solution": false
    }
   },
   "source": [
    "The following cell generates a CSV file with your predictions. **You must submit this CSV file to the \"Project 2 Test Predictions\" assignment on Gradescope to get credit for this question.**"
   ]
  },
  {
   "cell_type": "code",
   "execution_count": null,
   "metadata": {
    "ExecuteTime": {
     "end_time": "2019-04-02T00:27:39.986326Z",
     "start_time": "2019-04-02T00:27:38.385Z"
    },
    "nbgrader": {
     "grade": false,
     "grade_id": "cell-8dd1bfadcbe08b00",
     "locked": true,
     "schema_version": 2,
     "solution": false
    }
   },
   "outputs": [],
   "source": [
    "from datetime import datetime\n",
    "\n",
    "# Assuming that your predictions on the test set are stored in a 1-dimensional array called\n",
    "# test_predictions. Feel free to modify this cell as long you create a CSV in the right format.\n",
    "\n",
    "# Construct and save the submission:\n",
    "submission_df = pd.DataFrame({\n",
    "    \"Id\": test['id'], \n",
    "    \"Class\": test_predictions,\n",
    "}, columns=['Id', 'Class'])\n",
    "timestamp = datetime.isoformat(datetime.now()).split(\".\")[0]\n",
    "submission_df.to_csv(\"submission_{}.csv\".format(timestamp), index=False)\n",
    "\n",
    "\n",
    "print('Created a CSV file: {}.'.format(\"submission_{}.csv\".format(timestamp)))\n",
    "print('You may now upload this CSV file to Gradescope for scoring.')"
   ]
  },
  {
   "cell_type": "markdown",
   "metadata": {
    "deletable": false,
    "editable": false
   },
   "source": [
    "---\n",
    "\n",
    "To double-check your work, the cell below will rerun all of the autograder tests."
   ]
  },
  {
   "cell_type": "code",
   "execution_count": null,
   "metadata": {
    "deletable": false,
    "editable": false
   },
   "outputs": [],
   "source": [
    "grader.check_all()"
   ]
  },
  {
   "cell_type": "markdown",
   "metadata": {
    "deletable": false,
    "editable": false
   },
   "source": [
    "## Submission\n",
    "\n",
    "Make sure you have run all cells in your notebook in order before running the cell below, so that all images/graphs appear in the output. The cell below will generate a zip file for you to submit. **Please save before exporting!**"
   ]
  },
  {
   "cell_type": "code",
   "execution_count": null,
   "metadata": {
    "deletable": false,
    "editable": false
   },
   "outputs": [],
   "source": [
    "# Save your notebook first, then run this cell to export your submission.\n",
    "grader.export(\"proj2.ipynb\")"
   ]
  },
  {
   "cell_type": "markdown",
   "metadata": {},
   "source": [
    " "
   ]
  }
 ],
 "metadata": {
  "history": [
   {
    "code": "train=train.reset_index(drop=True) # We must do this in order to preserve the ordering of emails to labels for words_in_texts\n\n# BEGIN SOLUTION\nsome_words = ['opportunity', 'bank', 'receive', 'dear', 'best', 'deal']\nPhi_train = words_in_texts(some_words, train['email'])\n\ndf = pd.DataFrame(data = Phi_train, columns = some_words)\ndf['label'] = train['spam']\n\nplt.figure(figsize=(12,8))\nsns.barplot(x = \"variable\", \n            y = \"value\", \n            hue = \"label\", \n            data = (df\n                    .replace({'label': \n                                {0 : 'Ham', \n                                 1 : 'Spam'}})\n                    .melt('label')\n                    .groupby(['label', 'variable'])\n                    .mean()\n                    .reset_index()))\n\nplt.xlabel('Words')\nplt.ylabel('Proportion of Emails')\nplt.legend(title = \"\")\nplt.title(\"Frequency of Words in Spam/Ham Emails\")\nplt.tight_layout()\nplt.show()\n# END SOLUTION",
    "id": "3da1bb8528f1420d8e4b01106abb0d1c",
    "idx": 33,
    "time": "2020-11-13T17:39:00.446Z",
    "type": "execution"
   },
   {
    "id": "3da1bb8528f1420d8e4b01106abb0d1c",
    "time": "2020-11-13T17:39:00.597Z",
    "type": "completion"
   },
   {
    "code": "# Run this cell to suppress all FutureWarnings\nimport warnings\nwarnings.filterwarnings(\"ignore\", category=FutureWarning)",
    "id": "bf4059a762a047a6a8e4179dc2c11815",
    "idx": 5,
    "time": "2020-11-13T17:39:15.247Z",
    "type": "execution"
   },
   {
    "code": "import numpy as np\nimport pandas as pd\n\nimport matplotlib.pyplot as plt\n%matplotlib inline\n\nimport seaborn as sns\nsns.set(style = \"whitegrid\", \n        color_codes = True,\n        font_scale = 1.5)",
    "id": "679de399389b410fbd1bd229389869ba",
    "idx": 8,
    "time": "2020-11-13T17:39:15.251Z",
    "type": "execution"
   },
   {
    "code": "from utils import fetch_and_cache_gdrive\nfetch_and_cache_gdrive('1SCASpLZFKCp2zek-toR3xeKX3DZnBSyp', 'train.csv')\nfetch_and_cache_gdrive('1ZDFo9OTF96B5GP2Nzn8P8-AL7CTQXmC0', 'test.csv')\n\noriginal_training_data = pd.read_csv('data/train.csv')\ntest = pd.read_csv('data/test.csv')\n\n# Convert the emails to lower case as a first step to processing the text\noriginal_training_data['email'] = original_training_data['email'].str.lower()\ntest['email'] = test['email'].str.lower()\n\noriginal_training_data.head()",
    "id": "668f75f782c041508f9e0c8f82311ad1",
    "idx": 10,
    "time": "2020-11-13T17:39:15.256Z",
    "type": "execution"
   },
   {
    "code": "# BEGIN SOLUTION\nprint('Before imputation:')\nprint(original_training_data.isnull().sum())\noriginal_training_data = original_training_data.fillna('')\nprint('------------')\nprint('After imputation:')\nprint(original_training_data.isnull().sum())\n# END SOLUTION",
    "id": "68e38b511a2c4f5480d4eda2b0082a11",
    "idx": 12,
    "time": "2020-11-13T17:39:15.259Z",
    "type": "execution"
   },
   {
    "code": "# TEST\noriginal_training_data.isnull().sum().sum() == 0",
    "id": "7f4b00c62776443e817cd5a255aa14b9",
    "idx": 13,
    "time": "2020-11-13T17:39:15.261Z",
    "type": "execution"
   },
   {
    "code": "first_ham = original_training_data.loc[original_training_data['spam'] == 0, 'email'].iloc[0] # SOLUTION\nfirst_spam = original_training_data.loc[original_training_data['spam'] == 1, 'email'].iloc[0] # SOLUTION\nprint(first_ham)\nprint(first_spam)",
    "id": "bfb55fdfdfb1456785bb78790aad426b",
    "idx": 15,
    "time": "2020-11-13T17:39:15.264Z",
    "type": "execution"
   },
   {
    "code": "# TEST\nlen(first_ham) > 0 and first_ham[:0] == ''",
    "id": "6345c5019a384a618017acbb080996d9",
    "idx": 16,
    "time": "2020-11-13T17:39:15.265Z",
    "type": "execution"
   },
   {
    "code": "# TEST\nlen(first_spam) > 0 and first_spam[:0] == ''",
    "id": "ee844f20ed0a41c4b81ff495fe482bdf",
    "idx": 17,
    "time": "2020-11-13T17:39:15.268Z",
    "type": "execution"
   },
   {
    "code": "# HIDDEN TEST\noriginal_training_data.loc[original_training_data['spam'] == 0, 'email'].iloc[0] in first_ham",
    "id": "13a350f12fac4931be17235a1daf0a93",
    "idx": 18,
    "time": "2020-11-13T17:39:15.270Z",
    "type": "execution"
   },
   {
    "code": "# HIDDEN TEST\noriginal_training_data.loc[original_training_data['spam'] == 1, 'email'].iloc[0] in first_spam",
    "id": "a90683e4a73346878a06d732d7101c87",
    "idx": 19,
    "time": "2020-11-13T17:39:15.272Z",
    "type": "execution"
   },
   {
    "code": "# This creates a 90/10 train-validation split on our labeled data\n\nfrom sklearn.model_selection import train_test_split\n\ntrain, val = train_test_split(original_training_data, test_size=0.1, random_state=42)",
    "id": "7523257e508447369ca710ce27eba7b1",
    "idx": 23,
    "time": "2020-11-13T17:39:15.276Z",
    "type": "execution"
   },
   {
    "code": "def words_in_texts(words, texts):\n    '''\n    Args:\n        words (list): words to find\n        texts (Series): strings to search in\n    \n    Returns:\n        NumPy array of 0s and 1s with shape (n, p) where n is the\n        number of texts and p is the number of words.\n    '''\n    indicator_array = 1 * np.array([texts.str.contains(word) for word in words]).T # SOLUTION\n    return indicator_array",
    "id": "81aa3a295d054268acb33351ad567192",
    "idx": 26,
    "time": "2020-11-13T17:39:15.279Z",
    "type": "execution"
   },
   {
    "code": "# TEST\nnp.allclose(words_in_texts(['hello', 'bye', 'world'], \n                           pd.Series(['hello', 'hello worldhello'])),\n            np.array([[1, 0, 0], \n                      [1, 0, 1]]))",
    "id": "690ffc0aa5e446949b45a8b4ecd76f85",
    "idx": 27,
    "time": "2020-11-13T17:39:15.282Z",
    "type": "execution"
   },
   {
    "code": "# TEST\nnp.allclose(words_in_texts(['a', 'b', 'c', 'd', 'e', 'f', 'g'], \n                           pd.Series(['a b c d ef g', 'a', 'b', 'c', 'd e f g', 'h', 'a h'])),\n            np.array([[1,1,1,1,1,1,1], \n                      [1,0,0,0,0,0,0],\n                      [0,1,0,0,0,0,0],\n                      [0,0,1,0,0,0,0],\n                      [0,0,0,1,1,1,1],\n                      [0,0,0,0,0,0,0],\n                      [1,0,0,0,0,0,0]]))",
    "id": "c3fba6032da048efaf5bf9b349cfb4f8",
    "idx": 28,
    "time": "2020-11-13T17:39:15.284Z",
    "type": "execution"
   },
   {
    "code": "from IPython.display import display, Markdown\ndf = pd.DataFrame({\n    'word_1': [1, 0, 1, 0],\n    'word_2': [0, 1, 0, 1],\n    'type': ['spam', 'ham', 'ham', 'ham']\n})\ndisplay(Markdown(\"> Our Original DataFrame has a `type` column and some columns corresponding to words. You can think of each row as a sentence, and the value of 1 or 0 indicates the number of occurences of the word in this sentence.\"))\ndisplay(df);\ndisplay(Markdown(\"> `melt` will turn columns into entries in a variable column. Notice how `word_1` and `word_2` become entries in `variable`; their values are stored in the value column.\"))\ndisplay(df.melt(\"type\"))",
    "id": "c248bceea6bd440c870eb7f942fcf77e",
    "idx": 31,
    "time": "2020-11-13T17:39:15.289Z",
    "type": "execution"
   },
   {
    "code": "train=train.reset_index(drop=True) # We must do this in order to preserve the ordering of emails to labels for words_in_texts\n\n# BEGIN SOLUTION\nsome_words = ['opportunity', 'bank', 'receive', 'dear', 'best', 'deal']\nPhi_train = words_in_texts(some_words, train['email'])\n\ndf = pd.DataFrame(data = Phi_train, columns = some_words)\ndf['label'] = train['spam']\n\nplt.figure(figsize=(12,8))\nsns.barplot(x = \"variable\", \n            y = \"value\", \n            hue = \"label\", \n            data = (df\n                    .replace({'label': \n                                {0 : 'Ham', \n                                 1 : 'Spam'}})\n                    .melt('label')\n                    .groupby(['label', 'variable'])\n                    .mean()\n                    .reset_index()))\n\nplt.xlabel('Words')\nplt.ylabel('Proportion of Emails')\nplt.legend(title = \"\")\nplt.title(\"Frequency of Words in Spam/Ham Emails\")\nplt.tight_layout()\nplt.show()\n# END SOLUTION",
    "id": "3da1bb8528f1420d8e4b01106abb0d1c",
    "idx": 33,
    "time": "2020-11-13T17:39:15.291Z",
    "type": "execution"
   },
   {
    "code": "# BEGIN SOLUTION\ntmp = train.copy()\ntmp['length'] = tmp['email'].str.len()\nplt.figure(figsize=(10, 6))\nsns.distplot(tmp.loc[tmp['spam'] == 0, 'length'],hist=False, label='Ham')\nsns.distplot(tmp.loc[tmp['spam'] == 1, 'length'],hist=False, label='Spam')\nplt.title('Distribution of Email Body Length')\nplt.xlabel('Length of email body')\nplt.ylabel('Distribution')\nplt.xlim((0,50000))\nplt.tight_layout()\nplt.legend();\n# END SOLUTION",
    "id": "ccae3bbd17a7472584923d1fd81f0c4b",
    "idx": 36,
    "time": "2020-11-13T17:39:15.295Z",
    "type": "execution"
   },
   {
    "code": "some_words = ['drug', 'bank', 'prescription', 'memo', 'private']\n\nX_train = words_in_texts(some_words, train['email']) # SOLUTION\nY_train = np.array(train['spam']) # SOLUTION\n\nX_train[:5], Y_train[:5]",
    "id": "4228df6326c449d782e8471fb2f787fe",
    "idx": 39,
    "time": "2020-11-13T17:39:15.297Z",
    "type": "execution"
   },
   {
    "code": "# TEST\nX_train.shape == (7513, 5)",
    "id": "16be536580a04248971c0fcb94bb3f0e",
    "idx": 40,
    "time": "2020-11-13T17:39:15.299Z",
    "type": "execution"
   },
   {
    "code": "# TEST\nnp.array_equal(np.unique(X_train), np.array([0, 1])) # X matrix should consist of only 0 or 1",
    "id": "dc0cb916fcc5470885a644448fa6684c",
    "idx": 41,
    "time": "2020-11-13T17:39:15.301Z",
    "type": "execution"
   },
   {
    "code": "# TEST\nnp.array_equal(np.unique(Y_train), np.array([0, 1])) # y vector should consist of only 0 or 1",
    "id": "7b8699ffc3414488a9d374ae3a762231",
    "idx": 42,
    "time": "2020-11-13T17:39:15.303Z",
    "type": "execution"
   },
   {
    "code": "from sklearn.linear_model import LogisticRegression\n\nmodel = LogisticRegression(solver = 'lbfgs') # SOLUTION\nmodel.fit(X_train, Y_train) # SOLUTION\n\ntraining_accuracy = model.score(X_train, Y_train) # SOLUTION\nprint(\"Training Accuracy: \", training_accuracy)",
    "id": "6a1a859678394a819af601759e1b4c0d",
    "idx": 44,
    "time": "2020-11-13T17:39:15.305Z",
    "type": "execution"
   },
   {
    "code": "# TEST\ntraining_accuracy > 0.72",
    "id": "45afd18c3a604fd8825017255e72891e",
    "idx": 45,
    "time": "2020-11-13T17:39:15.307Z",
    "type": "execution"
   },
   {
    "code": "zero_predictor_fp = 0 # SOLUTION\nzero_predictor_fn = sum(Y_train == 1) # SOLUTION\nzero_predictor_fp, zero_predictor_fn",
    "id": "30f5741e6f4742119d46340efe2e6a52",
    "idx": 49,
    "time": "2020-11-13T17:39:15.310Z",
    "type": "execution"
   },
   {
    "code": "# TEST\nzero_predictor_fp >= 0",
    "id": "23064baca6924c4c9f2d7f478494c007",
    "idx": 50,
    "time": "2020-11-13T17:39:15.312Z",
    "type": "execution"
   },
   {
    "code": "# TEST\nzero_predictor_fn >= 0",
    "id": "3475b02fb61a47839320a7c9edd5d518",
    "idx": 51,
    "time": "2020-11-13T17:39:15.314Z",
    "type": "execution"
   },
   {
    "code": "# HIDDEN TEST\nnp.isclose(zero_predictor_fp, 0)",
    "id": "feef0e913db14b6b8101c4489462b487",
    "idx": 52,
    "time": "2020-11-13T17:39:15.316Z",
    "type": "execution"
   },
   {
    "code": "# HIDDEN TEST\nzero_predictor_fn == 1918",
    "id": "8dde97c384214925a9c7f42f58f87aaf",
    "idx": 53,
    "time": "2020-11-13T17:39:15.318Z",
    "type": "execution"
   },
   {
    "code": "zero_predictor_acc = np.mean(Y_train == 0) # SOLUTION\nzero_predictor_recall = 0 # SOLUTION\nzero_predictor_acc, zero_predictor_recall",
    "id": "933ef39465ec409e96b3a53f6203baab",
    "idx": 55,
    "time": "2020-11-13T17:39:15.321Z",
    "type": "execution"
   },
   {
    "code": "# TEST\nzero_predictor_acc >= 0",
    "id": "2499a1d760f1441299b055adc8736e68",
    "idx": 56,
    "time": "2020-11-13T17:39:15.322Z",
    "type": "execution"
   },
   {
    "code": "# TEST\nzero_predictor_recall >= 0",
    "id": "2de51ed2ec9f4e11be1000fb204774a3",
    "idx": 57,
    "time": "2020-11-13T17:39:15.324Z",
    "type": "execution"
   },
   {
    "code": "# HIDDEN TEST\nnp.isclose(zero_predictor_acc, 0.7447091707706642)",
    "id": "ff5d5782535a42019b7eb5a8ec2753dc",
    "idx": 58,
    "time": "2020-11-13T17:39:15.325Z",
    "type": "execution"
   },
   {
    "code": "# HIDDEN TEST\nnp.isclose(zero_predictor_recall, 0)",
    "id": "f0850a5e5e024d2d9f9bcafe925e1901",
    "idx": 59,
    "time": "2020-11-13T17:39:15.327Z",
    "type": "execution"
   },
   {
    "code": "# BEGIN SOLUTION NO PROMPT\nY_train_hat = model.predict(X_train)\n\nTP = sum((Y_train_hat == Y_train) & (Y_train_hat == 1))\nTN = sum((Y_train_hat == Y_train) & (Y_train_hat == 0))\nFP = sum((Y_train_hat != Y_train) & (Y_train_hat == 1))\nFN = sum((Y_train_hat != Y_train) & (Y_train_hat == 0))\n# END SOLUTION\nlogistic_predictor_precision = TP / (TP + FP) # SOLUTION\nlogistic_predictor_recall = TP / (TP + FN) # SOLUTION\nlogistic_predictor_far = FP / (FP + TN) # SOLUTION",
    "id": "aa340a7e7443411fb115580a71b83b27",
    "idx": 63,
    "time": "2020-11-13T17:39:15.330Z",
    "type": "execution"
   },
   {
    "code": "# TEST\nlogistic_predictor_precision >= 0",
    "id": "2be7e72466a649f1822d8f8458cf3921",
    "idx": 64,
    "time": "2020-11-13T17:39:15.332Z",
    "type": "execution"
   },
   {
    "code": "# TEST\nlogistic_predictor_recall >= 0",
    "id": "70a7e749219e434092993513497dc589",
    "idx": 65,
    "time": "2020-11-13T17:39:15.335Z",
    "type": "execution"
   },
   {
    "code": "# TEST\nlogistic_predictor_far >= 0",
    "id": "c555cae2efe24a11960d966fee18793b",
    "idx": 66,
    "time": "2020-11-13T17:39:15.335Z",
    "type": "execution"
   },
   {
    "code": "# HIDDEN TEST\nnp.isclose(logistic_predictor_precision, 0.6422287390029325)",
    "id": "84339b96007044c18bb3370123e713d5",
    "idx": 67,
    "time": "2020-11-13T17:39:15.338Z",
    "type": "execution"
   },
   {
    "code": "# HIDDEN TEST\nnp.isclose(logistic_predictor_recall, 0.11418143899895725)",
    "id": "e9752dbea367428782b9be92a30dfd54",
    "idx": 68,
    "time": "2020-11-13T17:39:15.340Z",
    "type": "execution"
   },
   {
    "code": "# HIDDEN TEST\nnp.isclose(logistic_predictor_far, 0.021805183199285077)",
    "id": "b7177c97cf0a4893a65e2229d24bddde",
    "idx": 69,
    "time": "2020-11-13T17:39:15.341Z",
    "type": "execution"
   },
   {
    "code": "# Write your description (2-3 sentences) as a comment here:\n# \n#\n#\n\n# Write the code to generate your visualization here:\n# BEGIN SOLUTION\nplt.plot([1, 3, 5]) # This is a dummy plot, not a real example of a solution\n# END SOLUTION",
    "id": "8c0c0ab98ec64e0f843fdaaa8287e1b3",
    "idx": 79,
    "time": "2020-11-13T17:39:15.347Z",
    "type": "execution"
   },
   {
    "code": "from sklearn.metrics import roc_curve\n\n# Note that you'll want to use the .predict_proba(...) method for your classifier\n# instead of .predict(...) so you get probabilities, not classes\n\n# BEGIN SOLUTION\nstaff_words = ['body', 'click', 'please', 'base64', '2002', 'html', 'subscribed',\n               'wrote', 'mortgage', 'align3dcenterfont', 'dear', 'br', 'width10img',\n               'divfont', 'im', 'receive', 'list', 'tags', 'web', 'base64', 'click',\n               'body', 'please', 'money', 'offer', 'receive', 'contact', 'free',\n               'tr', 'removed', 'remove', 'html', 'font', 'form',\n               'credit', 'business', 'div']\n\nX_train_2 = words_in_texts(staff_words, train['email'])\n\nstaff_model = LogisticRegression(solver = 'lbfgs')\nstaff_model.fit(X_train_2, Y_train)\n\nprint('accuracy: ', staff_model.score(X_train_2, Y_train))\n\nY_predict = staff_model.predict_proba(X_train_2)[:, 1]\nfpr, tpr, thresholds = roc_curve(Y_train, Y_predict)\nwith sns.axes_style(\"white\"):\n    plt.plot(fpr, tpr)\nplt.xlabel(\"False Positive Rate\")\nplt.ylabel(\"True Positive Rate\")\nplt.xlim([0, 1])\nplt.ylim([0, 1])\nplt.show()\n# END SOLUTION",
    "id": "8059141c245f48d1843bcdba92a55cd9",
    "idx": 81,
    "time": "2020-11-13T17:39:15.349Z",
    "type": "execution"
   },
   {
    "code": "test_predictions = staff_model.predict(words_in_texts(staff_words, test['email'])) # SOLUTION",
    "id": "b3b715b7bbe440a29afc031436448f68",
    "idx": 83,
    "time": "2020-11-13T17:39:15.351Z",
    "type": "execution"
   },
   {
    "code": "# TEST\nisinstance(test_predictions, np.ndarray) # must be ndarray of predictions",
    "id": "4b8c3b3000f8467d8e92f63713c5a948",
    "idx": 84,
    "time": "2020-11-13T17:39:15.353Z",
    "type": "execution"
   },
   {
    "code": "# TEST\nnp.array_equal(np.unique(test_predictions), np.array([0, 1])) # must be binary labels (0 or 1) and not probabilities",
    "id": "e49cb9eca4884f10bd54709c678f11c4",
    "idx": 85,
    "time": "2020-11-13T17:39:15.355Z",
    "type": "execution"
   },
   {
    "code": "# TEST\nlen(test_predictions) == 1000 # must be the right number of predictions",
    "id": "558f42cfe8c64125afce510c3b7d9647",
    "idx": 86,
    "time": "2020-11-13T17:39:15.357Z",
    "type": "execution"
   },
   {
    "code": "from datetime import datetime\n\n# Assuming that your predictions on the test set are stored in a 1-dimensional array called\n# test_predictions. Feel free to modify this cell as long you create a CSV in the right format.\n\n# Construct and save the submission:\nsubmission_df = pd.DataFrame({\n    \"Id\": test['id'], \n    \"Class\": test_predictions,\n}, columns=['Id', 'Class'])\ntimestamp = datetime.isoformat(datetime.now()).split(\".\")[0]\nsubmission_df.to_csv(\"submission_{}.csv\".format(timestamp), index=False)\n\nprint('Created a CSV file: {}.'.format(\"submission_{}.csv\".format(timestamp)))\nprint('You may now upload this CSV file to Gradescope for scoring.')",
    "id": "951a8f66c9384b52b03fd07762ba6645",
    "idx": 88,
    "time": "2020-11-13T17:39:15.359Z",
    "type": "execution"
   },
   {
    "id": "bf4059a762a047a6a8e4179dc2c11815",
    "time": "2020-11-13T17:39:15.381Z",
    "type": "completion"
   },
   {
    "id": "679de399389b410fbd1bd229389869ba",
    "time": "2020-11-13T17:39:16.314Z",
    "type": "completion"
   },
   {
    "id": "668f75f782c041508f9e0c8f82311ad1",
    "time": "2020-11-13T17:39:17.398Z",
    "type": "completion"
   },
   {
    "id": "68e38b511a2c4f5480d4eda2b0082a11",
    "time": "2020-11-13T17:39:17.402Z",
    "type": "completion"
   },
   {
    "id": "7f4b00c62776443e817cd5a255aa14b9",
    "time": "2020-11-13T17:39:17.451Z",
    "type": "completion"
   },
   {
    "id": "bfb55fdfdfb1456785bb78790aad426b",
    "time": "2020-11-13T17:39:17.502Z",
    "type": "completion"
   },
   {
    "id": "6345c5019a384a618017acbb080996d9",
    "time": "2020-11-13T17:39:17.557Z",
    "type": "completion"
   },
   {
    "id": "ee844f20ed0a41c4b81ff495fe482bdf",
    "time": "2020-11-13T17:39:17.641Z",
    "type": "completion"
   },
   {
    "id": "13a350f12fac4931be17235a1daf0a93",
    "time": "2020-11-13T17:39:17.687Z",
    "type": "completion"
   },
   {
    "id": "a90683e4a73346878a06d732d7101c87",
    "time": "2020-11-13T17:39:17.724Z",
    "type": "completion"
   },
   {
    "id": "7523257e508447369ca710ce27eba7b1",
    "time": "2020-11-13T17:39:17.810Z",
    "type": "completion"
   },
   {
    "id": "81aa3a295d054268acb33351ad567192",
    "time": "2020-11-13T17:39:17.822Z",
    "type": "completion"
   },
   {
    "id": "690ffc0aa5e446949b45a8b4ecd76f85",
    "time": "2020-11-13T17:39:17.854Z",
    "type": "completion"
   },
   {
    "id": "c3fba6032da048efaf5bf9b349cfb4f8",
    "time": "2020-11-13T17:39:17.895Z",
    "type": "completion"
   },
   {
    "id": "c248bceea6bd440c870eb7f942fcf77e",
    "time": "2020-11-13T17:39:17.923Z",
    "type": "completion"
   },
   {
    "id": "3da1bb8528f1420d8e4b01106abb0d1c",
    "time": "2020-11-13T17:39:18.623Z",
    "type": "completion"
   },
   {
    "id": "ccae3bbd17a7472584923d1fd81f0c4b",
    "time": "2020-11-13T17:39:19.061Z",
    "type": "completion"
   },
   {
    "id": "4228df6326c449d782e8471fb2f787fe",
    "time": "2020-11-13T17:39:19.120Z",
    "type": "completion"
   },
   {
    "id": "16be536580a04248971c0fcb94bb3f0e",
    "time": "2020-11-13T17:39:19.127Z",
    "type": "completion"
   },
   {
    "id": "dc0cb916fcc5470885a644448fa6684c",
    "time": "2020-11-13T17:39:19.185Z",
    "type": "completion"
   },
   {
    "id": "7b8699ffc3414488a9d374ae3a762231",
    "time": "2020-11-13T17:39:19.247Z",
    "type": "completion"
   },
   {
    "id": "6a1a859678394a819af601759e1b4c0d",
    "time": "2020-11-13T17:39:19.371Z",
    "type": "completion"
   },
   {
    "id": "45afd18c3a604fd8825017255e72891e",
    "time": "2020-11-13T17:39:19.383Z",
    "type": "completion"
   },
   {
    "id": "30f5741e6f4742119d46340efe2e6a52",
    "time": "2020-11-13T17:39:19.485Z",
    "type": "completion"
   },
   {
    "id": "23064baca6924c4c9f2d7f478494c007",
    "time": "2020-11-13T17:39:19.536Z",
    "type": "completion"
   },
   {
    "id": "3475b02fb61a47839320a7c9edd5d518",
    "time": "2020-11-13T17:39:19.588Z",
    "type": "completion"
   },
   {
    "id": "feef0e913db14b6b8101c4489462b487",
    "time": "2020-11-13T17:39:19.642Z",
    "type": "completion"
   },
   {
    "id": "8dde97c384214925a9c7f42f58f87aaf",
    "time": "2020-11-13T17:39:19.709Z",
    "type": "completion"
   },
   {
    "id": "933ef39465ec409e96b3a53f6203baab",
    "time": "2020-11-13T17:39:19.769Z",
    "type": "completion"
   },
   {
    "id": "2499a1d760f1441299b055adc8736e68",
    "time": "2020-11-13T17:39:19.867Z",
    "type": "completion"
   },
   {
    "id": "2de51ed2ec9f4e11be1000fb204774a3",
    "time": "2020-11-13T17:39:20.000Z",
    "type": "completion"
   },
   {
    "id": "ff5d5782535a42019b7eb5a8ec2753dc",
    "time": "2020-11-13T17:39:20.086Z",
    "type": "completion"
   },
   {
    "id": "f0850a5e5e024d2d9f9bcafe925e1901",
    "time": "2020-11-13T17:39:20.167Z",
    "type": "completion"
   },
   {
    "id": "aa340a7e7443411fb115580a71b83b27",
    "time": "2020-11-13T17:39:20.390Z",
    "type": "completion"
   },
   {
    "id": "2be7e72466a649f1822d8f8458cf3921",
    "time": "2020-11-13T17:39:20.396Z",
    "type": "completion"
   },
   {
    "id": "70a7e749219e434092993513497dc589",
    "time": "2020-11-13T17:39:20.469Z",
    "type": "completion"
   },
   {
    "id": "c555cae2efe24a11960d966fee18793b",
    "time": "2020-11-13T17:39:20.553Z",
    "type": "completion"
   },
   {
    "id": "84339b96007044c18bb3370123e713d5",
    "time": "2020-11-13T17:39:20.650Z",
    "type": "completion"
   },
   {
    "id": "e9752dbea367428782b9be92a30dfd54",
    "time": "2020-11-13T17:39:20.717Z",
    "type": "completion"
   },
   {
    "id": "b7177c97cf0a4893a65e2229d24bddde",
    "time": "2020-11-13T17:39:20.772Z",
    "type": "completion"
   },
   {
    "id": "8c0c0ab98ec64e0f843fdaaa8287e1b3",
    "time": "2020-11-13T17:39:21.057Z",
    "type": "completion"
   },
   {
    "id": "8059141c245f48d1843bcdba92a55cd9",
    "time": "2020-11-13T17:39:22.358Z",
    "type": "completion"
   },
   {
    "id": "b3b715b7bbe440a29afc031436448f68",
    "time": "2020-11-13T17:39:22.422Z",
    "type": "completion"
   },
   {
    "id": "4b8c3b3000f8467d8e92f63713c5a948",
    "time": "2020-11-13T17:39:22.456Z",
    "type": "completion"
   },
   {
    "id": "e49cb9eca4884f10bd54709c678f11c4",
    "time": "2020-11-13T17:39:22.531Z",
    "type": "completion"
   },
   {
    "id": "558f42cfe8c64125afce510c3b7d9647",
    "time": "2020-11-13T17:39:22.633Z",
    "type": "completion"
   },
   {
    "id": "951a8f66c9384b52b03fd07762ba6645",
    "time": "2020-11-13T17:39:22.769Z",
    "type": "completion"
   },
   {
    "code": "sns.distplot(tmp[tmp['spam']==0].length)",
    "id": "7d23973917c7446e89e5254e568f0870",
    "idx": 37,
    "time": "2020-11-13T17:47:19.110Z",
    "type": "execution"
   },
   {
    "id": "7d23973917c7446e89e5254e568f0870",
    "time": "2020-11-13T17:47:19.599Z",
    "type": "completion"
   },
   {
    "code": "sns.distplot(tmp[tmp['spam']==1].length)",
    "id": "3fa95f246e09494289e5530c5b1afc30",
    "idx": 37,
    "time": "2020-11-13T17:47:27.053Z",
    "type": "execution"
   },
   {
    "id": "3fa95f246e09494289e5530c5b1afc30",
    "time": "2020-11-13T17:47:27.538Z",
    "type": "completion"
   },
   {
    "code": "sns.distplot(tmp[tmp['spam']==1].length)\nplt.xlim(0, 50000)",
    "id": "3fa95f246e09494289e5530c5b1afc30",
    "idx": 37,
    "time": "2020-11-13T17:47:41.149Z",
    "type": "execution"
   },
   {
    "id": "3fa95f246e09494289e5530c5b1afc30",
    "time": "2020-11-13T17:47:41.623Z",
    "type": "completion"
   },
   {
    "code": "sns.distplot(tmp[tmp['spam']==0].length)\nplt.xlim(0, 50000)",
    "id": "7d23973917c7446e89e5254e568f0870",
    "idx": 38,
    "time": "2020-11-13T17:47:45.930Z",
    "type": "execution"
   },
   {
    "id": "7d23973917c7446e89e5254e568f0870",
    "time": "2020-11-13T17:47:46.515Z",
    "type": "completion"
   },
   {
    "code": "# BEGIN SOLUTION\ntmp = train.copy()\ntmp['length'] = tmp['email'].str.len()\nplt.figure(figsize=(10, 6))\nsns.distplot(tmp.loc[tmp['spam'] == 0, 'length'],hist=False, label='Ham')\nsns.distplot(tmp.loc[tmp['spam'] == 1, 'length'],hist=False, label='Spam')\nplt.title('Distribution of Email Body Length')\nplt.xlabel('Length of email body')\nplt.ylabel('Distribution')\nplt.xlim((0,50000))\nplt.tight_layout()\nplt.legend();\n# END SOLUTION\nplt.savefig('training_conditional_densities.png')",
    "id": "ccae3bbd17a7472584923d1fd81f0c4b",
    "idx": 36,
    "time": "2020-11-13T17:48:23.568Z",
    "type": "execution"
   },
   {
    "id": "ccae3bbd17a7472584923d1fd81f0c4b",
    "time": "2020-11-13T17:48:24.403Z",
    "type": "completion"
   },
   {
    "code": "# Run this cell to suppress all FutureWarnings\nimport warnings\nwarnings.filterwarnings(\"ignore\", category=FutureWarning)",
    "id": "bf4059a762a047a6a8e4179dc2c11815",
    "idx": 5,
    "time": "2020-11-13T17:50:40.136Z",
    "type": "execution"
   },
   {
    "id": "bf4059a762a047a6a8e4179dc2c11815",
    "time": "2020-11-13T17:50:40.313Z",
    "type": "completion"
   },
   {
    "code": "import numpy as np\nimport pandas as pd\n\nimport matplotlib.pyplot as plt\n%matplotlib inline\n\nimport seaborn as sns\nsns.set(style = \"whitegrid\", \n        color_codes = True,\n        font_scale = 1.5)",
    "id": "679de399389b410fbd1bd229389869ba",
    "idx": 8,
    "time": "2020-11-13T17:50:40.821Z",
    "type": "execution"
   },
   {
    "id": "679de399389b410fbd1bd229389869ba",
    "time": "2020-11-13T17:50:40.897Z",
    "type": "completion"
   },
   {
    "code": "from utils import fetch_and_cache_gdrive\nfetch_and_cache_gdrive('1SCASpLZFKCp2zek-toR3xeKX3DZnBSyp', 'train.csv')\nfetch_and_cache_gdrive('1ZDFo9OTF96B5GP2Nzn8P8-AL7CTQXmC0', 'test.csv')\n\noriginal_training_data = pd.read_csv('data/train.csv')\ntest = pd.read_csv('data/test.csv')\n\n# Convert the emails to lower case as a first step to processing the text\noriginal_training_data['email'] = original_training_data['email'].str.lower()\ntest['email'] = test['email'].str.lower()\n\noriginal_training_data.head()",
    "id": "668f75f782c041508f9e0c8f82311ad1",
    "idx": 10,
    "time": "2020-11-13T17:50:41.062Z",
    "type": "execution"
   },
   {
    "code": "# BEGIN SOLUTION\nprint('Before imputation:')\nprint(original_training_data.isnull().sum())\noriginal_training_data = original_training_data.fillna('')\nprint('------------')\nprint('After imputation:')\nprint(original_training_data.isnull().sum())\n# END SOLUTION",
    "id": "68e38b511a2c4f5480d4eda2b0082a11",
    "idx": 12,
    "time": "2020-11-13T17:50:41.287Z",
    "type": "execution"
   },
   {
    "code": "# TEST\noriginal_training_data.isnull().sum().sum() == 0",
    "id": "7f4b00c62776443e817cd5a255aa14b9",
    "idx": 13,
    "time": "2020-11-13T17:50:41.411Z",
    "type": "execution"
   },
   {
    "id": "668f75f782c041508f9e0c8f82311ad1",
    "time": "2020-11-13T17:50:41.553Z",
    "type": "completion"
   },
   {
    "id": "68e38b511a2c4f5480d4eda2b0082a11",
    "time": "2020-11-13T17:50:41.562Z",
    "type": "completion"
   },
   {
    "id": "7f4b00c62776443e817cd5a255aa14b9",
    "time": "2020-11-13T17:50:41.606Z",
    "type": "completion"
   },
   {
    "code": "first_ham = original_training_data.loc[original_training_data['spam'] == 0, 'email'].iloc[0] # SOLUTION\nfirst_spam = original_training_data.loc[original_training_data['spam'] == 1, 'email'].iloc[0] # SOLUTION\nprint(first_ham)\nprint(first_spam)",
    "id": "bfb55fdfdfb1456785bb78790aad426b",
    "idx": 15,
    "time": "2020-11-13T17:50:42.451Z",
    "type": "execution"
   },
   {
    "id": "bfb55fdfdfb1456785bb78790aad426b",
    "time": "2020-11-13T17:50:42.530Z",
    "type": "completion"
   },
   {
    "code": "# TEST\nlen(first_ham) > 0 and first_ham[:0] == ''",
    "id": "6345c5019a384a618017acbb080996d9",
    "idx": 16,
    "time": "2020-11-13T17:50:42.586Z",
    "type": "execution"
   },
   {
    "id": "6345c5019a384a618017acbb080996d9",
    "time": "2020-11-13T17:50:42.656Z",
    "type": "completion"
   },
   {
    "code": "# TEST\nlen(first_spam) > 0 and first_spam[:0] == ''",
    "id": "ee844f20ed0a41c4b81ff495fe482bdf",
    "idx": 17,
    "time": "2020-11-13T17:50:42.774Z",
    "type": "execution"
   },
   {
    "id": "ee844f20ed0a41c4b81ff495fe482bdf",
    "time": "2020-11-13T17:50:42.839Z",
    "type": "completion"
   },
   {
    "code": "# HIDDEN TEST\noriginal_training_data.loc[original_training_data['spam'] == 0, 'email'].iloc[0] in first_ham",
    "id": "13a350f12fac4931be17235a1daf0a93",
    "idx": 18,
    "time": "2020-11-13T17:50:42.995Z",
    "type": "execution"
   },
   {
    "id": "13a350f12fac4931be17235a1daf0a93",
    "time": "2020-11-13T17:50:43.069Z",
    "type": "completion"
   },
   {
    "code": "# HIDDEN TEST\noriginal_training_data.loc[original_training_data['spam'] == 1, 'email'].iloc[0] in first_spam",
    "id": "a90683e4a73346878a06d732d7101c87",
    "idx": 19,
    "time": "2020-11-13T17:50:43.103Z",
    "type": "execution"
   },
   {
    "id": "a90683e4a73346878a06d732d7101c87",
    "time": "2020-11-13T17:50:43.180Z",
    "type": "completion"
   },
   {
    "code": "# This creates a 90/10 train-validation split on our labeled data\n\nfrom sklearn.model_selection import train_test_split\n\ntrain, val = train_test_split(original_training_data, test_size=0.1, random_state=42)",
    "id": "7523257e508447369ca710ce27eba7b1",
    "idx": 23,
    "time": "2020-11-13T17:50:43.719Z",
    "type": "execution"
   },
   {
    "id": "7523257e508447369ca710ce27eba7b1",
    "time": "2020-11-13T17:50:43.793Z",
    "type": "completion"
   },
   {
    "code": "def words_in_texts(words, texts):\n    '''\n    Args:\n        words (list): words to find\n        texts (Series): strings to search in\n    \n    Returns:\n        NumPy array of 0s and 1s with shape (n, p) where n is the\n        number of texts and p is the number of words.\n    '''\n    indicator_array = 1 * np.array([texts.str.contains(word) for word in words]).T # SOLUTION\n    return indicator_array",
    "id": "81aa3a295d054268acb33351ad567192",
    "idx": 26,
    "time": "2020-11-13T17:50:44.197Z",
    "type": "execution"
   },
   {
    "id": "81aa3a295d054268acb33351ad567192",
    "time": "2020-11-13T17:50:44.266Z",
    "type": "completion"
   },
   {
    "code": "# TEST\nnp.allclose(words_in_texts(['hello', 'bye', 'world'], \n                           pd.Series(['hello', 'hello worldhello'])),\n            np.array([[1, 0, 0], \n                      [1, 0, 1]]))",
    "id": "690ffc0aa5e446949b45a8b4ecd76f85",
    "idx": 27,
    "time": "2020-11-13T17:50:44.320Z",
    "type": "execution"
   },
   {
    "id": "690ffc0aa5e446949b45a8b4ecd76f85",
    "time": "2020-11-13T17:50:44.392Z",
    "type": "completion"
   },
   {
    "code": "# TEST\nnp.allclose(words_in_texts(['a', 'b', 'c', 'd', 'e', 'f', 'g'], \n                           pd.Series(['a b c d ef g', 'a', 'b', 'c', 'd e f g', 'h', 'a h'])),\n            np.array([[1,1,1,1,1,1,1], \n                      [1,0,0,0,0,0,0],\n                      [0,1,0,0,0,0,0],\n                      [0,0,1,0,0,0,0],\n                      [0,0,0,1,1,1,1],\n                      [0,0,0,0,0,0,0],\n                      [1,0,0,0,0,0,0]]))",
    "id": "c3fba6032da048efaf5bf9b349cfb4f8",
    "idx": 28,
    "time": "2020-11-13T17:50:44.456Z",
    "type": "execution"
   },
   {
    "id": "c3fba6032da048efaf5bf9b349cfb4f8",
    "time": "2020-11-13T17:50:44.532Z",
    "type": "completion"
   },
   {
    "code": "from IPython.display import display, Markdown\ndf = pd.DataFrame({\n    'word_1': [1, 0, 1, 0],\n    'word_2': [0, 1, 0, 1],\n    'type': ['spam', 'ham', 'ham', 'ham']\n})\ndisplay(Markdown(\"> Our Original DataFrame has a `type` column and some columns corresponding to words. You can think of each row as a sentence, and the value of 1 or 0 indicates the number of occurences of the word in this sentence.\"))\ndisplay(df);\ndisplay(Markdown(\"> `melt` will turn columns into entries in a variable column. Notice how `word_1` and `word_2` become entries in `variable`; their values are stored in the value column.\"))\ndisplay(df.melt(\"type\"))",
    "id": "c248bceea6bd440c870eb7f942fcf77e",
    "idx": 31,
    "time": "2020-11-13T17:50:44.843Z",
    "type": "execution"
   },
   {
    "id": "c248bceea6bd440c870eb7f942fcf77e",
    "time": "2020-11-13T17:50:44.938Z",
    "type": "completion"
   },
   {
    "code": "train=train.reset_index(drop=True) # We must do this in order to preserve the ordering of emails to labels for words_in_texts\n\n# BEGIN SOLUTION\nsome_words = ['opportunity', 'bank', 'receive', 'dear', 'best', 'deal']\nPhi_train = words_in_texts(some_words, train['email'])\n\ndf = pd.DataFrame(data = Phi_train, columns = some_words)\ndf['label'] = train['spam']\n\nplt.figure(figsize=(12,8))\nsns.barplot(x = \"variable\", \n            y = \"value\", \n            hue = \"label\", \n            data = (df\n                    .replace({'label': \n                                {0 : 'Ham', \n                                 1 : 'Spam'}})\n                    .melt('label')\n                    .groupby(['label', 'variable'])\n                    .mean()\n                    .reset_index()))\n\nplt.xlabel('Words')\nplt.ylabel('Proportion of Emails')\nplt.legend(title = \"\")\nplt.title(\"Frequency of Words in Spam/Ham Emails\")\nplt.tight_layout()\nplt.show()\n# END SOLUTION",
    "id": "3da1bb8528f1420d8e4b01106abb0d1c",
    "idx": 33,
    "time": "2020-11-13T17:50:45.085Z",
    "type": "execution"
   },
   {
    "code": "# BEGIN SOLUTION\ntmp = train.copy()\ntmp['length'] = tmp['email'].str.len()\nplt.figure(figsize=(10, 6))\nsns.distplot(tmp.loc[tmp['spam'] == 0, 'length'],hist=False, label='Ham')\nsns.distplot(tmp.loc[tmp['spam'] == 1, 'length'],hist=False, label='Spam')\nplt.title('Distribution of Email Body Length')\nplt.xlabel('Length of email body')\nplt.ylabel('Distribution')\nplt.xlim((0,50000))\nplt.tight_layout()\nplt.legend();\n# END SOLUTION\nplt.savefig('training_conditional_densities.png')",
    "id": "ccae3bbd17a7472584923d1fd81f0c4b",
    "idx": 36,
    "time": "2020-11-13T17:50:45.529Z",
    "type": "execution"
   },
   {
    "id": "3da1bb8528f1420d8e4b01106abb0d1c",
    "time": "2020-11-13T17:50:45.785Z",
    "type": "completion"
   },
   {
    "id": "ccae3bbd17a7472584923d1fd81f0c4b",
    "time": "2020-11-13T17:50:46.397Z",
    "type": "completion"
   },
   {
    "code": "# Run this cell to suppress all FutureWarnings\nimport warnings\nwarnings.filterwarnings(\"ignore\", category=FutureWarning)",
    "id": "5717cb1fad9e4423882ebb7402a960d0",
    "idx": 5,
    "time": "2020-11-13T17:52:54.134Z",
    "type": "execution"
   },
   {
    "id": "5717cb1fad9e4423882ebb7402a960d0",
    "time": "2020-11-13T17:52:54.207Z",
    "type": "completion"
   },
   {
    "code": "import numpy as np\nimport pandas as pd\n\nimport matplotlib.pyplot as plt\n%matplotlib inline\n\nimport seaborn as sns\nsns.set(style = \"whitegrid\", \n        color_codes = True,\n        font_scale = 1.5)",
    "id": "922a4e60525f4eafb7a67d51618380a8",
    "idx": 8,
    "time": "2020-11-13T17:52:54.451Z",
    "type": "execution"
   },
   {
    "id": "922a4e60525f4eafb7a67d51618380a8",
    "time": "2020-11-13T17:52:54.611Z",
    "type": "completion"
   },
   {
    "code": "from utils import fetch_and_cache_gdrive\nfetch_and_cache_gdrive('1SCASpLZFKCp2zek-toR3xeKX3DZnBSyp', 'train.csv')\nfetch_and_cache_gdrive('1ZDFo9OTF96B5GP2Nzn8P8-AL7CTQXmC0', 'test.csv')\n\noriginal_training_data = pd.read_csv('data/train.csv')\ntest = pd.read_csv('data/test.csv')\n\n# Convert the emails to lower case as a first step to processing the text\noriginal_training_data['email'] = original_training_data['email'].str.lower()\ntest['email'] = test['email'].str.lower()\n\noriginal_training_data.head()",
    "id": "5b789cd4cf994c438c36c83a11f0883e",
    "idx": 10,
    "time": "2020-11-13T17:52:54.797Z",
    "type": "execution"
   },
   {
    "code": "# BEGIN SOLUTION\nprint('Before imputation:')\nprint(original_training_data.isnull().sum())\noriginal_training_data = original_training_data.fillna('')\nprint('------------')\nprint('After imputation:')\nprint(original_training_data.isnull().sum())\n# END SOLUTION",
    "id": "8cc51a7378104317923b12eb8010193c",
    "idx": 12,
    "time": "2020-11-13T17:52:55.069Z",
    "type": "execution"
   },
   {
    "code": "# TEST\noriginal_training_data.isnull().sum().sum() == 0",
    "id": "fd0fc36dcb3e465fa5de88357798251b",
    "idx": 13,
    "time": "2020-11-13T17:52:55.204Z",
    "type": "execution"
   },
   {
    "id": "5b789cd4cf994c438c36c83a11f0883e",
    "time": "2020-11-13T17:52:55.275Z",
    "type": "completion"
   },
   {
    "id": "8cc51a7378104317923b12eb8010193c",
    "time": "2020-11-13T17:52:55.285Z",
    "type": "completion"
   },
   {
    "id": "fd0fc36dcb3e465fa5de88357798251b",
    "time": "2020-11-13T17:52:55.362Z",
    "type": "completion"
   },
   {
    "code": "first_ham = original_training_data.loc[original_training_data['spam'] == 0, 'email'].iloc[0] # SOLUTION\nfirst_spam = original_training_data.loc[original_training_data['spam'] == 1, 'email'].iloc[0] # SOLUTION\nprint(first_ham)\nprint(first_spam)",
    "id": "ec38cd1676674d79a1f78850b2bdeade",
    "idx": 15,
    "time": "2020-11-13T17:52:55.469Z",
    "type": "execution"
   },
   {
    "id": "ec38cd1676674d79a1f78850b2bdeade",
    "time": "2020-11-13T17:52:55.543Z",
    "type": "completion"
   },
   {
    "code": "# TEST\nlen(first_ham) > 0 and first_ham[:0] == ''",
    "id": "91fb9a6b7c524dd1b4ebaf00adfee1e0",
    "idx": 16,
    "time": "2020-11-13T17:52:55.714Z",
    "type": "execution"
   },
   {
    "id": "91fb9a6b7c524dd1b4ebaf00adfee1e0",
    "time": "2020-11-13T17:52:55.787Z",
    "type": "completion"
   },
   {
    "code": "# TEST\nlen(first_spam) > 0 and first_spam[:0] == ''",
    "id": "bc8e6529a6634c3abc2fbbdeb59cf56a",
    "idx": 17,
    "time": "2020-11-13T17:52:55.830Z",
    "type": "execution"
   },
   {
    "id": "bc8e6529a6634c3abc2fbbdeb59cf56a",
    "time": "2020-11-13T17:52:55.908Z",
    "type": "completion"
   },
   {
    "code": "# HIDDEN TEST\noriginal_training_data.loc[original_training_data['spam'] == 0, 'email'].iloc[0] in first_ham",
    "id": "72db8567d04348308e6661ab83085607",
    "idx": 18,
    "time": "2020-11-13T17:52:55.952Z",
    "type": "execution"
   },
   {
    "id": "72db8567d04348308e6661ab83085607",
    "time": "2020-11-13T17:52:56.024Z",
    "type": "completion"
   },
   {
    "code": "# HIDDEN TEST\noriginal_training_data.loc[original_training_data['spam'] == 1, 'email'].iloc[0] in first_spam",
    "id": "3618a1ff098948808c2c917f942d36aa",
    "idx": 19,
    "time": "2020-11-13T17:52:56.076Z",
    "type": "execution"
   },
   {
    "id": "3618a1ff098948808c2c917f942d36aa",
    "time": "2020-11-13T17:52:56.147Z",
    "type": "completion"
   },
   {
    "code": "# This creates a 90/10 train-validation split on our labeled data\n\nfrom sklearn.model_selection import train_test_split\n\ntrain, val = train_test_split(original_training_data, test_size=0.1, random_state=42)",
    "id": "96c9ac16984747308f833d4c03e9ed53",
    "idx": 23,
    "time": "2020-11-13T17:52:56.678Z",
    "type": "execution"
   },
   {
    "id": "96c9ac16984747308f833d4c03e9ed53",
    "time": "2020-11-13T17:52:56.755Z",
    "type": "completion"
   },
   {
    "code": "def words_in_texts(words, texts):\n    '''\n    Args:\n        words (list): words to find\n        texts (Series): strings to search in\n    \n    Returns:\n        NumPy array of 0s and 1s with shape (n, p) where n is the\n        number of texts and p is the number of words.\n    '''\n    indicator_array = 1 * np.array([texts.str.contains(word) for word in words]).T # SOLUTION\n    return indicator_array",
    "id": "06639f97d5a240988a6d7dd1e0b48d8b",
    "idx": 26,
    "time": "2020-11-13T17:52:57.072Z",
    "type": "execution"
   },
   {
    "id": "06639f97d5a240988a6d7dd1e0b48d8b",
    "time": "2020-11-13T17:52:57.145Z",
    "type": "completion"
   },
   {
    "code": "# TEST\nnp.allclose(words_in_texts(['hello', 'bye', 'world'], \n                           pd.Series(['hello', 'hello worldhello'])),\n            np.array([[1, 0, 0], \n                      [1, 0, 1]]))",
    "id": "ffde5bde95224ba58486ad532fb5c28c",
    "idx": 27,
    "time": "2020-11-13T17:52:57.170Z",
    "type": "execution"
   },
   {
    "id": "ffde5bde95224ba58486ad532fb5c28c",
    "time": "2020-11-13T17:52:57.245Z",
    "type": "completion"
   },
   {
    "code": "# TEST\nnp.allclose(words_in_texts(['a', 'b', 'c', 'd', 'e', 'f', 'g'], \n                           pd.Series(['a b c d ef g', 'a', 'b', 'c', 'd e f g', 'h', 'a h'])),\n            np.array([[1,1,1,1,1,1,1], \n                      [1,0,0,0,0,0,0],\n                      [0,1,0,0,0,0,0],\n                      [0,0,1,0,0,0,0],\n                      [0,0,0,1,1,1,1],\n                      [0,0,0,0,0,0,0],\n                      [1,0,0,0,0,0,0]]))",
    "id": "e3e6cf9be8e743fba0049d314831aebf",
    "idx": 28,
    "time": "2020-11-13T17:52:57.405Z",
    "type": "execution"
   },
   {
    "id": "e3e6cf9be8e743fba0049d314831aebf",
    "time": "2020-11-13T17:52:57.482Z",
    "type": "completion"
   },
   {
    "code": "from IPython.display import display, Markdown\ndf = pd.DataFrame({\n    'word_1': [1, 0, 1, 0],\n    'word_2': [0, 1, 0, 1],\n    'type': ['spam', 'ham', 'ham', 'ham']\n})\ndisplay(Markdown(\"> Our Original DataFrame has a `type` column and some columns corresponding to words. You can think of each row as a sentence, and the value of 1 or 0 indicates the number of occurences of the word in this sentence.\"))\ndisplay(df);\ndisplay(Markdown(\"> `melt` will turn columns into entries in a variable column. Notice how `word_1` and `word_2` become entries in `variable`; their values are stored in the value column.\"))\ndisplay(df.melt(\"type\"))",
    "id": "6dd5159205814d56b783b665571c9441",
    "idx": 31,
    "time": "2020-11-13T17:52:57.979Z",
    "type": "execution"
   },
   {
    "id": "6dd5159205814d56b783b665571c9441",
    "time": "2020-11-13T17:52:58.072Z",
    "type": "completion"
   },
   {
    "code": "train=train.reset_index(drop=True) # We must do this in order to preserve the ordering of emails to labels for words_in_texts\n\n# BEGIN SOLUTION\nsome_words = ['opportunity', 'bank', 'receive', 'dear', 'best', 'deal']\nPhi_train = words_in_texts(some_words, train['email'])\n\ndf = pd.DataFrame(data = Phi_train, columns = some_words)\ndf['label'] = train['spam']\n\nplt.figure(figsize=(12,8))\nsns.barplot(x = \"variable\", \n            y = \"value\", \n            hue = \"label\", \n            data = (df\n                    .replace({'label': \n                                {0 : 'Ham', \n                                 1 : 'Spam'}})\n                    .melt('label')\n                    .groupby(['label', 'variable'])\n                    .mean()\n                    .reset_index()))\n\nplt.xlabel('Words')\nplt.ylabel('Proportion of Emails')\nplt.legend(title = \"\")\nplt.title(\"Frequency of Words in Spam/Ham Emails\")\nplt.tight_layout()\nplt.show()\n# END SOLUTION",
    "id": "cc68f68e069e48788281a1bc9531d83d",
    "idx": 33,
    "time": "2020-11-13T17:52:58.316Z",
    "type": "execution"
   },
   {
    "code": "# BEGIN SOLUTION\ntmp = train.copy()\ntmp['length'] = tmp['email'].str.len()\nplt.figure(figsize=(10, 6))\nsns.distplot(tmp.loc[tmp['spam'] == 0, 'length'],hist=False, label='Ham')\nsns.distplot(tmp.loc[tmp['spam'] == 1, 'length'],hist=False, label='Spam')\nplt.title('Distribution of Email Body Length')\nplt.xlabel('Length of email body')\nplt.ylabel('Distribution')\nplt.xlim((0,50000))\nplt.tight_layout()\nplt.legend();\n# END SOLUTION\nplt.savefig('training_conditional_densities.png')",
    "id": "26273859df904aecb41ec51ef7d9885e",
    "idx": 36,
    "time": "2020-11-13T17:52:58.861Z",
    "type": "execution"
   },
   {
    "id": "cc68f68e069e48788281a1bc9531d83d",
    "time": "2020-11-13T17:52:59.050Z",
    "type": "completion"
   },
   {
    "id": "26273859df904aecb41ec51ef7d9885e",
    "time": "2020-11-13T17:52:59.571Z",
    "type": "completion"
   },
   {
    "code": "some_words = ['drug', 'bank', 'prescription', 'memo', 'private']\n\nX_train = words_in_texts(some_words, train['email']) # SOLUTION\nY_train = np.array(train['spam']) # SOLUTION\n\nX_train[:5], Y_train[:5]",
    "id": "62fb90ac758448c48db77978df497ae6",
    "idx": 39,
    "time": "2020-11-13T17:53:00.275Z",
    "type": "execution"
   },
   {
    "code": "# TEST\nX_train.shape == (7513, 5)",
    "id": "b365b5d2dcef401a8defa85c6f598d02",
    "idx": 40,
    "time": "2020-11-13T17:53:00.406Z",
    "type": "execution"
   },
   {
    "id": "62fb90ac758448c48db77978df497ae6",
    "time": "2020-11-13T17:53:00.493Z",
    "type": "completion"
   },
   {
    "id": "b365b5d2dcef401a8defa85c6f598d02",
    "time": "2020-11-13T17:53:00.498Z",
    "type": "completion"
   },
   {
    "code": "# TEST\nnp.array_equal(np.unique(X_train), np.array([0, 1])) # X matrix should consist of only 0 or 1",
    "id": "47d34afb59514919ba683fa0c888bde4",
    "idx": 41,
    "time": "2020-11-13T17:53:00.534Z",
    "type": "execution"
   },
   {
    "id": "47d34afb59514919ba683fa0c888bde4",
    "time": "2020-11-13T17:53:00.605Z",
    "type": "completion"
   },
   {
    "code": "# TEST\nnp.array_equal(np.unique(Y_train), np.array([0, 1])) # y vector should consist of only 0 or 1",
    "id": "e8cd7ec14d974ad9b019227069f6145d",
    "idx": 42,
    "time": "2020-11-13T17:53:00.660Z",
    "type": "execution"
   },
   {
    "id": "e8cd7ec14d974ad9b019227069f6145d",
    "time": "2020-11-13T17:53:00.733Z",
    "type": "completion"
   },
   {
    "code": "from sklearn.linear_model import LogisticRegression\n\nmodel = LogisticRegression(solver = 'lbfgs') # SOLUTION\nmodel.fit(X_train, Y_train) # SOLUTION\n\ntraining_accuracy = model.score(X_train, Y_train) # SOLUTION\nprint(\"Training Accuracy: \", training_accuracy)",
    "id": "d499255244534699864b5465ce019b5d",
    "idx": 44,
    "time": "2020-11-13T17:53:00.942Z",
    "type": "execution"
   },
   {
    "id": "d499255244534699864b5465ce019b5d",
    "time": "2020-11-13T17:53:01.061Z",
    "type": "completion"
   },
   {
    "code": "# TEST\ntraining_accuracy > 0.72",
    "id": "fef1c6cf1e4a4d3c88f2b4953c55e80d",
    "idx": 45,
    "time": "2020-11-13T17:53:01.501Z",
    "type": "execution"
   },
   {
    "id": "fef1c6cf1e4a4d3c88f2b4953c55e80d",
    "time": "2020-11-13T17:53:01.569Z",
    "type": "completion"
   },
   {
    "code": "zero_predictor_fp = 0 # SOLUTION\nzero_predictor_fn = sum(Y_train == 1) # SOLUTION\nzero_predictor_fp, zero_predictor_fn",
    "id": "0cffaab89bf348f189d092a3bfa1ea4d",
    "idx": 49,
    "time": "2020-11-13T17:53:02.485Z",
    "type": "execution"
   },
   {
    "id": "0cffaab89bf348f189d092a3bfa1ea4d",
    "time": "2020-11-13T17:53:02.576Z",
    "type": "completion"
   },
   {
    "code": "# TEST\nzero_predictor_fp >= 0",
    "id": "564c1eaebae947b69e6800e2ae98ba16",
    "idx": 50,
    "time": "2020-11-13T17:53:02.634Z",
    "type": "execution"
   },
   {
    "id": "564c1eaebae947b69e6800e2ae98ba16",
    "time": "2020-11-13T17:53:02.712Z",
    "type": "completion"
   },
   {
    "code": "# TEST\nzero_predictor_fn >= 0",
    "id": "8a79d709c33749518cf44392623bb119",
    "idx": 51,
    "time": "2020-11-13T17:53:02.760Z",
    "type": "execution"
   },
   {
    "id": "8a79d709c33749518cf44392623bb119",
    "time": "2020-11-13T17:53:02.832Z",
    "type": "completion"
   },
   {
    "code": "# HIDDEN TEST\nnp.isclose(zero_predictor_fp, 0)",
    "id": "d6ef40aabfde4fd9afc5e0ae8a2f9a56",
    "idx": 52,
    "time": "2020-11-13T17:53:02.881Z",
    "type": "execution"
   },
   {
    "id": "d6ef40aabfde4fd9afc5e0ae8a2f9a56",
    "time": "2020-11-13T17:53:02.953Z",
    "type": "completion"
   },
   {
    "code": "# HIDDEN TEST\nzero_predictor_fn == 1918",
    "id": "dd9b240252164f86b72fb4a1a40682d4",
    "idx": 53,
    "time": "2020-11-13T17:53:03.012Z",
    "type": "execution"
   },
   {
    "id": "dd9b240252164f86b72fb4a1a40682d4",
    "time": "2020-11-13T17:53:03.092Z",
    "type": "completion"
   },
   {
    "code": "zero_predictor_acc = np.mean(Y_train == 0) # SOLUTION\nzero_predictor_recall = 0 # SOLUTION\nzero_predictor_acc, zero_predictor_recall",
    "id": "84771e6a5b2d4591884e110cd14df188",
    "idx": 55,
    "time": "2020-11-13T17:53:03.505Z",
    "type": "execution"
   },
   {
    "id": "84771e6a5b2d4591884e110cd14df188",
    "time": "2020-11-13T17:53:03.572Z",
    "type": "completion"
   },
   {
    "code": "# TEST\nzero_predictor_acc >= 0",
    "id": "060a99ebe6ce4a5086717f109d2e7dca",
    "idx": 56,
    "time": "2020-11-13T17:53:03.631Z",
    "type": "execution"
   },
   {
    "id": "060a99ebe6ce4a5086717f109d2e7dca",
    "time": "2020-11-13T17:53:03.702Z",
    "type": "completion"
   },
   {
    "code": "# TEST\nzero_predictor_recall >= 0",
    "id": "16d18caac2104e4caf93f13a65241938",
    "idx": 57,
    "time": "2020-11-13T17:53:03.762Z",
    "type": "execution"
   },
   {
    "id": "16d18caac2104e4caf93f13a65241938",
    "time": "2020-11-13T17:53:03.831Z",
    "type": "completion"
   },
   {
    "code": "# HIDDEN TEST\nnp.isclose(zero_predictor_acc, 0.7447091707706642)",
    "id": "be360f140fc546fd8b086891e6614438",
    "idx": 58,
    "time": "2020-11-13T17:53:04.126Z",
    "type": "execution"
   },
   {
    "id": "be360f140fc546fd8b086891e6614438",
    "time": "2020-11-13T17:53:04.196Z",
    "type": "completion"
   },
   {
    "code": "# HIDDEN TEST\nnp.isclose(zero_predictor_recall, 0)",
    "id": "34130958f5e14ea2aa8627842fa37faf",
    "idx": 59,
    "time": "2020-11-13T17:53:04.243Z",
    "type": "execution"
   },
   {
    "id": "34130958f5e14ea2aa8627842fa37faf",
    "time": "2020-11-13T17:53:04.312Z",
    "type": "completion"
   },
   {
    "code": "# BEGIN SOLUTION NO PROMPT\nY_train_hat = model.predict(X_train)\n\nTP = sum((Y_train_hat == Y_train) & (Y_train_hat == 1))\nTN = sum((Y_train_hat == Y_train) & (Y_train_hat == 0))\nFP = sum((Y_train_hat != Y_train) & (Y_train_hat == 1))\nFN = sum((Y_train_hat != Y_train) & (Y_train_hat == 0))\n# END SOLUTION\nlogistic_predictor_precision = TP / (TP + FP) # SOLUTION\nlogistic_predictor_recall = TP / (TP + FN) # SOLUTION\nlogistic_predictor_far = FP / (FP + TN) # SOLUTION",
    "id": "69a4c98c4a1e45449c52800df7da21d9",
    "idx": 63,
    "time": "2020-11-13T17:53:04.794Z",
    "type": "execution"
   },
   {
    "code": "# TEST\nlogistic_predictor_precision >= 0",
    "id": "4fa2f8b900fa476f8ec08629fe9787aa",
    "idx": 64,
    "time": "2020-11-13T17:53:04.910Z",
    "type": "execution"
   },
   {
    "id": "69a4c98c4a1e45449c52800df7da21d9",
    "time": "2020-11-13T17:53:05.010Z",
    "type": "completion"
   },
   {
    "id": "4fa2f8b900fa476f8ec08629fe9787aa",
    "time": "2020-11-13T17:53:05.020Z",
    "type": "completion"
   },
   {
    "code": "# TEST\nlogistic_predictor_recall >= 0",
    "id": "f169fcb087ce4e1d87d7cada8bfc94a6",
    "idx": 65,
    "time": "2020-11-13T17:53:05.035Z",
    "type": "execution"
   },
   {
    "id": "f169fcb087ce4e1d87d7cada8bfc94a6",
    "time": "2020-11-13T17:53:05.111Z",
    "type": "completion"
   },
   {
    "code": "# TEST\nlogistic_predictor_far >= 0",
    "id": "ce0f25f5620849cc9a33d61b84e5caf6",
    "idx": 66,
    "time": "2020-11-13T17:53:05.173Z",
    "type": "execution"
   },
   {
    "id": "ce0f25f5620849cc9a33d61b84e5caf6",
    "time": "2020-11-13T17:53:05.250Z",
    "type": "completion"
   },
   {
    "code": "# HIDDEN TEST\nnp.isclose(logistic_predictor_precision, 0.6422287390029325)",
    "id": "2da6368a3815416ba07c4cbfaf0533d5",
    "idx": 67,
    "time": "2020-11-13T17:53:05.299Z",
    "type": "execution"
   },
   {
    "id": "2da6368a3815416ba07c4cbfaf0533d5",
    "time": "2020-11-13T17:53:05.379Z",
    "type": "completion"
   },
   {
    "code": "# HIDDEN TEST\nnp.isclose(logistic_predictor_recall, 0.11418143899895725)",
    "id": "1f49e01547f844499992699a3f8437d4",
    "idx": 68,
    "time": "2020-11-13T17:53:05.414Z",
    "type": "execution"
   },
   {
    "id": "1f49e01547f844499992699a3f8437d4",
    "time": "2020-11-13T17:53:05.484Z",
    "type": "completion"
   },
   {
    "code": "# HIDDEN TEST\nnp.isclose(logistic_predictor_far, 0.021805183199285077)",
    "id": "a86939b61fe7402b9bd562eda7adcb8a",
    "idx": 69,
    "time": "2020-11-13T17:53:05.535Z",
    "type": "execution"
   },
   {
    "id": "a86939b61fe7402b9bd562eda7adcb8a",
    "time": "2020-11-13T17:53:05.607Z",
    "type": "completion"
   },
   {
    "code": "# Write your description (2-3 sentences) as a comment here:\n# \n#\n#\n\n# Write the code to generate your visualization here:\n# BEGIN SOLUTION\nplt.plot([1, 3, 5]) # This is a dummy plot, not a real example of a solution\n# END SOLUTION",
    "id": "f9dd9c1872054b3aabcc6cde9965ad16",
    "idx": 79,
    "time": "2020-11-13T17:53:06.802Z",
    "type": "execution"
   },
   {
    "code": "from sklearn.metrics import roc_curve\n\n# Note that you'll want to use the .predict_proba(...) method for your classifier\n# instead of .predict(...) so you get probabilities, not classes\n\n# BEGIN SOLUTION\nstaff_words = ['body', 'click', 'please', 'base64', '2002', 'html', 'subscribed',\n               'wrote', 'mortgage', 'align3dcenterfont', 'dear', 'br', 'width10img',\n               'divfont', 'im', 'receive', 'list', 'tags', 'web', 'base64', 'click',\n               'body', 'please', 'money', 'offer', 'receive', 'contact', 'free',\n               'tr', 'removed', 'remove', 'html', 'font', 'form',\n               'credit', 'business', 'div']\n\nX_train_2 = words_in_texts(staff_words, train['email'])\n\nstaff_model = LogisticRegression(solver = 'lbfgs')\nstaff_model.fit(X_train_2, Y_train)\n\nprint('accuracy: ', staff_model.score(X_train_2, Y_train))\n\nY_predict = staff_model.predict_proba(X_train_2)[:, 1]\nfpr, tpr, thresholds = roc_curve(Y_train, Y_predict)\nwith sns.axes_style(\"white\"):\n    plt.plot(fpr, tpr)\nplt.xlabel(\"False Positive Rate\")\nplt.ylabel(\"True Positive Rate\")\nplt.xlim([0, 1])\nplt.ylim([0, 1])\nplt.show()\n# END SOLUTION",
    "id": "73428c5ed83743b199ed18dc26f18be3",
    "idx": 81,
    "time": "2020-11-13T17:53:07.068Z",
    "type": "execution"
   },
   {
    "id": "f9dd9c1872054b3aabcc6cde9965ad16",
    "time": "2020-11-13T17:53:07.170Z",
    "type": "completion"
   },
   {
    "code": "test_predictions = staff_model.predict(words_in_texts(staff_words, test['email'])) # SOLUTION",
    "id": "665d4320ee5a44fd8e5fc2cc55ecd777",
    "idx": 83,
    "time": "2020-11-13T17:53:07.542Z",
    "type": "execution"
   },
   {
    "code": "# TEST\nisinstance(test_predictions, np.ndarray) # must be ndarray of predictions",
    "id": "0dd28fcc619746e4831ad536f8956532",
    "idx": 84,
    "time": "2020-11-13T17:53:07.669Z",
    "type": "execution"
   },
   {
    "code": "# TEST\nnp.array_equal(np.unique(test_predictions), np.array([0, 1])) # must be binary labels (0 or 1) and not probabilities",
    "id": "6ccaddb5360c45609af4d3b6991ca741",
    "idx": 85,
    "time": "2020-11-13T17:53:07.805Z",
    "type": "execution"
   },
   {
    "code": "# TEST\nlen(test_predictions) == 1000 # must be the right number of predictions",
    "id": "e8c8f77a5758407293ae0b201063880f",
    "idx": 86,
    "time": "2020-11-13T17:53:07.949Z",
    "type": "execution"
   },
   {
    "code": "from datetime import datetime\n\n# Assuming that your predictions on the test set are stored in a 1-dimensional array called\n# test_predictions. Feel free to modify this cell as long you create a CSV in the right format.\n\n# Construct and save the submission:\nsubmission_df = pd.DataFrame({\n    \"Id\": test['id'], \n    \"Class\": test_predictions,\n}, columns=['Id', 'Class'])\ntimestamp = datetime.isoformat(datetime.now()).split(\".\")[0]\nsubmission_df.to_csv(\"submission_{}.csv\".format(timestamp), index=False)\n\nprint('Created a CSV file: {}.'.format(\"submission_{}.csv\".format(timestamp)))\nprint('You may now upload this CSV file to Gradescope for scoring.')",
    "id": "aa5bacff8532404a8471d14006215349",
    "idx": 88,
    "time": "2020-11-13T17:53:08.231Z",
    "type": "execution"
   },
   {
    "id": "73428c5ed83743b199ed18dc26f18be3",
    "time": "2020-11-13T17:53:08.462Z",
    "type": "completion"
   },
   {
    "id": "665d4320ee5a44fd8e5fc2cc55ecd777",
    "time": "2020-11-13T17:53:08.523Z",
    "type": "completion"
   },
   {
    "id": "0dd28fcc619746e4831ad536f8956532",
    "time": "2020-11-13T17:53:08.540Z",
    "type": "completion"
   },
   {
    "id": "6ccaddb5360c45609af4d3b6991ca741",
    "time": "2020-11-13T17:53:08.558Z",
    "type": "completion"
   },
   {
    "id": "e8c8f77a5758407293ae0b201063880f",
    "time": "2020-11-13T17:53:08.585Z",
    "type": "completion"
   },
   {
    "id": "aa5bacff8532404a8471d14006215349",
    "time": "2020-11-13T17:53:08.632Z",
    "type": "completion"
   },
   {
    "code": "print(len(original_training_data[original_training_data['subject'].isnull()]))\nprint(len(original_training_data[original_training_data['email'].isnull()]))\nprint(len(original_training_data[original_training_data['id'].isnull()]))\nprint(len(original_training_data[original_training_data['spam'].isnull()]))",
    "id": "100b28b0b47940458cc619e150154f9b",
    "idx": 12,
    "time": "2020-11-16T07:59:55.495Z",
    "type": "execution"
   },
   {
    "id": "100b28b0b47940458cc619e150154f9b",
    "time": "2020-11-16T07:59:55.682Z",
    "type": "completion"
   },
   {
    "code": "# Initialize Otter\nimport otter\ngrader = otter.Notebook()",
    "id": "cfe398fc9d494f2f8e0a0af39177f9f0",
    "idx": 0,
    "time": "2020-11-16T08:00:02.627Z",
    "type": "execution"
   },
   {
    "id": "cfe398fc9d494f2f8e0a0af39177f9f0",
    "time": "2020-11-16T08:00:03.173Z",
    "type": "completion"
   },
   {
    "code": "# Run this cell to suppress all FutureWarnings\nimport warnings\nwarnings.filterwarnings(\"ignore\", category=FutureWarning)",
    "id": "605329fadfe642bf8a9bd18ea36b3c0b",
    "idx": 5,
    "time": "2020-11-16T08:00:04.929Z",
    "type": "execution"
   },
   {
    "id": "605329fadfe642bf8a9bd18ea36b3c0b",
    "time": "2020-11-16T08:00:04.990Z",
    "type": "completion"
   },
   {
    "code": "import numpy as np\nimport pandas as pd\n\nimport matplotlib.pyplot as plt\n%matplotlib inline\n\nimport seaborn as sns\nsns.set(style = \"whitegrid\", \n        color_codes = True,\n        font_scale = 1.5)",
    "id": "c4d455672f4d4aff85e143c66e024107",
    "idx": 8,
    "time": "2020-11-16T08:00:06.223Z",
    "type": "execution"
   },
   {
    "code": "from utils import fetch_and_cache_gdrive\nfetch_and_cache_gdrive('1SCASpLZFKCp2zek-toR3xeKX3DZnBSyp', 'train.csv')\nfetch_and_cache_gdrive('1ZDFo9OTF96B5GP2Nzn8P8-AL7CTQXmC0', 'test.csv')\n\noriginal_training_data = pd.read_csv('data/train.csv')\ntest = pd.read_csv('data/test.csv')\n\n# Convert the emails to lower case as a first step to processing the text\noriginal_training_data['email'] = original_training_data['email'].str.lower()\ntest['email'] = test['email'].str.lower()\n\noriginal_training_data.head()",
    "id": "b10e75c9327246d4b2afa5b450aacd94",
    "idx": 10,
    "time": "2020-11-16T08:00:07.279Z",
    "type": "execution"
   },
   {
    "id": "c4d455672f4d4aff85e143c66e024107",
    "time": "2020-11-16T08:00:07.451Z",
    "type": "completion"
   },
   {
    "code": "print(len(original_training_data[original_training_data['subject'].isnull()]))\nprint(len(original_training_data[original_training_data['email'].isnull()]))\nprint(len(original_training_data[original_training_data['id'].isnull()]))\nprint(len(original_training_data[original_training_data['spam'].isnull()]))",
    "id": "100b28b0b47940458cc619e150154f9b",
    "idx": 12,
    "time": "2020-11-16T08:00:09.002Z",
    "type": "execution"
   },
   {
    "id": "b10e75c9327246d4b2afa5b450aacd94",
    "time": "2020-11-16T08:00:11.725Z",
    "type": "completion"
   },
   {
    "id": "100b28b0b47940458cc619e150154f9b",
    "time": "2020-11-16T08:00:11.733Z",
    "type": "completion"
   },
   {
    "code": "print(len(original_training_data[original_training_data['subject'].isnull()]))\nprint(len(original_training_data[original_training_data['email'].isnull()]))\nprint(len(original_training_data[original_training_data['id'].isnull()]))\nprint(len(original_training_data[original_training_data['spam'].isnull()]))\n\noriginal_training_data['subject'].replace(np.nan, '', regex=True,inplace=True)",
    "id": "100b28b0b47940458cc619e150154f9b",
    "idx": 12,
    "time": "2020-11-16T08:00:16.573Z",
    "type": "execution"
   },
   {
    "id": "100b28b0b47940458cc619e150154f9b",
    "time": "2020-11-16T08:00:16.645Z",
    "type": "completion"
   },
   {
    "code": "print(len(original_training_data[original_training_data['subject'].isnull()]))\nprint(len(original_training_data[original_training_data['email'].isnull()]))\nprint(len(original_training_data[original_training_data['id'].isnull()]))\nprint(len(original_training_data[original_training_data['spam'].isnull()]))\n\noriginal_training_data['subject'].replace(np.nan, '', regex=True,inplace=True)",
    "id": "100b28b0b47940458cc619e150154f9b",
    "idx": 12,
    "time": "2020-11-16T08:00:20.808Z",
    "type": "execution"
   },
   {
    "id": "100b28b0b47940458cc619e150154f9b",
    "time": "2020-11-16T08:00:20.881Z",
    "type": "completion"
   },
   {
    "code": "grader.check(\"q1a\")",
    "id": "1cd735f75d4e4928a669cebfff69e97b",
    "idx": 13,
    "time": "2020-11-16T08:00:26.881Z",
    "type": "execution"
   },
   {
    "id": "1cd735f75d4e4928a669cebfff69e97b",
    "time": "2020-11-16T08:00:26.994Z",
    "type": "completion"
   },
   {
    "code": "first_ham = original_training_data.groupby(['spam']).first().iloc[0]['email']\nfirst_spam = original_training_data.groupby(['spam']).first().iloc[1]['email']\nprint(first_ham)\nprint(first_spam)",
    "id": "a51ee1730d7c428a93df145515a7e09c",
    "idx": 15,
    "time": "2020-11-16T08:08:23.534Z",
    "type": "execution"
   },
   {
    "id": "a51ee1730d7c428a93df145515a7e09c",
    "time": "2020-11-16T08:08:23.670Z",
    "type": "completion"
   },
   {
    "code": "grader.check(\"q1b\")",
    "id": "741a76937a4c4d5b87c398bcb40f9643",
    "idx": 16,
    "time": "2020-11-16T08:08:28.633Z",
    "type": "execution"
   },
   {
    "id": "741a76937a4c4d5b87c398bcb40f9643",
    "time": "2020-11-16T08:08:28.713Z",
    "type": "completion"
   },
   {
    "code": "first_ham = original_training_data.groupby(['spam']).first().iloc[0]['email']\nfirst_spam = original_training_data.groupby(['spam']).first().iloc[1]['email']\nprint(first_ham)\n#print(first_spam)",
    "id": "a51ee1730d7c428a93df145515a7e09c",
    "idx": 15,
    "time": "2020-11-16T08:08:42.457Z",
    "type": "execution"
   },
   {
    "id": "a51ee1730d7c428a93df145515a7e09c",
    "time": "2020-11-16T08:08:42.533Z",
    "type": "completion"
   },
   {
    "code": "first_ham = original_training_data.groupby(['spam']).first().iloc[0]['email']\nfirst_spam = original_training_data.groupby(['spam']).first().iloc[1]['email']\nprint(first_ham)\nprint(first_spam)",
    "id": "a51ee1730d7c428a93df145515a7e09c",
    "idx": 15,
    "time": "2020-11-16T08:08:46.486Z",
    "type": "execution"
   },
   {
    "id": "a51ee1730d7c428a93df145515a7e09c",
    "time": "2020-11-16T08:08:46.564Z",
    "type": "completion"
   },
   {
    "code": "# This creates a 90/10 train-validation split on our labeled data\n\nfrom sklearn.model_selection import train_test_split\n\ntrain, val = train_test_split(original_training_data, test_size=0.1, random_state=42)",
    "id": "a69e36db2c2848b596b015931ae88476",
    "idx": 20,
    "time": "2020-11-16T08:09:54.249Z",
    "type": "execution"
   },
   {
    "id": "a69e36db2c2848b596b015931ae88476",
    "time": "2020-11-16T08:09:54.691Z",
    "type": "completion"
   },
   {
    "code": "# Initialize Otter\nimport otter\ngrader = otter.Notebook()",
    "id": "4e95f2506a3a44ca84bdbbb01fccd3af",
    "idx": 0,
    "time": "2020-11-17T07:20:26.453Z",
    "type": "execution"
   },
   {
    "id": "4e95f2506a3a44ca84bdbbb01fccd3af",
    "time": "2020-11-17T07:20:27.013Z",
    "type": "completion"
   },
   {
    "code": "# Run this cell to suppress all FutureWarnings\nimport warnings\nwarnings.filterwarnings(\"ignore\", category=FutureWarning)",
    "id": "d916e8bce97a4af19f9a39a81dd657a7",
    "idx": 5,
    "time": "2020-11-17T07:20:29.023Z",
    "type": "execution"
   },
   {
    "id": "d916e8bce97a4af19f9a39a81dd657a7",
    "time": "2020-11-17T07:20:29.095Z",
    "type": "completion"
   },
   {
    "code": "import numpy as np\nimport pandas as pd\n\nimport matplotlib.pyplot as plt\n%matplotlib inline\n\nimport seaborn as sns\nsns.set(style = \"whitegrid\", \n        color_codes = True,\n        font_scale = 1.5)",
    "id": "341ff9064e5446b89549d268902a7a20",
    "idx": 8,
    "time": "2020-11-17T07:20:30.743Z",
    "type": "execution"
   },
   {
    "code": "from utils import fetch_and_cache_gdrive\nfetch_and_cache_gdrive('1SCASpLZFKCp2zek-toR3xeKX3DZnBSyp', 'train.csv')\nfetch_and_cache_gdrive('1ZDFo9OTF96B5GP2Nzn8P8-AL7CTQXmC0', 'test.csv')\n\noriginal_training_data = pd.read_csv('data/train.csv')\ntest = pd.read_csv('data/test.csv')\n\n# Convert the emails to lower case as a first step to processing the text\noriginal_training_data['email'] = original_training_data['email'].str.lower()\ntest['email'] = test['email'].str.lower()\n\noriginal_training_data.head()",
    "id": "9a50ed15e7e24c57894283ca8abecd7e",
    "idx": 10,
    "time": "2020-11-17T07:20:31.806Z",
    "type": "execution"
   },
   {
    "id": "341ff9064e5446b89549d268902a7a20",
    "time": "2020-11-17T07:20:31.866Z",
    "type": "completion"
   },
   {
    "id": "9a50ed15e7e24c57894283ca8abecd7e",
    "time": "2020-11-17T07:20:32.774Z",
    "type": "completion"
   },
   {
    "code": "print(len(original_training_data[original_training_data['subject'].isnull()]))\nprint(len(original_training_data[original_training_data['email'].isnull()]))\nprint(len(original_training_data[original_training_data['id'].isnull()]))\nprint(len(original_training_data[original_training_data['spam'].isnull()]))\n\noriginal_training_data['subject'].replace(np.nan, '', regex=True,inplace=True)",
    "id": "b5e8b3e61460450c8cb68532e0a52fdb",
    "idx": 12,
    "time": "2020-11-17T07:20:32.798Z",
    "type": "execution"
   },
   {
    "id": "b5e8b3e61460450c8cb68532e0a52fdb",
    "time": "2020-11-17T07:20:32.865Z",
    "type": "completion"
   },
   {
    "code": "grader.check(\"q1a\")",
    "id": "fb1dda4bd1b148cf86e65236068330cb",
    "idx": 13,
    "time": "2020-11-17T07:20:33.404Z",
    "type": "execution"
   },
   {
    "id": "fb1dda4bd1b148cf86e65236068330cb",
    "time": "2020-11-17T07:20:33.504Z",
    "type": "completion"
   },
   {
    "code": "first_ham = original_training_data.groupby(['spam']).first().iloc[0]['email']\nfirst_spam = original_training_data.groupby(['spam']).first().iloc[1]['email']\nprint(first_ham)\nprint(first_spam)",
    "id": "c5f3da52bb6d466c95d3fb36cc46db88",
    "idx": 15,
    "time": "2020-11-17T07:20:34.360Z",
    "type": "execution"
   },
   {
    "id": "c5f3da52bb6d466c95d3fb36cc46db88",
    "time": "2020-11-17T07:20:34.436Z",
    "type": "completion"
   },
   {
    "code": "grader.check(\"q1b\")",
    "id": "9e5af62466fb495b96914c79783f62e6",
    "idx": 16,
    "time": "2020-11-17T07:20:34.920Z",
    "type": "execution"
   },
   {
    "id": "9e5af62466fb495b96914c79783f62e6",
    "time": "2020-11-17T07:20:35.025Z",
    "type": "completion"
   },
   {
    "code": "# This creates a 90/10 train-validation split on our labeled data\n\nfrom sklearn.model_selection import train_test_split\n\ntrain, val = train_test_split(original_training_data, test_size=0.1, random_state=42)",
    "id": "661dddad3b0a45c9b3c05281d2356977",
    "idx": 20,
    "time": "2020-11-17T07:20:37.549Z",
    "type": "execution"
   },
   {
    "id": "661dddad3b0a45c9b3c05281d2356977",
    "time": "2020-11-17T07:20:37.681Z",
    "type": "completion"
   },
   {
    "code": "def words_in_texts(words, texts):\n    '''\n    Args:\n        words (list): words to find\n        texts (Series): strings to search in\n    \n    Returns:\n        NumPy array of 0s and 1s with shape (n, p) where n is the\n        number of texts and p is the number of words.\n    '''\n    indicator_array = np.array([texts.str.contains(i) for i in words]).T*1\n    return indicator_array",
    "id": "a1f6bfaa10f94a42b8d01cc431dc0627",
    "idx": 23,
    "time": "2020-11-17T07:25:46.579Z",
    "type": "execution"
   },
   {
    "id": "a1f6bfaa10f94a42b8d01cc431dc0627",
    "time": "2020-11-17T07:25:46.653Z",
    "type": "completion"
   },
   {
    "code": "grader.check(\"q2\")",
    "id": "6e165bf58ab04d53854c31b57841ffc5",
    "idx": 24,
    "time": "2020-11-17T07:25:50.048Z",
    "type": "execution"
   },
   {
    "id": "6e165bf58ab04d53854c31b57841ffc5",
    "time": "2020-11-17T07:25:50.187Z",
    "type": "completion"
   },
   {
    "code": "from IPython.display import display, Markdown\ndf = pd.DataFrame({\n    'word_1': [1, 0, 1, 0],\n    'word_2': [0, 1, 0, 1],\n    'type': ['spam', 'ham', 'ham', 'ham']\n})\ndisplay(Markdown(\"> Our Original DataFrame has a `type` column and some columns corresponding to words. You can think of each row as a sentence, and the value of 1 or 0 indicates the number of occurences of the word in this sentence.\"))\ndisplay(df);\ndisplay(Markdown(\"> `melt` will turn columns into entries in a variable column. Notice how `word_1` and `word_2` become entries in `variable`; their values are stored in the value column.\"))\ndisplay(df.melt(\"type\"))",
    "id": "7fd21a41c19d45c0abb3a4bfe98b6006",
    "idx": 27,
    "time": "2020-11-17T07:25:57.491Z",
    "type": "execution"
   },
   {
    "id": "7fd21a41c19d45c0abb3a4bfe98b6006",
    "time": "2020-11-17T07:25:57.595Z",
    "type": "completion"
   },
   {
    "code": "train=train.reset_index(drop=True) # We must do this in order to preserve the ordering of emails to labels for words_in_texts\n\nwords = ['improve', 'content', 'dear', 'mime']\nwords_table = pd.DataFrame(words_in_texts(words, train['email']), columns = words)\nwords_table['type']",
    "id": "148975e599f74ed787372c90662f7085",
    "idx": 29,
    "time": "2020-11-17T07:35:54.179Z",
    "type": "execution"
   },
   {
    "id": "148975e599f74ed787372c90662f7085",
    "time": "2020-11-17T07:35:54.567Z",
    "type": "completion"
   },
   {
    "code": "train=train.reset_index(drop=True) # We must do this in order to preserve the ordering of emails to labels for words_in_texts\n\nwords = ['improve', 'content', 'dear', 'mime']\nwords_table = pd.DataFrame(words_in_texts(words, train['email']), columns = words)\nwords_table['type'] = train['spam']\npro_ham = []\npro_spam = []\nfor i in words: \n    x = len(words_table.loc[(words_table['type'] == 0) & (words_table[i]==1)])/len(words_table.loc[words_table['type']==0])\n    pro_ham.append(x)\n    y = len(words_table.loc[(words_table['table']==1) & (words_table[i]==1)])/len(words_table.loc[words_table['type']==1])\n    pro_spam.append(y)\n\nt = {'proportion_ham': pro_ham, 'proportion_spam':pro_spam}\ndf = pd.DataFrame(data = t)\ndf['words'] = words\ndf = df.set_index('words')\nfinal_df = df.plot.bar(rot = 0)\nfinal_df.set(ylabel = 'proportion', xlabel = 'words')",
    "id": "148975e599f74ed787372c90662f7085",
    "idx": 29,
    "time": "2020-11-17T07:41:48.930Z",
    "type": "execution"
   },
   {
    "id": "148975e599f74ed787372c90662f7085",
    "time": "2020-11-17T07:41:49.255Z",
    "type": "completion"
   },
   {
    "code": "sns.distplot(train[train['spam']==0]['email'].str.len(),hist=False,label='ham')\nsns.distplot(train[train['spam']==1]['email'].str.len(),hist=False,label='Spam')\n\nplt.savefig('training_conditional_densities.png')",
    "id": "dc3fdd4d4dfe4ddb83b362a75f327ec3",
    "idx": 32,
    "time": "2020-11-17T07:43:52.334Z",
    "type": "execution"
   },
   {
    "id": "dc3fdd4d4dfe4ddb83b362a75f327ec3",
    "time": "2020-11-17T07:43:52.860Z",
    "type": "completion"
   },
   {
    "code": "sns.distplot(train[train['spam']==0]['email'].str.len(),hist=False,label='ham')\nsns.distplot(train[train['spam']==1]['email'].str.len(),hist=False,label='Spam')\n\nplt.ylabel('Distribution')\nplt.xlabel('Length of email body')\nplt.xlim(0,50000)\nplt.savefig('training_conditional_densities.png')",
    "id": "dc3fdd4d4dfe4ddb83b362a75f327ec3",
    "idx": 32,
    "time": "2020-11-17T07:44:26.761Z",
    "type": "execution"
   },
   {
    "id": "dc3fdd4d4dfe4ddb83b362a75f327ec3",
    "time": "2020-11-17T07:44:27.350Z",
    "type": "completion"
   },
   {
    "code": "some_words = ['drug', 'bank', 'prescription', 'memo', 'private']\n\nX_train = words_in_texts(some_words, train['email'])\nY_train = np.array(train['spam'])\n\nX_train[:5], Y_train[:5]",
    "id": "64e84fcfc8b141a8988c44f08f6192f0",
    "idx": 35,
    "time": "2020-11-17T07:45:25.933Z",
    "type": "execution"
   },
   {
    "id": "64e84fcfc8b141a8988c44f08f6192f0",
    "time": "2020-11-17T07:45:26.163Z",
    "type": "completion"
   },
   {
    "code": "grader.check(\"q4\")",
    "id": "4c1147d85a1447ec9f6e0a7f6a7bb55d",
    "idx": 36,
    "time": "2020-11-17T07:45:28.313Z",
    "type": "execution"
   },
   {
    "id": "4c1147d85a1447ec9f6e0a7f6a7bb55d",
    "time": "2020-11-17T07:45:28.431Z",
    "type": "completion"
   },
   {
    "code": "from sklearn.linear_model import LogisticRegression\n\nmodel = LogisticRegression()\nmodel.fit(X_train, Y_train)\nY_pred = model.predict(X_train)\n\ntraining_accuracy = sum(Y_pred == Y_train)/len(Y_train)\nprint(\"Training Accuracy: \", training_accuracy)",
    "id": "a1be563196d04e87886ad2adca691365",
    "idx": 38,
    "time": "2020-11-17T07:47:57.081Z",
    "type": "execution"
   },
   {
    "id": "a1be563196d04e87886ad2adca691365",
    "time": "2020-11-17T07:47:57.260Z",
    "type": "completion"
   },
   {
    "code": "grader.check(\"q5\")",
    "id": "fc998c165a924aecae136bb20cd9186d",
    "idx": 39,
    "time": "2020-11-17T07:47:58.262Z",
    "type": "execution"
   },
   {
    "id": "fc998c165a924aecae136bb20cd9186d",
    "time": "2020-11-17T07:47:58.366Z",
    "type": "completion"
   },
   {
    "code": "zero_predictor_fp = 0\nzero_predictor_fn = sum(Y_train == 1)\nzero_predictor_fp, zero_predictor_fn",
    "id": "7a042449c8f04671811b80dac66117a3",
    "idx": 43,
    "time": "2020-11-17T07:54:55.682Z",
    "type": "execution"
   },
   {
    "id": "7a042449c8f04671811b80dac66117a3",
    "time": "2020-11-17T07:54:55.801Z",
    "type": "completion"
   },
   {
    "code": "grader.check(\"q6a\")",
    "id": "0e106a57f5d44e1b8f09d0e0efebe29c",
    "idx": 44,
    "time": "2020-11-17T07:54:56.310Z",
    "type": "execution"
   },
   {
    "id": "0e106a57f5d44e1b8f09d0e0efebe29c",
    "time": "2020-11-17T07:54:56.484Z",
    "type": "completion"
   },
   {
    "code": "zero_predictor_acc = (len(Y_train)-Y_train.sum())/len(Y_train)\nzero_predictor_recall = 0\nzero_predictor_acc, zero_predictor_recall",
    "id": "ac735577f99e4ac4b8bc30d9dfcda79e",
    "idx": 46,
    "time": "2020-11-17T07:55:51.153Z",
    "type": "execution"
   },
   {
    "id": "ac735577f99e4ac4b8bc30d9dfcda79e",
    "time": "2020-11-17T07:55:51.222Z",
    "type": "completion"
   },
   {
    "code": "grader.check(\"q6b\")",
    "id": "e6983584069341888f34363e765e0bf5",
    "idx": 47,
    "time": "2020-11-17T07:55:54.085Z",
    "type": "execution"
   },
   {
    "id": "e6983584069341888f34363e765e0bf5",
    "time": "2020-11-17T07:55:54.240Z",
    "type": "completion"
   },
   {
    "code": "logistic_predictor_precision = sum((Y_train==1) & (Y_pred==1))/sum((Y_pred==1))\nlogistic_predictor_recall = sum((Y_train==1) & (Y_pred==1))/sum((Y_train==1))\nlogistic_predictor_far = sum((Y_train==0) & (Y_pred==1))/sum((Y_train==0))",
    "id": "57b1c346698a438f82b64aa66a135de3",
    "idx": 51,
    "time": "2020-11-17T08:00:16.797Z",
    "type": "execution"
   },
   {
    "id": "57b1c346698a438f82b64aa66a135de3",
    "time": "2020-11-17T08:00:16.964Z",
    "type": "completion"
   },
   {
    "code": "grader.check(\"q6d\")",
    "id": "897dd7b8e60046cd83cb576b8d279e51",
    "idx": 52,
    "time": "2020-11-17T08:00:17.537Z",
    "type": "execution"
   },
   {
    "id": "897dd7b8e60046cd83cb576b8d279e51",
    "time": "2020-11-17T08:00:17.708Z",
    "type": "completion"
   }
  ],
  "kernelspec": {
   "display_name": "Python 3",
   "language": "python",
   "name": "python3"
  },
  "language_info": {
   "codemirror_mode": {
    "name": "ipython",
    "version": 3
   },
   "file_extension": ".py",
   "mimetype": "text/x-python",
   "name": "python",
   "nbconvert_exporter": "python",
   "pygments_lexer": "ipython3",
   "version": "3.8.6"
  }
 },
 "nbformat": 4,
 "nbformat_minor": 2
}
